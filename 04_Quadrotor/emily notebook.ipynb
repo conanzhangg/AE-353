{
 "cells": [
  {
   "cell_type": "markdown",
   "id": "bfbe3b46-48c9-4c33-8edf-b475e22b1438",
   "metadata": {},
   "source": [
    "# You may use this as a template for your code and code report. If you do, you MUST remove Markdown cells that were not authored by you."
   ]
  },
  {
   "cell_type": "markdown",
   "id": "78a30e88-b28f-484e-b4cf-cfefa9e8affb",
   "metadata": {},
   "source": [
    "## FIXME: System Linearization and State Space Form"
   ]
  },
  {
   "cell_type": "code",
   "execution_count": 1,
   "id": "ceddc27b-3401-4685-9864-8223cdcc8d7d",
   "metadata": {},
   "outputs": [],
   "source": [
    "import sympy as sym\n",
    "import numpy as np\n",
    "sym.init_printing()"
   ]
  },
  {
   "cell_type": "code",
   "execution_count": 2,
   "id": "b7cac3bd-82dc-4df1-aabe-ed4b7a904c6c",
   "metadata": {},
   "outputs": [],
   "source": [
    "# Get the gravity in m/s^2\n",
    "from ae353_quadrotor import get_gravity\n",
    "planet = \"Earth\"\n",
    "grav = get_gravity(planet, verbose=True)"
   ]
  },
  {
   "cell_type": "code",
   "execution_count": 3,
   "id": "19b299b4-77ea-402d-a286-a647d1e77761",
   "metadata": {},
   "outputs": [],
   "source": [
    "# Mass and moment of inertia of the bus\n",
    "mass = 0.5    # The mass of the quadrotor in kg\n",
    "Ixx = 0.0023  # The moment of inertia of the quadrotor in \n",
    "Iyy = 0.0023  # The mass of the quadrotor in kg\n",
    "Izz = 0.0040  # The mass of the quadrotor in kg\n",
    "lxy = 0.25    # The x or y distance from the quadrotor frame to the mocap markers in meters\n",
    "lz = 0.046875 # The z distance from the quadrotor frame to the mocap markers in meters"
   ]
  },
  {
   "cell_type": "code",
   "execution_count": 4,
   "id": "10d24581-80d3-406b-b3c0-74fc00b060dd",
   "metadata": {},
   "outputs": [],
   "source": [
    "# Define position\n",
    "px_inW, py_inW, pz_inW = sym.symbols('p_x, p_y, p_z')\n",
    "p_inW = sym.Matrix([[px_inW],\n",
    "                    [py_inW],\n",
    "                    [pz_inW]])\n",
    "\n",
    "# Define velocity\n",
    "vx_inB, vy_inB, vz_inB = sym.symbols('v_x, v_y, v_z')\n",
    "v_inB = sym.Matrix([[vx_inB],\n",
    "                    [vy_inB],\n",
    "                    [vz_inB]])\n",
    "\n",
    "# Define roll (phi), pitch (theta), and yaw (psi) angles\n",
    "phi, theta, psi = sym.symbols('phi, theta, psi')\n",
    "\n",
    "# Define angular velocities\n",
    "wx_inB, wy_inB, wz_inB = sym.symbols('omega_x, omega_y, omega_z')\n",
    "w_inB = sym.Matrix([[wx_inB],\n",
    "                    [wy_inB],\n",
    "                    [wz_inB]])\n",
    "\n",
    "# Define roll, pitch, and yaw rotation matrices that describe the bus's orientation in the \n",
    "# world frame\n",
    "Rx = sym.Matrix([[1,            0,             0],\n",
    "                 [0, sym.cos(phi), -sym.sin(phi)],\n",
    "                 [0, sym.sin(phi),  sym.cos(phi)]])\n",
    "Ry = sym.Matrix([[ sym.cos(theta), 0, sym.sin(theta)],\n",
    "                 [              0, 1,              0],\n",
    "                 [-sym.sin(theta), 0, sym.cos(theta)]])\n",
    "Rz = sym.Matrix([[sym.cos(psi), -sym.sin(psi), 0],\n",
    "                 [sym.sin(psi),  sym.cos(psi), 0],\n",
    "                 [           0,             0, 1]])\n",
    "R_ofB_inW = Rz @ Ry @ Rx\n",
    "R_ofW_inB = R_ofB_inW.T"
   ]
  },
  {
   "cell_type": "code",
   "execution_count": 5,
   "id": "1ef51a29-275a-4e79-8b2e-d4116a7665e0",
   "metadata": {},
   "outputs": [],
   "source": [
    "# Define inputs\n",
    "taux_inB, tauy_inB, tauz_inB, fz_inB = sym.symbols('tau_x, tau_y, tau_z, f_z')\n",
    "\n",
    "# Get the net torque vector\n",
    "tau_inB = sym.Matrix([[taux_inB],\n",
    "                      [tauy_inB],\n",
    "                      [tauz_inB]])\n",
    "tau_inB = sym.simplify(tau_inB)\n",
    "\n",
    "# Get the gravity force and convert to body coordiantes\n",
    "grav_inW = sym.Matrix([[0.],\n",
    "                       [0.],\n",
    "                       [-mass * grav]])\n",
    "grav_inB = R_ofW_inB @ grav_inW\n",
    "\n",
    "# Get the net force vector\n",
    "f_inB = grav_inB + sym.Matrix([[0.],\n",
    "                               [0.],\n",
    "                               [fz_inB]])\n",
    "f_inB = sym.simplify(f_inB)"
   ]
  },
  {
   "cell_type": "code",
   "execution_count": 6,
   "id": "456adb86-4343-4b8b-b2d9-829dca4a9104",
   "metadata": {},
   "outputs": [],
   "source": [
    "# Assemble the moment of inertia matrix\n",
    "I_inB = sym.Matrix([[Ixx, 0.,  0.],\n",
    "                    [0.,  Iyy, 0.],\n",
    "                    [0.,  0.,  Izz]])"
   ]
  },
  {
   "cell_type": "code",
   "execution_count": 7,
   "id": "ea721b18-878f-45c4-9e50-b337f86635ef",
   "metadata": {},
   "outputs": [
    {
     "name": "stdout",
     "output_type": "stream",
     "text": [
      "px, py, pz rate as a function of orientation and body-fixed velocities:\n"
     ]
    },
    {
     "data": {
      "text/latex": [
       "$\\displaystyle \\left[\\begin{matrix}v_{x} \\cos{\\left(\\psi \\right)} \\cos{\\left(\\theta \\right)} + v_{y} \\left(\\sin{\\left(\\phi \\right)} \\sin{\\left(\\theta \\right)} \\cos{\\left(\\psi \\right)} - \\sin{\\left(\\psi \\right)} \\cos{\\left(\\phi \\right)}\\right) + v_{z} \\left(\\sin{\\left(\\phi \\right)} \\sin{\\left(\\psi \\right)} + \\sin{\\left(\\theta \\right)} \\cos{\\left(\\phi \\right)} \\cos{\\left(\\psi \\right)}\\right)\\\\v_{x} \\sin{\\left(\\psi \\right)} \\cos{\\left(\\theta \\right)} + v_{y} \\left(\\sin{\\left(\\phi \\right)} \\sin{\\left(\\psi \\right)} \\sin{\\left(\\theta \\right)} + \\cos{\\left(\\phi \\right)} \\cos{\\left(\\psi \\right)}\\right) - v_{z} \\left(\\sin{\\left(\\phi \\right)} \\cos{\\left(\\psi \\right)} - \\sin{\\left(\\psi \\right)} \\sin{\\left(\\theta \\right)} \\cos{\\left(\\phi \\right)}\\right)\\\\- v_{x} \\sin{\\left(\\theta \\right)} + v_{y} \\sin{\\left(\\phi \\right)} \\cos{\\left(\\theta \\right)} + v_{z} \\cos{\\left(\\phi \\right)} \\cos{\\left(\\theta \\right)}\\end{matrix}\\right]$"
      ],
      "text/plain": [
       "⎡vₓ⋅cos(ψ)⋅cos(θ) + v_y⋅(sin(φ)⋅sin(θ)⋅cos(ψ) - sin(ψ)⋅cos(φ)) + v_z⋅(sin(φ)⋅s\n",
       "⎢                                                                             \n",
       "⎢vₓ⋅sin(ψ)⋅cos(θ) + v_y⋅(sin(φ)⋅sin(ψ)⋅sin(θ) + cos(φ)⋅cos(ψ)) - v_z⋅(sin(φ)⋅c\n",
       "⎢                                                                             \n",
       "⎣                            -vₓ⋅sin(θ) + v_y⋅sin(φ)⋅cos(θ) + v_z⋅cos(φ)⋅cos(θ\n",
       "\n",
       "in(ψ) + sin(θ)⋅cos(φ)⋅cos(ψ))⎤\n",
       "                             ⎥\n",
       "os(ψ) - sin(ψ)⋅sin(θ)⋅cos(φ))⎥\n",
       "                             ⎥\n",
       ")                            ⎦"
      ]
     },
     "execution_count": 7,
     "metadata": {},
     "output_type": "execute_result"
    }
   ],
   "source": [
    "v_inW = R_ofB_inW @ v_inB\n",
    "xyz_dot = sym.simplify(v_inW)\n",
    "print(\"px, py, pz rate as a function of orientation and body-fixed velocities:\")\n",
    "sym.N(xyz_dot,3)"
   ]
  },
  {
   "cell_type": "code",
   "execution_count": 8,
   "id": "e1488076-1aae-42f1-b763-42d83697dc2b",
   "metadata": {},
   "outputs": [
    {
     "name": "stdout",
     "output_type": "stream",
     "text": [
      "Body-fixed velocity rates as a function of orientation, body-fixed velocities, and applied forces:\n"
     ]
    },
    {
     "data": {
      "text/latex": [
       "$\\displaystyle \\left[\\begin{matrix}- 1.0 \\omega_{y} v_{z} + 1.0 \\omega_{z} v_{y} + 9.81 \\sin{\\left(\\theta \\right)}\\\\1.0 \\omega_{x} v_{z} - 1.0 \\omega_{z} v_{x} - 9.81 \\sin{\\left(\\phi \\right)} \\cos{\\left(\\theta \\right)}\\\\2.0 f_{z} - 1.0 \\omega_{x} v_{y} + 1.0 \\omega_{y} v_{x} - 9.81 \\cos{\\left(\\phi \\right)} \\cos{\\left(\\theta \\right)}\\end{matrix}\\right]$"
      ],
      "text/plain": [
       "⎡       -ω_y⋅v_z + 1.0⋅ω_z⋅v_y + 9.81⋅sin(θ)       ⎤\n",
       "⎢                                                  ⎥\n",
       "⎢     1.0⋅ωₓ⋅v_z - ω_z⋅vₓ - 9.81⋅sin(φ)⋅cos(θ)     ⎥\n",
       "⎢                                                  ⎥\n",
       "⎣2.0⋅f_z - ωₓ⋅v_y + 1.0⋅ω_y⋅vₓ - 9.81⋅cos(φ)⋅cos(θ)⎦"
      ]
     },
     "execution_count": 8,
     "metadata": {},
     "output_type": "execute_result"
    }
   ],
   "source": [
    "v_inB_dot = (1 / mass) * (f_inB - w_inB.cross(mass * v_inB))\n",
    "v_inB_dot = sym.simplify(v_inB_dot)\n",
    "print(\"Body-fixed velocity rates as a function of orientation, body-fixed velocities, and applied forces:\")\n",
    "sym.N(v_inB_dot,3)"
   ]
  },
  {
   "cell_type": "code",
   "execution_count": 9,
   "id": "b3a6f836-8c3c-4c0e-8141-0ac2e695bccb",
   "metadata": {},
   "outputs": [
    {
     "name": "stdout",
     "output_type": "stream",
     "text": [
      "Roll, pitch, and yaw rate as a function of orientation and body-fixed angular rates:\n"
     ]
    },
    {
     "data": {
      "text/latex": [
       "$\\displaystyle \\left[\\begin{matrix}\\omega_{x} + \\omega_{y} \\sin{\\left(\\phi \\right)} \\tan{\\left(\\theta \\right)} + \\omega_{z} \\cos{\\left(\\phi \\right)} \\tan{\\left(\\theta \\right)}\\\\\\omega_{y} \\cos{\\left(\\phi \\right)} - \\omega_{z} \\sin{\\left(\\phi \\right)}\\\\\\frac{\\omega_{y} \\sin{\\left(\\phi \\right)} + \\omega_{z} \\cos{\\left(\\phi \\right)}}{\\cos{\\left(\\theta \\right)}}\\end{matrix}\\right]$"
      ],
      "text/plain": [
       "⎡ωₓ + ω_y⋅sin(φ)⋅tan(θ) + ω_z⋅cos(φ)⋅tan(θ)⎤\n",
       "⎢                                          ⎥\n",
       "⎢         ω_y⋅cos(φ) - ω_z⋅sin(φ)          ⎥\n",
       "⎢                                          ⎥\n",
       "⎢         ω_y⋅sin(φ) + ω_z⋅cos(φ)          ⎥\n",
       "⎢         ───────────────────────          ⎥\n",
       "⎣                  cos(θ)                  ⎦"
      ]
     },
     "execution_count": 9,
     "metadata": {},
     "output_type": "execute_result"
    }
   ],
   "source": [
    "# Define the transformation that takes roll, pitch, and yaw rates to body-fixed angular rates\n",
    "ex = sym.Matrix([[1], [0], [0]])\n",
    "ey = sym.Matrix([[0], [1], [0]])\n",
    "ez = sym.Matrix([[0], [0], [1]])\n",
    "M = sym.Matrix.hstack(ex, Rx.T@ey, (Ry@Rx).T@ez)\n",
    "\n",
    "# Invert the transformation to get a matrix that takes body-fixed angular rates to \n",
    "# roll, pitch, and yaw rates\n",
    "M_inv = sym.simplify(M.inv())\n",
    "\n",
    "# Convert the body-fixed angular rates to roll, pitch, and yaw rates\n",
    "rpy_dot = sym.simplify(M_inv@w_inB)\n",
    "print(\"Roll, pitch, and yaw rate as a function of orientation and body-fixed angular rates:\")\n",
    "sym.N(rpy_dot,3)"
   ]
  },
  {
   "cell_type": "code",
   "execution_count": 10,
   "id": "cd01268c-5355-4d7b-b749-3fccd265c7e7",
   "metadata": {},
   "outputs": [
    {
     "name": "stdout",
     "output_type": "stream",
     "text": [
      "Time derivative of the angular velocities in the body-fixed frame:\n"
     ]
    },
    {
     "data": {
      "text/latex": [
       "$\\displaystyle \\left[\\begin{matrix}- 0.739 \\omega_{y} \\omega_{z} + 435.0 \\tau_{x}\\\\0.739 \\omega_{x} \\omega_{z} + 435.0 \\tau_{y}\\\\250.0 \\tau_{z}\\end{matrix}\\right]$"
      ],
      "text/plain": [
       "⎡-0.739⋅ω_y⋅ω_z + 435.0⋅τₓ⎤\n",
       "⎢                         ⎥\n",
       "⎢0.739⋅ωₓ⋅ω_z + 435.0⋅τ_y ⎥\n",
       "⎢                         ⎥\n",
       "⎣        250.0⋅τ_z        ⎦"
      ]
     },
     "execution_count": 10,
     "metadata": {},
     "output_type": "execute_result"
    }
   ],
   "source": [
    "# Apply Euler's equation to get the time derivative of the angular velocities of the\n",
    "# quadrotor in the quadrotor frame\n",
    "w_inB_dot = I_inB.inv() @ (tau_inB - w_inB.cross(I_inB@w_inB))\n",
    "w_inB_dot = sym.simplify(w_inB_dot)\n",
    "print(\"Time derivative of the angular velocities in the body-fixed frame:\")\n",
    "sym.N(w_inB_dot, 3)"
   ]
  },
  {
   "cell_type": "code",
   "execution_count": 11,
   "id": "483b3456-3189-46be-a50e-1f333e13fe19",
   "metadata": {},
   "outputs": [],
   "source": [
    "f = sym.Matrix.vstack(xyz_dot,\n",
    "                      v_inB_dot,\n",
    "                      rpy_dot,\n",
    "                      w_inB_dot)"
   ]
  },
  {
   "cell_type": "code",
   "execution_count": 12,
   "id": "614bf37a-ee57-4f3f-8db3-fc1fb9ee9408",
   "metadata": {},
   "outputs": [
    {
     "data": {
      "text/latex": [
       "$\\displaystyle \\left[\\begin{matrix}v_{x} \\cos{\\left(\\psi \\right)} \\cos{\\left(\\theta \\right)} + v_{y} \\left(\\sin{\\left(\\phi \\right)} \\sin{\\left(\\theta \\right)} \\cos{\\left(\\psi \\right)} - \\sin{\\left(\\psi \\right)} \\cos{\\left(\\phi \\right)}\\right) + v_{z} \\left(\\sin{\\left(\\phi \\right)} \\sin{\\left(\\psi \\right)} + \\sin{\\left(\\theta \\right)} \\cos{\\left(\\phi \\right)} \\cos{\\left(\\psi \\right)}\\right)\\\\v_{x} \\sin{\\left(\\psi \\right)} \\cos{\\left(\\theta \\right)} + v_{y} \\left(\\sin{\\left(\\phi \\right)} \\sin{\\left(\\psi \\right)} \\sin{\\left(\\theta \\right)} + \\cos{\\left(\\phi \\right)} \\cos{\\left(\\psi \\right)}\\right) - v_{z} \\left(\\sin{\\left(\\phi \\right)} \\cos{\\left(\\psi \\right)} - \\sin{\\left(\\psi \\right)} \\sin{\\left(\\theta \\right)} \\cos{\\left(\\phi \\right)}\\right)\\\\- v_{x} \\sin{\\left(\\theta \\right)} + v_{y} \\sin{\\left(\\phi \\right)} \\cos{\\left(\\theta \\right)} + v_{z} \\cos{\\left(\\phi \\right)} \\cos{\\left(\\theta \\right)}\\\\- 1.0 \\omega_{y} v_{z} + 1.0 \\omega_{z} v_{y} + 9.81 \\sin{\\left(\\theta \\right)}\\\\1.0 \\omega_{x} v_{z} - 1.0 \\omega_{z} v_{x} - 9.81 \\sin{\\left(\\phi \\right)} \\cos{\\left(\\theta \\right)}\\\\2.0 f_{z} - 1.0 \\omega_{x} v_{y} + 1.0 \\omega_{y} v_{x} - 9.81 \\cos{\\left(\\phi \\right)} \\cos{\\left(\\theta \\right)}\\\\\\omega_{x} + \\omega_{y} \\sin{\\left(\\phi \\right)} \\tan{\\left(\\theta \\right)} + \\omega_{z} \\cos{\\left(\\phi \\right)} \\tan{\\left(\\theta \\right)}\\\\\\omega_{y} \\cos{\\left(\\phi \\right)} - \\omega_{z} \\sin{\\left(\\phi \\right)}\\\\\\frac{\\omega_{y} \\sin{\\left(\\phi \\right)} + \\omega_{z} \\cos{\\left(\\phi \\right)}}{\\cos{\\left(\\theta \\right)}}\\\\- 0.739 \\omega_{y} \\omega_{z} + 435.0 \\tau_{x}\\\\0.739 \\omega_{x} \\omega_{z} + 435.0 \\tau_{y}\\\\250.0 \\tau_{z}\\end{matrix}\\right]$"
      ],
      "text/plain": [
       "⎡vₓ⋅cos(ψ)⋅cos(θ) + v_y⋅(sin(φ)⋅sin(θ)⋅cos(ψ) - sin(ψ)⋅cos(φ)) + v_z⋅(sin(φ)⋅s\n",
       "⎢                                                                             \n",
       "⎢vₓ⋅sin(ψ)⋅cos(θ) + v_y⋅(sin(φ)⋅sin(ψ)⋅sin(θ) + cos(φ)⋅cos(ψ)) - v_z⋅(sin(φ)⋅c\n",
       "⎢                                                                             \n",
       "⎢                            -vₓ⋅sin(θ) + v_y⋅sin(φ)⋅cos(θ) + v_z⋅cos(φ)⋅cos(θ\n",
       "⎢                                                                             \n",
       "⎢                                   -ω_y⋅v_z + 1.0⋅ω_z⋅v_y + 9.81⋅sin(θ)      \n",
       "⎢                                                                             \n",
       "⎢                                 1.0⋅ωₓ⋅v_z - ω_z⋅vₓ - 9.81⋅sin(φ)⋅cos(θ)    \n",
       "⎢                                                                             \n",
       "⎢                            2.0⋅f_z - ωₓ⋅v_y + 1.0⋅ω_y⋅vₓ - 9.81⋅cos(φ)⋅cos(θ\n",
       "⎢                                                                             \n",
       "⎢                                ωₓ + ω_y⋅sin(φ)⋅tan(θ) + ω_z⋅cos(φ)⋅tan(θ)   \n",
       "⎢                                                                             \n",
       "⎢                                         ω_y⋅cos(φ) - ω_z⋅sin(φ)             \n",
       "⎢                                                                             \n",
       "⎢                                         ω_y⋅sin(φ) + ω_z⋅cos(φ)             \n",
       "⎢                                         ───────────────────────             \n",
       "⎢                                                  cos(θ)                     \n",
       "⎢                                                                             \n",
       "⎢                                        -0.739⋅ω_y⋅ω_z + 435.0⋅τₓ            \n",
       "⎢                                                                             \n",
       "⎢                                         0.739⋅ωₓ⋅ω_z + 435.0⋅τ_y            \n",
       "⎢                                                                             \n",
       "⎣                                                250.0⋅τ_z                    \n",
       "\n",
       "in(ψ) + sin(θ)⋅cos(φ)⋅cos(ψ))⎤\n",
       "                             ⎥\n",
       "os(ψ) - sin(ψ)⋅sin(θ)⋅cos(φ))⎥\n",
       "                             ⎥\n",
       ")                            ⎥\n",
       "                             ⎥\n",
       "                             ⎥\n",
       "                             ⎥\n",
       "                             ⎥\n",
       "                             ⎥\n",
       ")                            ⎥\n",
       "                             ⎥\n",
       "                             ⎥\n",
       "                             ⎥\n",
       "                             ⎥\n",
       "                             ⎥\n",
       "                             ⎥\n",
       "                             ⎥\n",
       "                             ⎥\n",
       "                             ⎥\n",
       "                             ⎥\n",
       "                             ⎥\n",
       "                             ⎥\n",
       "                             ⎥\n",
       "                             ⎦"
      ]
     },
     "execution_count": 12,
     "metadata": {},
     "output_type": "execute_result"
    }
   ],
   "source": [
    "sym.N(f,3)"
   ]
  },
  {
   "cell_type": "code",
   "execution_count": 13,
   "id": "b1269d3b-bb00-497a-b915-b041cd46d8a6",
   "metadata": {},
   "outputs": [],
   "source": [
    "# Position of markers in body frame\n",
    "mark1_inB = sym.Matrix([[lxy],\n",
    "                        [0.],\n",
    "                        [lz]])\n",
    "mark2_inB = sym.Matrix([[0.],\n",
    "                        [lxy],\n",
    "                        [lz]])\n",
    "mark3_inB = sym.Matrix([[-lxy],\n",
    "                        [0.],\n",
    "                        [lz]])\n",
    "mark4_inB = sym.Matrix([[0.],\n",
    "                        [-lxy],\n",
    "                        [lz]])\n",
    "\n",
    "# Position of markers in world frame\n",
    "mark1_inW = p_inW + R_ofB_inW @ mark1_inB\n",
    "mark2_inW = p_inW + R_ofB_inW @ mark2_inB\n",
    "mark3_inW = p_inW + R_ofB_inW @ mark3_inB\n",
    "mark4_inW = p_inW + R_ofB_inW @ mark4_inB\n",
    "\n",
    "# Sensor model\n",
    "g = sym.simplify(sym.Matrix.vstack(mark1_inW, mark2_inW, mark3_inW, mark4_inW))"
   ]
  },
  {
   "cell_type": "code",
   "execution_count": 14,
   "id": "fc273a93-2955-46a9-9c05-2ee11680e35e",
   "metadata": {},
   "outputs": [
    {
     "data": {
      "text/latex": [
       "$\\displaystyle \\left[\\begin{matrix}p_{x} + 0.0469 \\sin{\\left(\\phi \\right)} \\sin{\\left(\\psi \\right)} + 0.0469 \\sin{\\left(\\theta \\right)} \\cos{\\left(\\phi \\right)} \\cos{\\left(\\psi \\right)} + 0.25 \\cos{\\left(\\psi \\right)} \\cos{\\left(\\theta \\right)}\\\\p_{y} - 0.0469 \\sin{\\left(\\phi \\right)} \\cos{\\left(\\psi \\right)} + 0.0469 \\sin{\\left(\\psi \\right)} \\sin{\\left(\\theta \\right)} \\cos{\\left(\\phi \\right)} + 0.25 \\sin{\\left(\\psi \\right)} \\cos{\\left(\\theta \\right)}\\\\p_{z} - 0.25 \\sin{\\left(\\theta \\right)} + 0.0469 \\cos{\\left(\\phi \\right)} \\cos{\\left(\\theta \\right)}\\\\p_{x} + 0.0469 \\sin{\\left(\\phi \\right)} \\sin{\\left(\\psi \\right)} + 0.25 \\sin{\\left(\\phi \\right)} \\sin{\\left(\\theta \\right)} \\cos{\\left(\\psi \\right)} - 0.25 \\sin{\\left(\\psi \\right)} \\cos{\\left(\\phi \\right)} + 0.0469 \\sin{\\left(\\theta \\right)} \\cos{\\left(\\phi \\right)} \\cos{\\left(\\psi \\right)}\\\\p_{y} + 0.25 \\sin{\\left(\\phi \\right)} \\sin{\\left(\\psi \\right)} \\sin{\\left(\\theta \\right)} - 0.0469 \\sin{\\left(\\phi \\right)} \\cos{\\left(\\psi \\right)} + 0.0469 \\sin{\\left(\\psi \\right)} \\sin{\\left(\\theta \\right)} \\cos{\\left(\\phi \\right)} + 0.25 \\cos{\\left(\\phi \\right)} \\cos{\\left(\\psi \\right)}\\\\p_{z} + 0.25 \\sin{\\left(\\phi \\right)} \\cos{\\left(\\theta \\right)} + 0.0469 \\cos{\\left(\\phi \\right)} \\cos{\\left(\\theta \\right)}\\\\p_{x} + 0.0469 \\sin{\\left(\\phi \\right)} \\sin{\\left(\\psi \\right)} + 0.0469 \\sin{\\left(\\theta \\right)} \\cos{\\left(\\phi \\right)} \\cos{\\left(\\psi \\right)} - 0.25 \\cos{\\left(\\psi \\right)} \\cos{\\left(\\theta \\right)}\\\\p_{y} - 0.0469 \\sin{\\left(\\phi \\right)} \\cos{\\left(\\psi \\right)} + 0.0469 \\sin{\\left(\\psi \\right)} \\sin{\\left(\\theta \\right)} \\cos{\\left(\\phi \\right)} - 0.25 \\sin{\\left(\\psi \\right)} \\cos{\\left(\\theta \\right)}\\\\p_{z} + 0.25 \\sin{\\left(\\theta \\right)} + 0.0469 \\cos{\\left(\\phi \\right)} \\cos{\\left(\\theta \\right)}\\\\p_{x} + 0.0469 \\sin{\\left(\\phi \\right)} \\sin{\\left(\\psi \\right)} - 0.25 \\sin{\\left(\\phi \\right)} \\sin{\\left(\\theta \\right)} \\cos{\\left(\\psi \\right)} + 0.25 \\sin{\\left(\\psi \\right)} \\cos{\\left(\\phi \\right)} + 0.0469 \\sin{\\left(\\theta \\right)} \\cos{\\left(\\phi \\right)} \\cos{\\left(\\psi \\right)}\\\\p_{y} - 0.25 \\sin{\\left(\\phi \\right)} \\sin{\\left(\\psi \\right)} \\sin{\\left(\\theta \\right)} - 0.0469 \\sin{\\left(\\phi \\right)} \\cos{\\left(\\psi \\right)} + 0.0469 \\sin{\\left(\\psi \\right)} \\sin{\\left(\\theta \\right)} \\cos{\\left(\\phi \\right)} - 0.25 \\cos{\\left(\\phi \\right)} \\cos{\\left(\\psi \\right)}\\\\p_{z} - 0.25 \\sin{\\left(\\phi \\right)} \\cos{\\left(\\theta \\right)} + 0.0469 \\cos{\\left(\\phi \\right)} \\cos{\\left(\\theta \\right)}\\end{matrix}\\right]$"
      ],
      "text/plain": [
       "⎡              pₓ + 0.0469⋅sin(φ)⋅sin(ψ) + 0.0469⋅sin(θ)⋅cos(φ)⋅cos(ψ) + 0.25⋅\n",
       "⎢                                                                             \n",
       "⎢              p_y - 0.0469⋅sin(φ)⋅cos(ψ) + 0.0469⋅sin(ψ)⋅sin(θ)⋅cos(φ) + 0.25\n",
       "⎢                                                                             \n",
       "⎢                                p_z - 0.25⋅sin(θ) + 0.0469⋅cos(φ)⋅cos(θ)     \n",
       "⎢                                                                             \n",
       "⎢pₓ + 0.0469⋅sin(φ)⋅sin(ψ) + 0.25⋅sin(φ)⋅sin(θ)⋅cos(ψ) - 0.25⋅sin(ψ)⋅cos(φ) + \n",
       "⎢                                                                             \n",
       "⎢p_y + 0.25⋅sin(φ)⋅sin(ψ)⋅sin(θ) - 0.0469⋅sin(φ)⋅cos(ψ) + 0.0469⋅sin(ψ)⋅sin(θ)\n",
       "⎢                                                                             \n",
       "⎢                             p_z + 0.25⋅sin(φ)⋅cos(θ) + 0.0469⋅cos(φ)⋅cos(θ) \n",
       "⎢                                                                             \n",
       "⎢              pₓ + 0.0469⋅sin(φ)⋅sin(ψ) + 0.0469⋅sin(θ)⋅cos(φ)⋅cos(ψ) - 0.25⋅\n",
       "⎢                                                                             \n",
       "⎢              p_y - 0.0469⋅sin(φ)⋅cos(ψ) + 0.0469⋅sin(ψ)⋅sin(θ)⋅cos(φ) - 0.25\n",
       "⎢                                                                             \n",
       "⎢                                p_z + 0.25⋅sin(θ) + 0.0469⋅cos(φ)⋅cos(θ)     \n",
       "⎢                                                                             \n",
       "⎢pₓ + 0.0469⋅sin(φ)⋅sin(ψ) - 0.25⋅sin(φ)⋅sin(θ)⋅cos(ψ) + 0.25⋅sin(ψ)⋅cos(φ) + \n",
       "⎢                                                                             \n",
       "⎢p_y - 0.25⋅sin(φ)⋅sin(ψ)⋅sin(θ) - 0.0469⋅sin(φ)⋅cos(ψ) + 0.0469⋅sin(ψ)⋅sin(θ)\n",
       "⎢                                                                             \n",
       "⎣                             p_z - 0.25⋅sin(φ)⋅cos(θ) + 0.0469⋅cos(φ)⋅cos(θ) \n",
       "\n",
       "cos(ψ)⋅cos(θ)               ⎤\n",
       "                            ⎥\n",
       "⋅sin(ψ)⋅cos(θ)              ⎥\n",
       "                            ⎥\n",
       "                            ⎥\n",
       "                            ⎥\n",
       "0.0469⋅sin(θ)⋅cos(φ)⋅cos(ψ) ⎥\n",
       "                            ⎥\n",
       "⋅cos(φ) + 0.25⋅cos(φ)⋅cos(ψ)⎥\n",
       "                            ⎥\n",
       "                            ⎥\n",
       "                            ⎥\n",
       "cos(ψ)⋅cos(θ)               ⎥\n",
       "                            ⎥\n",
       "⋅sin(ψ)⋅cos(θ)              ⎥\n",
       "                            ⎥\n",
       "                            ⎥\n",
       "                            ⎥\n",
       "0.0469⋅sin(θ)⋅cos(φ)⋅cos(ψ) ⎥\n",
       "                            ⎥\n",
       "⋅cos(φ) - 0.25⋅cos(φ)⋅cos(ψ)⎥\n",
       "                            ⎥\n",
       "                            ⎦"
      ]
     },
     "execution_count": 14,
     "metadata": {},
     "output_type": "execute_result"
    }
   ],
   "source": [
    "sym.N(g,3)"
   ]
  },
  {
   "cell_type": "code",
   "execution_count": 15,
   "id": "bd0774ab-48d9-4a28-ae54-401ff5fbadaf",
   "metadata": {},
   "outputs": [
    {
     "name": "stdout",
     "output_type": "stream",
     "text": [
      "[[0.]\n",
      " [0.]\n",
      " [0.]\n",
      " [0.]\n",
      " [0.]\n",
      " [0.]\n",
      " [0.]\n",
      " [0.]\n",
      " [0.]\n",
      " [0.]\n",
      " [0.]\n",
      " [0.]]\n",
      "A =\n",
      "[[ 0.    0.    0.    1.    0.    0.    0.    0.    0.    0.    0.    0.  ]\n",
      " [ 0.    0.    0.    0.    1.    0.    0.    0.    0.    0.    0.    0.  ]\n",
      " [ 0.    0.    0.   -0.    0.    1.    0.   -0.    0.    0.    0.    0.  ]\n",
      " [ 0.    0.    0.    0.    0.   -0.    0.    9.81  0.    0.   -0.    0.  ]\n",
      " [ 0.    0.    0.   -0.    0.    0.   -9.81  0.    0.    0.    0.   -0.  ]\n",
      " [ 0.    0.    0.    0.   -0.    0.    0.    0.    0.   -0.    0.    0.  ]\n",
      " [ 0.    0.    0.    0.    0.    0.    0.    0.    0.    1.    0.    0.  ]\n",
      " [ 0.    0.    0.    0.    0.    0.   -0.    0.    0.    0.    1.   -0.  ]\n",
      " [ 0.    0.    0.    0.    0.    0.    0.    0.    0.    0.    0.    1.  ]\n",
      " [ 0.    0.    0.    0.    0.    0.    0.    0.    0.    0.   -0.   -0.  ]\n",
      " [ 0.    0.    0.    0.    0.    0.    0.    0.    0.    0.    0.    0.  ]\n",
      " [ 0.    0.    0.    0.    0.    0.    0.    0.    0.    0.    0.    0.  ]]\n",
      "\n",
      "(12, 12)\n",
      "B =\n",
      "[[  0.          0.          0.          0.       ]\n",
      " [  0.          0.          0.          0.       ]\n",
      " [  0.          0.          0.          0.       ]\n",
      " [  0.          0.          0.          0.       ]\n",
      " [  0.          0.          0.          0.       ]\n",
      " [  0.          0.          0.          2.       ]\n",
      " [  0.          0.          0.          0.       ]\n",
      " [  0.          0.          0.          0.       ]\n",
      " [  0.          0.          0.          0.       ]\n",
      " [434.7826087   0.          0.          0.       ]\n",
      " [  0.        434.7826087   0.          0.       ]\n",
      " [  0.          0.        250.          0.       ]]\n",
      "\n",
      "(12, 4)\n",
      "C =\n",
      "[[ 1.        0.        0.        0.        0.        0.        0.\n",
      "   0.046875  0.        0.        0.        0.      ]\n",
      " [ 0.        1.        0.        0.        0.        0.       -0.046875\n",
      "   0.        0.25      0.        0.        0.      ]\n",
      " [ 0.        0.        1.        0.        0.        0.       -0.\n",
      "  -0.25      0.        0.        0.        0.      ]\n",
      " [ 1.        0.        0.        0.        0.        0.        0.\n",
      "   0.046875 -0.25      0.        0.        0.      ]\n",
      " [ 0.        1.        0.        0.        0.        0.       -0.046875\n",
      "   0.        0.        0.        0.        0.      ]\n",
      " [ 0.        0.        1.        0.        0.        0.        0.25\n",
      "  -0.        0.        0.        0.        0.      ]\n",
      " [ 1.        0.        0.        0.        0.        0.        0.\n",
      "   0.046875  0.        0.        0.        0.      ]\n",
      " [ 0.        1.        0.        0.        0.        0.       -0.046875\n",
      "   0.       -0.25      0.        0.        0.      ]\n",
      " [ 0.        0.        1.        0.        0.        0.       -0.\n",
      "   0.25      0.        0.        0.        0.      ]\n",
      " [ 1.        0.        0.        0.        0.        0.        0.\n",
      "   0.046875  0.25      0.        0.        0.      ]\n",
      " [ 0.        1.        0.        0.        0.        0.       -0.046875\n",
      "   0.        0.        0.        0.        0.      ]\n",
      " [ 0.        0.        1.        0.        0.        0.       -0.25\n",
      "   0.        0.        0.        0.        0.      ]]\n",
      "\n",
      "(12, 12)\n",
      "D =\n",
      "[[0 0 0 0]\n",
      " [0 0 0 0]\n",
      " [0 0 0 0]\n",
      " [0 0 0 0]\n",
      " [0 0 0 0]\n",
      " [0 0 0 0]\n",
      " [0 0 0 0]\n",
      " [0 0 0 0]\n",
      " [0 0 0 0]\n",
      " [0 0 0 0]\n",
      " [0 0 0 0]\n",
      " [0 0 0 0]]\n",
      "\n",
      "(12, 4)\n"
     ]
    }
   ],
   "source": [
    "# FIXME: Find an equilibrium point and linearize the system into state space form\n",
    "from ae353_quadrotor import *\n",
    "\n",
    "from sympy import *\n",
    "px_e = 0. # m\n",
    "py_e = 0. # m\n",
    "pz_e = 0. # m\n",
    "psi_e = 0. # rad\n",
    "theta_e = 0. # rad\n",
    "phi_e = 0. # rad\n",
    "vx_e = 0. # rad\n",
    "vy_e = 0. # rad\n",
    "vz_e = 0. # rad\n",
    "omegax_e = 0. # rad\n",
    "omegay_e = 0. # rad\n",
    "omegaz_e = 0. # rad\n",
    "taux_e = 0. # rad\n",
    "tauy_e = 0. # rad\n",
    "tauz_e = 0. # rad\n",
    "fz_e = 4.905 # rad\n",
    "\n",
    "m_e = np.array([0, 0, 0, 0, 0, 0, 0, 0, 0, 0, 0, 0])\n",
    "n_e = np.array([0, 0, 0, fz_e])\n",
    "\n",
    "f_num = lambdify([px_inW, py_inW, pz_inW, vx_inB, vy_inB, vz_inB, phi, theta, psi, wx_inB, wy_inB, wz_inB, taux_inB, tauy_inB, tauz_inB, fz_inB], f)\n",
    "f_eq = f_num(px_e, py_e, pz_e, psi_e, theta_e, phi_e, vx_e, vy_e, vz_e, omegax_e, omegay_e, omegaz_e, taux_e, tauy_e, tauz_e, fz_e)\n",
    "print(f_eq)\n",
    "\n",
    "g_num = lambdify([px_inW, py_inW, pz_inW, vx_inB, vy_inB, vz_inB, phi, theta, psi, wx_inB, wy_inB, wz_inB, taux_inB, tauy_inB, tauz_inB, fz_inB], g)\n",
    "g_eq = g_num(px_e, py_e, pz_e, psi_e, theta_e, phi_e, vx_e, vy_e, vz_e, omegax_e, omegay_e, omegaz_e, taux_e, tauy_e, tauz_e, fz_e)\n",
    "g_eq = g_eq.reshape(12,)\n",
    "\n",
    "f.jacobian([px_inW, py_inW, pz_inW, vx_inB, vy_inB, vz_inB, phi, theta, psi, wx_inB, wy_inB, wz_inB, taux_inB, tauy_inB, tauz_inB, fz_inB])\n",
    "# Create lambda function\n",
    "A_num = sym.lambdify((px_inW, py_inW, pz_inW, vx_inB, vy_inB, vz_inB, phi, theta, psi, wx_inB, wy_inB, wz_inB, taux_inB, tauy_inB, tauz_inB, fz_inB), f.jacobian([px_inW, py_inW, pz_inW, vx_inB, vy_inB, vz_inB, phi, theta, psi, wx_inB, wy_inB, wz_inB]))\n",
    "\n",
    "# Evaluate lambda function at equilibrium point\n",
    "A = A_num(px_e, py_e, pz_e, psi_e, theta_e, phi_e, vx_e, vy_e, vz_e, omegax_e, omegay_e, omegaz_e, taux_e, tauy_e, tauz_e, fz_e)\n",
    "\n",
    "# Create lambda functions\n",
    "B_num = sym.lambdify([px_inW, py_inW, pz_inW, vx_inB, vy_inB, vz_inB, phi, theta, psi, wx_inB, wy_inB, wz_inB, taux_inB, tauy_inB, tauz_inB, fz_inB], f.jacobian([taux_inB, tauy_inB, tauz_inB, fz_inB]), 'numpy')\n",
    "\n",
    "# Evaluate lambda function at equilibrium point\n",
    "B = B_num(px_e, py_e, pz_e, psi_e, theta_e, phi_e, vx_e, vy_e, vz_e, omegax_e, omegay_e, omegaz_e, taux_e, tauy_e, tauz_e, fz_e)\n",
    "\n",
    "C_num = lambdify([px_inW, py_inW, pz_inW, vx_inB, vy_inB, vz_inB, phi, theta, psi, wx_inB, wy_inB, wz_inB, taux_inB, tauy_inB, tauz_inB, fz_inB], \n",
    "                 g.jacobian([px_inW, py_inW, pz_inW, vx_inB, vy_inB, vz_inB, phi, theta, psi, wx_inB, wy_inB, wz_inB]))\n",
    "C = C_num(px_e, py_e, pz_e, psi_e, theta_e, phi_e, vx_e, vy_e, vz_e, omegax_e, omegay_e, omegaz_e, taux_e, tauy_e, tauz_e, fz_e)\n",
    "\n",
    "D_num = lambdify([px_inW, py_inW, pz_inW, vx_inB, vy_inB, vz_inB, phi, theta, psi, wx_inB, wy_inB, wz_inB, taux_inB, tauy_inB, tauz_inB, fz_inB], \n",
    "                 g.jacobian([taux_inB, tauy_inB, tauz_inB, fz_inB]))\n",
    "D = D_num(px_e, py_e, pz_e, psi_e, theta_e, phi_e, vx_e, vy_e, vz_e, omegax_e, omegay_e, omegaz_e, taux_e, tauy_e, tauz_e, fz_e)\n",
    "\n",
    "# Display the result\n",
    "print(f'A =\\n{A}\\n')\n",
    "print(A.shape)\n",
    "print(f'B =\\n{B}\\n')\n",
    "print(B.shape)\n",
    "print(f'C =\\n{C}\\n')\n",
    "print(C.shape)\n",
    "print(f'D =\\n{D}\\n')\n",
    "print(D.shape)\n"
   ]
  },
  {
   "cell_type": "markdown",
   "id": "5309a767-b2bb-44a7-bb9c-d915946bdc1a",
   "metadata": {},
   "source": [
    "## FIXME: Gain Selection and Controller Design"
   ]
  },
  {
   "cell_type": "code",
   "execution_count": 16,
   "id": "efc14387-28dd-48c2-b9f0-7042b307f3bd",
   "metadata": {},
   "outputs": [
    {
     "name": "stdout",
     "output_type": "stream",
     "text": [
      "True\n",
      "(12, 48)\n",
      "True\n",
      "(144, 12)\n"
     ]
    }
   ],
   "source": [
    "# FIXME: Select a set of control and observer gains. Ensure the resultant system is stable. Implement your controller below.\n",
    "# Checking Controllability\n",
    "n = A.shape[0]\n",
    "Wc = B\n",
    "for i in range(1, n):\n",
    "    col = np.linalg.matrix_power(A, i) @ B\n",
    "    Wc = np.block([Wc, col])\n",
    "print(np.linalg.matrix_rank(Wc) == n)\n",
    "print(Wc.shape)\n",
    "\n",
    "# Checking for Observability\n",
    "n = np.shape(A)[0]\n",
    "Wo = C\n",
    "for i in range(1, n):\n",
    "    col = C@np.linalg.matrix_power(A, i)\n",
    "    Wo = np.block([[Wo], [col]])\n",
    "print(np.linalg.matrix_rank(Wo) == n)\n",
    "print(Wo.shape)"
   ]
  },
  {
   "cell_type": "code",
   "execution_count": 17,
   "id": "2e5c805c-5758-4f8d-b945-b917deb0c065",
   "metadata": {},
   "outputs": [],
   "source": [
    "from scipy import linalg\n",
    "def lqr(A,B,Q,R):\n",
    "    P = linalg.solve_continuous_are(A, B, Q, R)\n",
    "    K = linalg.inv(R) @  B.T @ P\n",
    "    return K"
   ]
  },
  {
   "cell_type": "code",
   "execution_count": 18,
   "id": "741fbad3-6010-4e64-b9b5-e47486cd7947",
   "metadata": {},
   "outputs": [
    {
     "data": {
      "text/latex": [
       "$\\displaystyle \\left[\\begin{array}{cccccccccccc}2.9374804585511 \\cdot 10^{-15} & -0.999999999999999 & 1.14981763858077 \\cdot 10^{-16} & 5.08912342858674 \\cdot 10^{-16} & -1.45381723139033 & 4.25482436275894 \\cdot 10^{-16} & 5.46213217992005 & -2.87083879324342 \\cdot 10^{-15} & -1.14940411270125 \\cdot 10^{-16} & 1.01248496681562 & -6.44300884937189 \\cdot 10^{-17} & 9.88280782139638 \\cdot 10^{-16}\\\\0.999999999999998 & 6.17317562947598 \\cdot 10^{-15} & -1.24776593082889 \\cdot 10^{-15} & 1.45381723139033 & 2.30716928665417 \\cdot 10^{-15} & -7.94479603212576 \\cdot 10^{-16} & -3.55489580983745 \\cdot 10^{-15} & 5.46213217992003 & 2.89524077035614 \\cdot 10^{-16} & -6.44300884937189 \\cdot 10^{-17} & 1.01248496681562 & 2.63346618831155 \\cdot 10^{-16}\\\\2.43299909574285 \\cdot 10^{-15} & -1.61426080424604 \\cdot 10^{-15} & -1.05013547673617 \\cdot 10^{-15} & 5.04213446327273 \\cdot 10^{-15} & -2.56109288364565 \\cdot 10^{-15} & -2.7489104370163 \\cdot 10^{-16} & 7.37503249186675 \\cdot 10^{-15} & 5.5227874695056 \\cdot 10^{-15} & 1.0 & 5.68261449730292 \\cdot 10^{-16} & 1.51424305827914 \\cdot 10^{-16} & 1.00399203184089\\\\-6.60357872255238 \\cdot 10^{-16} & -1.16999131698943 \\cdot 10^{-16} & 1.0 & -4.58492980725247 \\cdot 10^{-16} & -8.88659680329935 \\cdot 10^{-17} & 1.4142135623731 & 8.1301052035293 \\cdot 10^{-16} & -1.57402087495326 \\cdot 10^{-15} & -1.82617139545108 \\cdot 10^{-17} & 1.95721920686911 \\cdot 10^{-18} & -3.65460617477785 \\cdot 10^{-18} & -2.19912834961304 \\cdot 10^{-18}\\end{array}\\right]$"
      ],
      "text/plain": [
       "⎡ 2.9374804585511e-15    -0.999999999999999    1.14981763858077e-16   5.089123\n",
       "⎢                                                                             \n",
       "⎢  0.999999999999998    6.17317562947598e-15   -1.24776593082889e-15    1.4538\n",
       "⎢                                                                             \n",
       "⎢2.43299909574285e-15   -1.61426080424604e-15  -1.05013547673617e-15  5.042134\n",
       "⎢                                                                             \n",
       "⎣-6.60357872255238e-16  -1.16999131698943e-16           1.0           -4.58492\n",
       "\n",
       "42858674e-16     -1.45381723139033    4.25482436275894e-16     5.4621321799200\n",
       "                                                                              \n",
       "1723139033     2.30716928665417e-15   -7.94479603212576e-16  -3.55489580983745\n",
       "                                                                              \n",
       "46327273e-15   -2.56109288364565e-15  -2.7489104370163e-16   7.37503249186675e\n",
       "                                                                              \n",
       "980725247e-16  -8.88659680329935e-17     1.4142135623731      8.1301052035293e\n",
       "\n",
       "5     -2.87083879324342e-15  -1.14940411270125e-16    1.01248496681562     -6.\n",
       "                                                                              \n",
       "e-15    5.46213217992003     2.89524077035614e-16   -6.44300884937189e-17    1\n",
       "                                                                              \n",
       "-15    5.5227874695056e-15            1.0           5.68261449730292e-16   1.5\n",
       "                                                                              \n",
       "-16   -1.57402087495326e-15  -1.82617139545108e-17  1.95721920686911e-18   -3.\n",
       "\n",
       "44300884937189e-17  9.88280782139638e-16 ⎤\n",
       "                                         ⎥\n",
       ".01248496681562     2.63346618831155e-16 ⎥\n",
       "                                         ⎥\n",
       "1424305827914e-16     1.00399203184089   ⎥\n",
       "                                         ⎥\n",
       "65460617477785e-18  -2.19912834961304e-18⎦"
      ]
     },
     "execution_count": 18,
     "metadata": {},
     "output_type": "execute_result"
    }
   ],
   "source": [
    "Q = np.diag([1, 1, 1, 1, 1, 1, 1, 1, 1, 1, 1, 1])\n",
    "R = np.diag([1,1,1,1])\n",
    "K = lqr(A,B,Q,R)\n",
    "Matrix(K)"
   ]
  },
  {
   "cell_type": "code",
   "execution_count": 19,
   "id": "2a5d9f6c-696e-4eda-ae4c-b87a81ff1974",
   "metadata": {},
   "outputs": [
    {
     "data": {
      "text/latex": [
       "$\\displaystyle \\left[\\begin{array}{cccccccccccc}1.6029062077909 & 3.42419815333575 \\cdot 10^{-16} & -0.190234588600967 & 1.6029062077909 & 3.35198706042821 \\cdot 10^{-16} & -6.18544002171761 \\cdot 10^{-17} & 1.6029062077909 & 3.27977596752067 \\cdot 10^{-16} & 0.190234588600967 & 1.6029062077909 & 3.35198706042821 \\cdot 10^{-16} & 1.22086123931074 \\cdot 10^{-16}\\\\3.45240398767894 \\cdot 10^{-16} & 1.60290620779089 & -2.33966253444588 \\cdot 10^{-16} & 2.1088812043332 \\cdot 10^{-16} & 1.60290620779089 & -0.190234588600966 & 3.45240398767894 \\cdot 10^{-16} & 1.60290620779089 & 5.70856597711105 \\cdot 10^{-17} & 4.79592677102468 \\cdot 10^{-16} & 1.60290620779089 & 0.190234588600966\\\\2.98540352686844 \\cdot 10^{-17} & -2.18462788811759 \\cdot 10^{-16} & 0.707106781186548 & 1.62655494420122 \\cdot 10^{-16} & -8.56613296603215 \\cdot 10^{-17} & 0.707106781186548 & 2.98540352686844 \\cdot 10^{-17} & 4.71401294911158 \\cdot 10^{-17} & 0.707106781186548 & -1.02947423882753 \\cdot 10^{-16} & -8.56613296603215 \\cdot 10^{-17} & 0.707106781186548\\\\4.91038697468918 & 2.85045743565941 \\cdot 10^{-15} & -1.25643282154566 & 4.91038697468918 & 2.64557909083585 \\cdot 10^{-15} & -6.66069860981409 \\cdot 10^{-16} & 4.91038697468918 & 2.44070074601228 \\cdot 10^{-15} & 1.25643282154566 & 4.91038697468918 & 2.64557909083585 \\cdot 10^{-15} & 7.6397331312353 \\cdot 10^{-16}\\\\1.97097322447859 \\cdot 10^{-15} & 4.91038697468917 & -1.17785918040336 \\cdot 10^{-15} & 1.75802013839316 \\cdot 10^{-15} & 4.91038697468917 & -1.25643282154566 & 1.97097322447859 \\cdot 10^{-15} & 4.91038697468917 & 1.97842282995268 \\cdot 10^{-16} & 2.18392631056403 \\cdot 10^{-15} & 4.91038697468917 & 1.25643282154565\\\\-3.5376354961972 \\cdot 10^{-17} & -5.04661102917314 \\cdot 10^{-16} & 0.500000000000001 & 2.39287709477418 \\cdot 10^{-16} & -2.29997038477924 \\cdot 10^{-16} & 0.500000000000001 & -3.5376354961972 \\cdot 10^{-17} & 4.46670259614659 \\cdot 10^{-17} & 0.500000000000001 & -3.10040419401362 \\cdot 10^{-16} & -2.29997038477924 \\cdot 10^{-16} & 0.500000000000001\\\\-4.0243400114525 \\cdot 10^{-16} & -0.828190463834783 & 1.24997782096435 \\cdot 10^{-16} & -2.33044797400445 \\cdot 10^{-16} & -0.828190463834783 & 0.358677916964907 & -4.0243400114525 \\cdot 10^{-16} & -0.828190463834783 & -2.43567048290228 \\cdot 10^{-16} & -5.71823204890056 \\cdot 10^{-16} & -0.828190463834783 & -0.358677916964907\\\\0.828190463834787 & 6.33217836449034 \\cdot 10^{-16} & -0.358677916964907 & 0.828190463834787 & 6.16656779280146 \\cdot 10^{-16} & -1.89868049076313 \\cdot 10^{-16} & 0.828190463834787 & 6.00095722111258 \\cdot 10^{-16} & 0.358677916964907 & 0.828190463834787 & 6.16656779280146 \\cdot 10^{-16} & 1.7869678131035 \\cdot 10^{-16}\\\\3.19896353821814 \\cdot 10^{-17} & 1.11803398874989 & -5.47766893774637 \\cdot 10^{-16} & -1.11803398874989 & 5.69169589040447 \\cdot 10^{-16} & -7.00595040350555 \\cdot 10^{-16} & 3.19896353821814 \\cdot 10^{-17} & -1.11803398874989 & -5.14644779436861 \\cdot 10^{-16} & 1.11803398874989 & 5.69169589040447 \\cdot 10^{-16} & -3.61816632860943 \\cdot 10^{-16}\\\\-2.14106834680692 \\cdot 10^{-16} & -0.467677183163339 & 1.83017918989569 \\cdot 10^{-16} & -4.56082859733691 \\cdot 10^{-17} & -0.467677183163339 & 0.250112184223011 & -2.14106834680692 \\cdot 10^{-16} & -0.467677183163339 & 1.87057976037025 \\cdot 10^{-17} & -3.82605383388015 \\cdot 10^{-16} & -0.467677183163339 & -0.25011218422301\\\\0.467677183163341 & -2.15949899441204 \\cdot 10^{-16} & -0.25011218422301 & 0.467677183163341 & -2.10384101032598 \\cdot 10^{-16} & 1.40125546545465 \\cdot 10^{-16} & 0.467677183163341 & -2.04818302623992 \\cdot 10^{-16} & 0.25011218422301 & 0.467677183163341 & -2.10384101032598 \\cdot 10^{-16} & 8.16508296895034 \\cdot 10^{-17}\\\\6.45981148852173 \\cdot 10^{-17} & 0.499999999999997 & -5.64458302301798 \\cdot 10^{-16} & -0.499999999999997 & 8.1398959227601 \\cdot 10^{-17} & -5.89831597237769 \\cdot 10^{-16} & 6.45981148852173 \\cdot 10^{-17} & -0.499999999999997 & -5.24683983866992 \\cdot 10^{-16} & 0.499999999999997 & 8.1398959227601 \\cdot 10^{-17} & -4.99310688931021 \\cdot 10^{-16}\\end{array}\\right]$"
      ],
      "text/plain": [
       "⎡   1.6029062077909     3.42419815333575e-16    -0.190234588600967       1.602\n",
       "⎢                                                                             \n",
       "⎢3.45240398767894e-16     1.60290620779089     -2.33966253444588e-16   2.10888\n",
       "⎢                                                                             \n",
       "⎢2.98540352686844e-17   -2.18462788811759e-16    0.707106781186548    1.626554\n",
       "⎢                                                                             \n",
       "⎢  4.91038697468918     2.85045743565941e-15     -1.25643282154566      4.9103\n",
       "⎢                                                                             \n",
       "⎢1.97097322447859e-15     4.91038697468917     -1.17785918040336e-15  1.758020\n",
       "⎢                                                                             \n",
       "⎢-3.5376354961972e-17   -5.04661102917314e-16    0.500000000000001    2.392877\n",
       "⎢                                                                             \n",
       "⎢-4.0243400114525e-16    -0.828190463834783    1.24997782096435e-16   -2.33044\n",
       "⎢                                                                             \n",
       "⎢  0.828190463834787    6.33217836449034e-16    -0.358677916964907      0.8281\n",
       "⎢                                                                             \n",
       "⎢3.19896353821814e-17     1.11803398874989     -5.47766893774637e-16    -1.118\n",
       "⎢                                                                             \n",
       "⎢-2.14106834680692e-16   -0.467677183163339    1.83017918989569e-16   -4.56082\n",
       "⎢                                                                             \n",
       "⎢  0.467677183163341    -2.15949899441204e-16    -0.25011218422301      0.4676\n",
       "⎢                                                                             \n",
       "⎣6.45981148852173e-17     0.499999999999997    -5.64458302301798e-16   -0.4999\n",
       "\n",
       "9062077909     3.35198706042821e-16   -6.18544002171761e-17     1.602906207790\n",
       "                                                                              \n",
       "12043332e-16     1.60290620779089      -0.190234588600966    3.45240398767894e\n",
       "                                                                              \n",
       "94420122e-16   -8.56613296603215e-17    0.707106781186548    2.98540352686844e\n",
       "                                                                              \n",
       "8697468918     2.64557909083585e-15   -6.66069860981409e-16    4.9103869746891\n",
       "                                                                              \n",
       "13839316e-15     4.91038697468917       -1.25643282154566    1.97097322447859e\n",
       "                                                                              \n",
       "09477418e-16   -2.29997038477924e-16    0.500000000000001    -3.5376354961972e\n",
       "                                                                              \n",
       "797400445e-16   -0.828190463834783      0.358677916964907    -4.0243400114525e\n",
       "                                                                              \n",
       "90463834787    6.16656779280146e-16   -1.89868049076313e-16    0.8281904638347\n",
       "                                                                              \n",
       "03398874989    5.69169589040447e-16   -7.00595040350555e-16  3.19896353821814e\n",
       "                                                                              \n",
       "859733691e-17   -0.467677183163339      0.250112184223011    -2.14106834680692\n",
       "                                                                              \n",
       "77183163341    -2.10384101032598e-16  1.40125546545465e-16     0.4676771831633\n",
       "                                                                              \n",
       "99999999997     8.1398959227601e-17   -5.89831597237769e-16  6.45981148852173e\n",
       "\n",
       "9     3.27977596752067e-16     0.190234588600967       1.6029062077909     3.3\n",
       "                                                                              \n",
       "-16     1.60290620779089     5.70856597711105e-17   4.79592677102468e-16     1\n",
       "                                                                              \n",
       "-17   4.71401294911158e-17     0.707106781186548    -1.02947423882753e-16  -8.\n",
       "                                                                              \n",
       "8     2.44070074601228e-15     1.25643282154566       4.91038697468918     2.6\n",
       "                                                                              \n",
       "-15     4.91038697468917     1.97842282995268e-16   2.18392631056403e-15     4\n",
       "                                                                              \n",
       "-17   4.46670259614659e-17     0.500000000000001    -3.10040419401362e-16  -2.\n",
       "                                                                              \n",
       "-16    -0.828190463834783    -2.43567048290228e-16  -5.71823204890056e-16   -0\n",
       "                                                                              \n",
       "87    6.00095722111258e-16     0.358677916964907      0.828190463834787    6.1\n",
       "                                                                              \n",
       "-17     -1.11803398874989    -5.14644779436861e-16    1.11803398874989     5.6\n",
       "                                                                              \n",
       "e-16   -0.467677183163339    1.87057976037025e-17   -3.82605383388015e-16   -0\n",
       "                                                                              \n",
       "41    -2.04818302623992e-16    0.25011218422301       0.467677183163341    -2.\n",
       "                                                                              \n",
       "-17    -0.499999999999997    -5.24683983866992e-16    0.499999999999997     8.\n",
       "\n",
       "5198706042821e-16   1.22086123931074e-16 ⎤\n",
       "                                         ⎥\n",
       ".60290620779089       0.190234588600966  ⎥\n",
       "                                         ⎥\n",
       "56613296603215e-17    0.707106781186548  ⎥\n",
       "                                         ⎥\n",
       "4557909083585e-15    7.6397331312353e-16 ⎥\n",
       "                                         ⎥\n",
       ".91038697468917       1.25643282154565   ⎥\n",
       "                                         ⎥\n",
       "29997038477924e-16    0.500000000000001  ⎥\n",
       "                                         ⎥\n",
       ".828190463834783     -0.358677916964907  ⎥\n",
       "                                         ⎥\n",
       "6656779280146e-16    1.7869678131035e-16 ⎥\n",
       "                                         ⎥\n",
       "9169589040447e-16   -3.61816632860943e-16⎥\n",
       "                                         ⎥\n",
       ".467677183163339      -0.25011218422301  ⎥\n",
       "                                         ⎥\n",
       "10384101032598e-16  8.16508296895034e-17 ⎥\n",
       "                                         ⎥\n",
       "1398959227601e-17   -4.99310688931021e-16⎦"
      ]
     },
     "execution_count": 19,
     "metadata": {},
     "output_type": "execute_result"
    }
   ],
   "source": [
    "Ro = np.diag([1, 1, 1, 1, 1, 1, 1, 1, 1, 1, 1, 1])\n",
    "Qo = np.diag([1, 1, 1, 1, 1, 1, 1, 1, 1, 1, 1, 1])\n",
    "L = lqr(A.T,C.T,linalg.inv(Ro),linalg.inv(Qo)).T\n",
    "Matrix(L)"
   ]
  },
  {
   "cell_type": "code",
   "execution_count": 20,
   "id": "12fc183c-17f9-4882-915f-1a4457f8ed0d",
   "metadata": {},
   "outputs": [
    {
     "name": "stdout",
     "output_type": "stream",
     "text": [
      "(12, 12)\n",
      "[-434.78145927+0.j         -434.78145927+0.j\n",
      " -249.99799996+0.j           -2.21469792+2.21475479j\n",
      "   -2.21469792-2.21475479j   -2.21469792+2.21475479j\n",
      "   -2.21469792-2.21475479j   -1.41421355+0.j\n",
      "   -1.41421358+0.j           -1.00000003+0.j\n",
      "   -1.00000003+0.j           -1.000008  +0.j        ]\n",
      "[-1.40682801+2.17021669e+00j -1.40682801-2.17021669e+00j\n",
      " -1.40682801+2.17021669e+00j -1.40682801-2.17021669e+00j\n",
      " -2.93130819+0.00000000e+00j -2.93130819+0.00000000e+00j\n",
      " -0.55901699+4.33012702e-01j -0.55901699-4.33012702e-01j\n",
      " -1.00128528+0.00000000e+00j -1.00128528+0.00000000e+00j\n",
      " -1.41421356+4.78610025e-08j -1.41421356-4.78610025e-08j]\n"
     ]
    }
   ],
   "source": [
    "print(L.shape)\n",
    "print(linalg.eigvals(A-B@K))\n",
    "print(linalg.eigvals(A-L@C))"
   ]
  },
  {
   "cell_type": "code",
   "execution_count": 21,
   "id": "5ff5cfa2-959d-45ed-a2ce-74d9d9ff2036",
   "metadata": {},
   "outputs": [
    {
     "name": "stdout",
     "output_type": "stream",
     "text": [
      "(12, 12)\n",
      "(12, 4)\n",
      "(12, 12)\n",
      "(12, 4)\n",
      "(12,)\n"
     ]
    }
   ],
   "source": [
    "print(A.shape)\n",
    "print(B.shape)\n",
    "print(C.shape)\n",
    "print(D.shape)\n",
    "print(g_eq.shape)"
   ]
  },
  {
   "cell_type": "code",
   "execution_count": 22,
   "id": "06cc22bb-fde2-479e-82b7-173e9611699c",
   "metadata": {},
   "outputs": [],
   "source": [
    "# Create the Controller class\n",
    "class Controller():\n",
    "    def __init__(self):\n",
    "        self.A = np.array(A, dtype=float)\n",
    "        self.B = np.array(B, dtype=float)\n",
    "        self.C = np.array(C, dtype=float)\n",
    "        self.K = np.array(K, dtype=float)\n",
    "        self.L = np.array(L, dtype=float)\n",
    "        self.m_e = np.array([px_e, py_e, pz_e, vx_e, vy_e, vz_e, phi_e, theta_e, psi_e, omegax_e, omegay_e, omegaz_e])\n",
    "        self.n_e = np.array([taux_e, tauy_e, tauz_e, fz_e])\n",
    "        self.g_eq = g_eq\n",
    "        pass\n",
    "\n",
    "    \n",
    "    def reset(self):\n",
    "        self.xhat = np.array([0., 0., 0., 0., 0., 0., 0., 0., 0., 0., 0., 0.])\n",
    "        self.xdes = np.array([0., 0., 0., 0., 0., 0., 0., 0., 0., 0., 0., 0.])\n",
    "        self.udes = np.array([0., 0., 0., 0.])\n",
    "        pass\n",
    "    \n",
    "    def run(self, **kwargs):\n",
    "        sensor_meas = np.array([kwargs[\"mocap_1\"], kwargs[\"mocap_2\"], kwargs[\"mocap_3\"], kwargs[\"mocap_4\"]]).reshape(12,)\n",
    "        y = sensor_meas - self.g_eq\n",
    "        \n",
    "        m_e_bar = np.block([kwargs[\"next_gate\"].reshape(3,), np.zeros(9)])\n",
    "        self.xdes = m_e_bar - self.m_e\n",
    "        x = self.xhat - m_e_bar\n",
    "        u = self.udes - self.K @ (x - self.xdes)\n",
    "        \n",
    "        self.xhat += kwargs[\"dt\"]*(self.A @ self.xhat + self.B @ u - self.L@(self.C@self.xhat - y))\n",
    "\n",
    "        tau_x = u[0] + self.n_e[0]\n",
    "        tau_y = u[1] + self.n_e[1]\n",
    "        tau_z = u[2] + self.n_e[2]\n",
    "        f_z = u[3] + self.n_e[3]\n",
    "        return [tau_x, tau_y, tau_z, f_z]"
   ]
  },
  {
   "cell_type": "code",
   "execution_count": 23,
   "id": "91f99c2f-26ef-4515-875c-d5be5505ff4b",
   "metadata": {},
   "outputs": [],
   "source": [
    "# Create an instance of our Controller class to simulate 1 quadrotor\n",
    "controller1 = Controller()"
   ]
  },
  {
   "cell_type": "markdown",
   "id": "fdd5aa72-f4c6-4b4e-bb66-08bd4ceda7c9",
   "metadata": {},
   "source": [
    "## Running the Simulation"
   ]
  },
  {
   "cell_type": "markdown",
   "id": "a71636ba-cd6d-4ad5-8e31-1457f4111c72",
   "metadata": {},
   "source": [
    "Before we run the simulation, we must first import the simulation module and then create an instance of the simulator. This is done below:"
   ]
  },
  {
   "cell_type": "code",
   "execution_count": 24,
   "id": "e5146cf2-bb6b-4a56-ab66-08917b5d03c6",
   "metadata": {},
   "outputs": [],
   "source": [
    "# Import the quadrotor project. This module is used to simulate, render, and plot a quadrotor dynamic system\n",
    "import ae353_quadrotor"
   ]
  },
  {
   "cell_type": "markdown",
   "id": "555722ea-6fb7-4f0c-b78f-7a8731e35f14",
   "metadata": {},
   "source": [
    "There are eight main parameters to the Quadrotor_Sim class initialization function:\n",
    "#### Parameters\n",
    "\n",
    "> **n_quadrotors** : *int*  \n",
    "> The number of quadrotor controllers provided to the simulator.\n",
    "> \n",
    "> **team_list** : *list of strings, shape(n_quadrotors,)*  \n",
    "> A list of the team names associated with each of the n_quadrotors controllers. The teams names to select from include: \"*the ORB*\", \"*Team Kachow*\", \"*Team Steam Tunnels*\", \"*Team Flying Mambas*\", \"*Team Spare Chang-e*\", and \"*the Flying Illini*\". The string \"\" results in an empty team flag.\n",
    ">\n",
    "> **planet** : *string*,\n",
    "> The name of the planet on which the race takes place. This parameter varies the acceleration due to graivty. You must select from one of the following strings: \"Mercury\", \"Venus\", \"Earth\", \"Moon\", \"Mars\", \"Jupiter\", \"Saturn\", \"Uranus\", \"Neptune\", \"Pluto\". Note that this does not alter the maximum thrust of the quadrotor.    \n",
    "> \n",
    "> **use_keyboard** : *bool, optional*  \n",
    "> A boolean flag that indicates whether the simulation will allow the use of keyboard interactivity. The default is True.\n",
    "> \n",
    "> **visualization** : *bool, optional*  \n",
    "> A boolean flag that indicates whether the simulation will be  visualized in meshcat. The default is True.\n",
    ">\n",
    "> **visualization_fr** : *float, optional*  \n",
    "> The frame rate (frames per second) at which the visualizer is  updated. The default is 45.  .\n",
    "> \n",
    "> **animation** : *bool, optional*  \n",
    "> A boolean flag that indicates whether animated plots are created in real time. The default is True.\n",
    ">\n",
    ">  **verbose** : *bool, optional*  \n",
    "> A boolean flag that indicates whether warnings are printing during  function execution. The default is False."
   ]
  },
  {
   "cell_type": "code",
   "execution_count": 25,
   "id": "80c2d1df-5247-44cf-9de7-35c4d85780d5",
   "metadata": {},
   "outputs": [
    {
     "name": "stdout",
     "output_type": "stream",
     "text": [
      "You can open the visualizer by visiting the following URL:\n",
      "http://127.0.0.1:7037/static/\n"
     ]
    }
   ],
   "source": [
    "# Make an instance of the simulator for 1 quadrotor\n",
    "team_list = [\"\"]\n",
    "sim = ae353_quadrotor.Quadrotor_Sim(n_quadrotors=1,\n",
    "                                    team_list=team_list,\n",
    "                                    planet=\"Earth\",\n",
    "                                    use_keyboard=True,\n",
    "                                    visualization=True,\n",
    "                                    visualization_fr=45.,\n",
    "                                    animation=False,\n",
    "                                    verbose=True)"
   ]
  },
  {
   "cell_type": "markdown",
   "id": "94ef6182-08ea-4384-92c0-20210a8c5858",
   "metadata": {},
   "source": [
    "Now we are ready to run the simulation and collect data. To do this we call the ``sim.run()`` function. This function takes a list of members of the  ``Controller`` class as an argument and returns ``track_stats`` and ``data``. The parameters and return values of ``sim.run()`` are shown below.\n",
    "\n",
    "#### Parameters\n",
    "\n",
    "> **controllers** : *List of members of Controller class*  \n",
    "> A list of length n_quadrotors where each element is a member of  a custom class that, at a minimum, must provide the function   controller.run() and controller.reset.()\n",
    "> \n",
    "> **max_time** : *Float or None, optional*  \n",
    "> The total amount of time the simulation is allowed to run. If set to None, the simulation will run until \"ESC\" is pressed on the keyboard. If the keyboard is disabled, and max_time is set to None, the simulation will automatically terminate after 10 seconds of simulated time. The default value is None.\n",
    ">  \n",
    "> **sensor_noise** : *Float, optional*  \n",
    "> The noise applied to the mocap sensor, i.e., the standard deviation of the components of each mocap marker tracker measurement. The default value is 0.01 (1 cm).\n",
    ">\n",
    ">  **verbose** : *bool, optional*  \n",
    "> A boolean flag that indicates whether warnings are printing during function execution. The default is False.\n",
    "> \n",
    "#### Returns\n",
    "\n",
    "> **track_stats** : *List of Dictionaries*\n",
    "> A list of dictionaries containing all relevant track performance data generated during the simulation. There is one dictionary for each quadrotor simulated. Specific data is extracted via the statement: track_stats[QUADROTOR NUMBER][\"KEYWORD\"], where QUADROTOR NUMBER is the index of the quadrotor for which track stats are collected and \"KEYWORD\" is a key to the dictionary. The keys of track_stats for this project are as follows:\n",
    ">\n",
    "> **track_stats[QUADROTOR NUMBER][\"completed_lap\"]** : *Bool*  \n",
    "> A boolean value that indicates whether or not the quadrotor completed the lap.  \n",
    ">\n",
    "> **track_stats[QUADROTOR NUMBER][\"gate_times\"]** : *List of Floats*  \n",
    "> The time at which each gate was passed by the quadrotor. The length of this list is equal to the number of gates passed by the quadrotor. If no gates were passed, is an empty list.  \n",
    ">\n",
    "> **track_stats[QUADROTOR NUMBER][\"lap_time\"]** : *Float*  \n",
    "> The time at which the final gate was passed by the quadrotor. If the final gate was not passed, has the value None.  \n",
    ">  \n",
    "> **data** : *List of Dictionary of Lists*  \n",
    "> A list of dictionaries containing all relevant simulation data generated during the simulation. There is one dictionary for each quadrotor simulated. Specific data is extracted via the statement: data[QUADROTOR NUMBER][\"KEYWORD\"], where QUADROTOR NUMBER is the index of the quadrotor for which data is collected and \"KEYWORD\" is a key to the dictionary. The keys of data for this project are as follows:\n",
    ">  \n",
    "> **data[QUADROTOR NUMBER][\"position\"]** : *List of arrays, shape(n,3)*  \n",
    "> The [x, y, z] position of the quadrotor at each time stamp.  \n",
    ">  \n",
    "> **data[QUADROTOR NUMBER][\"orientation\"]** : *List of arrays, shape(n,3)*  \n",
    "> The [roll, pitch, yaw] orientation of the quadrotor at each  time stamp.  \n",
    ">  \n",
    "> **data[QUADROTOR NUMBER][\"velocity\"]** : *List of arrays, shape(n,3)*  \n",
    ">The [vx, vy, vz] velocity of the quadrotor in body fixed  coordinates at each time stamp.  \n",
    ">  \n",
    "> **data[QUADROTOR NUMBER][\"angular velocity\"]** : *List of arrays, shape(n,3)*  \n",
    "The [wx, wy, wz] angular velocity of the quadrotor in body  fixed coordinates at each time stamp.  \n",
    "> \n",
    "> **data[QUADROTOR NUMBER][\"mocap 1\"]** : *List of arrays, shape(n,3)*  \n",
    "> The true (not noisy) position of the mocap 1 marker (+x) in  meters at each time stamp.  \n",
    "> \n",
    "> **data[QUADROTOR NUMBER][\"mocap 2\"]** : *List of arrays, shape(n,3)*  \n",
    "> The true (not noisy) position of the mocap 2 marker (+y) in  meters at each time stamp.  \n",
    "> \n",
    "> **data[QUADROTOR NUMBER][\"mocap 3\"]** : *List of arrays, shape(n,3)*  \n",
    "> The true (not noisy) position of the mocap 3 marker (-x) in  meters at each time stamp.  \n",
    "> \n",
    "> **data[QUADROTOR NUMBER][\"mocap 4\"]** : *List of arrays, shape(n,3)*  \n",
    "> The true (not noisy) position of the mocap 4 marker (-y) in  meters at each time stamp.  \n",
    "> \n",
    "> **data[QUADROTOR NUMBER][\"inputs\"]** : *List of arrays, shape(n,4)*  \n",
    "> The inputs applied to the quadrotor. [tau_x, tau_y, tau_z, f_z]  \n",
    "> \n",
    "> **data[QUADROTOR NUMBER][\"time\"]** : *List of Floats, shape(n,)*  \n",
    "> A list of the time stamps in seconds. "
   ]
  },
  {
   "cell_type": "markdown",
   "id": "124639bf-1ee1-4311-b92c-8390c695242a",
   "metadata": {},
   "source": [
    "#### If enabled you can use the keyboard to interact with the simulation:  \n",
    "> press **ENTER** to start the simulation.  \n",
    "> press **BACKSPACE** to reset the simulation.  \n",
    "> press **SPACE** to pause the simulation.  \n",
    "> press **ESC** to end the simulation.  "
   ]
  },
  {
   "cell_type": "code",
   "execution_count": 26,
   "id": "75fefa5c-d205-44cc-84fb-0896513a6cec",
   "metadata": {},
   "outputs": [
    {
     "name": "stdout",
     "output_type": "stream",
     "text": [
      "PRESS ENTER TO START SIMULATION.\n",
      "PRESS ESC TO QUIT.\n",
      "PRESS SPACE TO PAUSE/RESUME SIMULATION.\n",
      "PRESS BACKSPACE TO RESET SIMULATION.\n",
      "CONTINUING...\n",
      "QUITTING...\n",
      "Termination command detected. Terminating keyboard listener. Goodbye\n"
     ]
    }
   ],
   "source": [
    "# Run the simulation and collect the simulation data\\\n",
    "controllers = [controller1]\n",
    "(track_stats, data) = sim.run(controllers,\n",
    "                              sensor_noise=0.01,\n",
    "                              collect_data=True,\n",
    "                              max_time=60.0,\n",
    "                              verbose=True)"
   ]
  },
  {
   "cell_type": "code",
   "execution_count": null,
   "id": "e885b408-a4ca-450c-a762-f909d2027799",
   "metadata": {},
   "outputs": [],
   "source": [
    "# Print out the track stats for each quadrotor\n",
    "for i in range(len(track_stats)):\n",
    "    stat = track_stats[i]\n",
    "    print(\"Quadrotor {} completed lap: {}\".format(i, stat[\"completed_lap\"]))\n",
    "    if len(stat[\"gate_times\"]) > 0:\n",
    "        print(\"Gate times for Quadrotor {}: {}\".format(i, stat[\"gate_times\"]))\n",
    "    else:\n",
    "        print(\"Quadrotor {} passed no gates.\".format(i))\n",
    "    if stat[\"completed_lap\"]:\n",
    "        print(\"Lap time for Quadrotor {}: {}\".format(i, stat[\"lap_time\"]))\n",
    "    print(\"\\n\")"
   ]
  },
  {
   "cell_type": "markdown",
   "id": "0fadfcf6-c9d5-4d87-9ff7-8665522883e3",
   "metadata": {},
   "source": [
    "## FIXME: Post-processing the simulation data"
   ]
  },
  {
   "cell_type": "markdown",
   "id": "4d9710b3-e018-4921-839c-ff40946ef1f8",
   "metadata": {},
   "source": [
    "After the simulation is run, we can plot the data using the Matplotlib package. To start, we import matplotlib and numpy."
   ]
  },
  {
   "cell_type": "code",
   "execution_count": null,
   "id": "5b23ea45-dabd-46f3-b3aa-148dd30d4f64",
   "metadata": {},
   "outputs": [],
   "source": [
    "# Import the pyplot module from the matplotlib package\n",
    "import matplotlib.pyplot as plt\n",
    "\n",
    "# Import numpy\n",
    "import numpy as np"
   ]
  },
  {
   "cell_type": "markdown",
   "id": "fcc05165-85a1-43f4-9ea7-e3a84d795869",
   "metadata": {},
   "source": [
    "Now we can make whichever plots we see fit to make sense of the simulation data. Here we plot the ground track and altitude.\n",
    "\n",
    "**THIS IS LEFT INTENTIONALLY AS INSUFFICIENT TO PROVE YOUR CONTROLLER OR OBSERVER WORK.**"
   ]
  },
  {
   "cell_type": "code",
   "execution_count": null,
   "id": "815349ed-356a-4194-bd7c-35db59ea26e9",
   "metadata": {},
   "outputs": [
    {
     "name": "stdout",
     "output_type": "stream",
     "text": [
      "Termination command detected. Terminating keyboard listener. Goodbye\n",
      "Termination command detected. Terminating keyboard listener. Goodbye\n",
      "Termination command detected. Terminating keyboard listener. Goodbye\n"
     ]
    }
   ],
   "source": [
    "# Create a figure that has two plots in it\n",
    "fig, axes = plt.subplots(2, 1, figsize=(7.2, 5.4), sharex=False)\n",
    "\n",
    "# Convert the position data to array\n",
    "colors = ['k','r','g','b','m','c','tab:orange','tab:purple','tab:brown','tab:pink','tab:gray']\n",
    "for i in range(len(data)):\n",
    "    \n",
    "    # Get the position\n",
    "    pos = np.array(data[i]['position'])\n",
    "    \n",
    "    # Create a plot of the ground path of the quadrotor\n",
    "    axes[0].plot(pos[:,0], pos[:,1], c=colors[i], lw=2.5, label=str(i+1))\n",
    "    \n",
    "    # Create a plot of the altitude versus time\n",
    "    axes[1].plot(data[0]['time'], pos[:,2], c=colors[i], lw=2.5, label=str(i+1))\n",
    "\n",
    "# Make plot 0 pretty\n",
    "axes[0].set_xlabel(\"X Position [meters]\", fontsize=12)\n",
    "axes[0].set_ylabel(\"Y Position [meters]\", fontsize=12)\n",
    "axes[0].tick_params(axis='y', labelsize=12)\n",
    "axes[0].set_title(\"Ground Track\", fontsize=14)\n",
    "axes[0].set_aspect('equal', 'box')\n",
    "axes[0].legend(bbox_to_anchor=(1.16, 1.05), fancybox=True, shadow=True)\n",
    "axes[0].grid()\n",
    "\n",
    "# Make plot 1 pretty\n",
    "axes[1].set_xlabel(\"Time [seconds]\", fontsize=12)\n",
    "axes[1].set_ylabel(\"Altitude [meters]\", fontsize=12)\n",
    "axes[1].tick_params(axis='y', labelsize=12)\n",
    "axes[1].set_title(\"Altitude vs. Time\", fontsize=14)\n",
    "axes[1].legend(bbox_to_anchor=(1., 1.05), fancybox=True, shadow=True)\n",
    "axes[1].grid()\n",
    "\n",
    "# Show the figure\n",
    "fig.tight_layout(pad=2.0)\n",
    "plt.show()"
   ]
  }
 ],
 "metadata": {
  "kernelspec": {
   "display_name": "Python 3 (ipykernel)",
   "language": "python",
   "name": "python3"
  },
  "language_info": {
   "codemirror_mode": {
    "name": "ipython",
    "version": 3
   },
   "file_extension": ".py",
   "mimetype": "text/x-python",
   "name": "python",
   "nbconvert_exporter": "python",
   "pygments_lexer": "ipython3",
   "version": "3.11.7"
  }
 },
 "nbformat": 4,
 "nbformat_minor": 5
}
