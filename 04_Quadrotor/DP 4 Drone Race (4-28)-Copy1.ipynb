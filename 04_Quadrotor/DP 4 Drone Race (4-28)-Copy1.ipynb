{
 "cells": [
  {
   "cell_type": "markdown",
   "id": "bfbe3b46-48c9-4c33-8edf-b475e22b1438",
   "metadata": {},
   "source": [
    "# DP 4 Drone Race\n",
    "by Emily Lory and Conan Zhang"
   ]
  },
  {
   "cell_type": "code",
   "execution_count": 1,
   "id": "b1a8c8b3-2450-4589-8375-82e4bb0d0ed2",
   "metadata": {},
   "outputs": [],
   "source": [
    "# Import the quadrotor project. This module is used to simulate, render, and plot a quadrotor dynamic system\n",
    "from sympy import * \n",
    "import numpy as np\n",
    "from scipy import linalg\n",
    "import matplotlib.pyplot as plt\n",
    "import ae353_quadrotor\n",
    "init_printing()"
   ]
  },
  {
   "cell_type": "code",
   "execution_count": 2,
   "id": "db7470a5-55cb-4366-b047-ca9da43da55d",
   "metadata": {},
   "outputs": [],
   "source": [
    "# Get the gravity in m/s^2\n",
    "from ae353_quadrotor import get_gravity\n",
    "planet = \"Earth\"\n",
    "grav = get_gravity(planet, verbose=True)"
   ]
  },
  {
   "cell_type": "code",
   "execution_count": 3,
   "id": "ae33b3ca-a721-46d7-88c7-23a2898ddd78",
   "metadata": {},
   "outputs": [],
   "source": [
    "# Mass and moment of inertia of the bus\n",
    "mass = 0.5    # The mass of the quadrotor in kg\n",
    "Ixx = 0.0023  # The moment of inertia of the quadrotor in \n",
    "Iyy = 0.0023  # The mass of the quadrotor in kg\n",
    "Izz = 0.0040  # The mass of the quadrotor in kg\n",
    "lxy = 0.25    # The x or y distance from the quadrotor frame to the mocap markers in meters\n",
    "lz = 0.046875 # The z distance from the quadrotor frame to the mocap markers in meters"
   ]
  },
  {
   "cell_type": "code",
   "execution_count": 4,
   "id": "272d785b-00cd-459f-ae74-8668d23ae450",
   "metadata": {},
   "outputs": [],
   "source": [
    "# Define position\n",
    "px_inW, py_inW, pz_inW = symbols('p_x, p_y, p_z')\n",
    "\n",
    "# Define velocity\n",
    "vx_inB, vy_inB, vz_inB = symbols('v_x, v_y, v_z')\n",
    "\n",
    "# Define roll (phi), pitch (theta), and yaw (psi) angles\n",
    "phi, theta, psi = symbols('phi, theta, psi')\n",
    "\n",
    "# Define angular velocities\n",
    "wx_inB, wy_inB, wz_inB = symbols('omega_x, omega_y, omega_z')\n",
    "\n",
    "# Define roll, pitch, and yaw rotation matrices that describe the bus's orientation in the world frame\n",
    "taux_inB, tauy_inB, tauz_inB, fz_inB = symbols('tau_x, tau_y, tau_z, f_z')"
   ]
  },
  {
   "cell_type": "code",
   "execution_count": 5,
   "id": "ca0f47b0-ddce-4b18-adde-a05c35ea10f3",
   "metadata": {},
   "outputs": [],
   "source": [
    "p_inW = Matrix([[px_inW],[py_inW], [pz_inW]])\n",
    "v_inB = Matrix([[vx_inB],[vy_inB],[vz_inB]])\n",
    "w_inB = Matrix([[wx_inB],[wy_inB], [wz_inB]])\n",
    "Rx = Matrix([[1,0,0],[0, cos(phi), -sin(phi)],[0, sin(phi),  cos(phi)]])\n",
    "Ry = Matrix([[ cos(theta), 0, sin(theta)],[0, 1,0], [-sin(theta), 0, cos(theta)]])\n",
    "Rz = Matrix([[cos(psi), -sin(psi), 0],[sin(psi),  cos(psi), 0],[0,0,1]])\n",
    "R_ofB_inW = Rz @ Ry @ Rx\n",
    "R_ofW_inB = R_ofB_inW.T"
   ]
  },
  {
   "cell_type": "code",
   "execution_count": 6,
   "id": "8937a756-2340-4fab-971e-2414f1665de7",
   "metadata": {},
   "outputs": [],
   "source": [
    "# Get the net torque vector\n",
    "tau_inB = Matrix([[taux_inB],\n",
    "                      [tauy_inB],\n",
    "                      [tauz_inB]])\n",
    "tau_inB = simplify(tau_inB)\n",
    "\n",
    "# Get the gravity force and convert to body coordiantes\n",
    "grav_inW = Matrix([[0.],\n",
    "                       [0.],\n",
    "                       [-mass * grav]])\n",
    "grav_inB = R_ofW_inB @ grav_inW\n",
    "\n",
    "# Get the net force vector\n",
    "f_inB = grav_inB + Matrix([[0.],\n",
    "                               [0.],\n",
    "                               [fz_inB]])\n",
    "f_inB = simplify(f_inB)"
   ]
  },
  {
   "cell_type": "code",
   "execution_count": 7,
   "id": "19d3f743-30eb-4c13-b68b-47381f748712",
   "metadata": {},
   "outputs": [],
   "source": [
    "# Assemble the moment of inertia matrix\n",
    "I_inB = Matrix([[Ixx, 0.,  0.],\n",
    "                    [0.,  Iyy, 0.],\n",
    "                    [0.,  0.,  Izz]])"
   ]
  },
  {
   "cell_type": "code",
   "execution_count": 8,
   "id": "3bb31816-210c-47a2-95ef-69b99794f5f8",
   "metadata": {},
   "outputs": [
    {
     "name": "stdout",
     "output_type": "stream",
     "text": [
      "px, py, pz rate as a function of orientation and body-fixed velocities:\n"
     ]
    },
    {
     "data": {
      "text/latex": [
       "$\\displaystyle \\left[\\begin{matrix}v_{x} \\cos{\\left(\\psi \\right)} \\cos{\\left(\\theta \\right)} + v_{y} \\left(\\sin{\\left(\\phi \\right)} \\sin{\\left(\\theta \\right)} \\cos{\\left(\\psi \\right)} - \\sin{\\left(\\psi \\right)} \\cos{\\left(\\phi \\right)}\\right) + v_{z} \\left(\\sin{\\left(\\phi \\right)} \\sin{\\left(\\psi \\right)} + \\sin{\\left(\\theta \\right)} \\cos{\\left(\\phi \\right)} \\cos{\\left(\\psi \\right)}\\right)\\\\v_{x} \\sin{\\left(\\psi \\right)} \\cos{\\left(\\theta \\right)} + v_{y} \\left(\\sin{\\left(\\phi \\right)} \\sin{\\left(\\psi \\right)} \\sin{\\left(\\theta \\right)} + \\cos{\\left(\\phi \\right)} \\cos{\\left(\\psi \\right)}\\right) - v_{z} \\left(\\sin{\\left(\\phi \\right)} \\cos{\\left(\\psi \\right)} - \\sin{\\left(\\psi \\right)} \\sin{\\left(\\theta \\right)} \\cos{\\left(\\phi \\right)}\\right)\\\\- v_{x} \\sin{\\left(\\theta \\right)} + v_{y} \\sin{\\left(\\phi \\right)} \\cos{\\left(\\theta \\right)} + v_{z} \\cos{\\left(\\phi \\right)} \\cos{\\left(\\theta \\right)}\\end{matrix}\\right]$"
      ],
      "text/plain": [
       "⎡vₓ⋅cos(ψ)⋅cos(θ) + v_y⋅(sin(φ)⋅sin(θ)⋅cos(ψ) - sin(ψ)⋅cos(φ)) + v_z⋅(sin(φ)⋅s\n",
       "⎢                                                                             \n",
       "⎢vₓ⋅sin(ψ)⋅cos(θ) + v_y⋅(sin(φ)⋅sin(ψ)⋅sin(θ) + cos(φ)⋅cos(ψ)) - v_z⋅(sin(φ)⋅c\n",
       "⎢                                                                             \n",
       "⎣                            -vₓ⋅sin(θ) + v_y⋅sin(φ)⋅cos(θ) + v_z⋅cos(φ)⋅cos(θ\n",
       "\n",
       "in(ψ) + sin(θ)⋅cos(φ)⋅cos(ψ))⎤\n",
       "                             ⎥\n",
       "os(ψ) - sin(ψ)⋅sin(θ)⋅cos(φ))⎥\n",
       "                             ⎥\n",
       ")                            ⎦"
      ]
     },
     "execution_count": 8,
     "metadata": {},
     "output_type": "execute_result"
    }
   ],
   "source": [
    "v_inW = R_ofB_inW @ v_inB\n",
    "xyz_dot = simplify(v_inW)\n",
    "print(\"px, py, pz rate as a function of orientation and body-fixed velocities:\")\n",
    "N(xyz_dot,3)"
   ]
  },
  {
   "cell_type": "code",
   "execution_count": 9,
   "id": "fcb25633-3cb8-4fca-85e5-fad88dea95f8",
   "metadata": {},
   "outputs": [
    {
     "name": "stdout",
     "output_type": "stream",
     "text": [
      "Body-fixed velocity rates as a function of orientation, body-fixed velocities, and applied forces:\n"
     ]
    },
    {
     "data": {
      "text/latex": [
       "$\\displaystyle \\left[\\begin{matrix}- 1.0 \\omega_{y} v_{z} + 1.0 \\omega_{z} v_{y} + 9.81 \\sin{\\left(\\theta \\right)}\\\\1.0 \\omega_{x} v_{z} - 1.0 \\omega_{z} v_{x} - 9.81 \\sin{\\left(\\phi \\right)} \\cos{\\left(\\theta \\right)}\\\\2.0 f_{z} - 1.0 \\omega_{x} v_{y} + 1.0 \\omega_{y} v_{x} - 9.81 \\cos{\\left(\\phi \\right)} \\cos{\\left(\\theta \\right)}\\end{matrix}\\right]$"
      ],
      "text/plain": [
       "⎡       -ω_y⋅v_z + 1.0⋅ω_z⋅v_y + 9.81⋅sin(θ)       ⎤\n",
       "⎢                                                  ⎥\n",
       "⎢     1.0⋅ωₓ⋅v_z - ω_z⋅vₓ - 9.81⋅sin(φ)⋅cos(θ)     ⎥\n",
       "⎢                                                  ⎥\n",
       "⎣2.0⋅f_z - ωₓ⋅v_y + 1.0⋅ω_y⋅vₓ - 9.81⋅cos(φ)⋅cos(θ)⎦"
      ]
     },
     "execution_count": 9,
     "metadata": {},
     "output_type": "execute_result"
    }
   ],
   "source": [
    "v_inB_dot = (1 / mass) * (f_inB - w_inB.cross(mass * v_inB))\n",
    "v_inB_dot = simplify(v_inB_dot)\n",
    "print(\"Body-fixed velocity rates as a function of orientation, body-fixed velocities, and applied forces:\")\n",
    "N(v_inB_dot,3)"
   ]
  },
  {
   "cell_type": "code",
   "execution_count": 10,
   "id": "ba16d4fc-d7c7-4eea-aa98-4c79da74a515",
   "metadata": {},
   "outputs": [
    {
     "name": "stdout",
     "output_type": "stream",
     "text": [
      "Roll, pitch, and yaw rate as a function of orientation and body-fixed angular rates:\n"
     ]
    },
    {
     "data": {
      "text/latex": [
       "$\\displaystyle \\left[\\begin{matrix}\\omega_{x} + \\omega_{y} \\sin{\\left(\\phi \\right)} \\tan{\\left(\\theta \\right)} + \\omega_{z} \\cos{\\left(\\phi \\right)} \\tan{\\left(\\theta \\right)}\\\\\\omega_{y} \\cos{\\left(\\phi \\right)} - \\omega_{z} \\sin{\\left(\\phi \\right)}\\\\\\frac{\\omega_{y} \\sin{\\left(\\phi \\right)} + \\omega_{z} \\cos{\\left(\\phi \\right)}}{\\cos{\\left(\\theta \\right)}}\\end{matrix}\\right]$"
      ],
      "text/plain": [
       "⎡ωₓ + ω_y⋅sin(φ)⋅tan(θ) + ω_z⋅cos(φ)⋅tan(θ)⎤\n",
       "⎢                                          ⎥\n",
       "⎢         ω_y⋅cos(φ) - ω_z⋅sin(φ)          ⎥\n",
       "⎢                                          ⎥\n",
       "⎢         ω_y⋅sin(φ) + ω_z⋅cos(φ)          ⎥\n",
       "⎢         ───────────────────────          ⎥\n",
       "⎣                  cos(θ)                  ⎦"
      ]
     },
     "execution_count": 10,
     "metadata": {},
     "output_type": "execute_result"
    }
   ],
   "source": [
    "# Define the transformation that takes roll, pitch, and yaw rates to body-fixed angular rates\n",
    "ex = Matrix([[1], [0], [0]])\n",
    "ey = Matrix([[0], [1], [0]])\n",
    "ez = Matrix([[0], [0], [1]])\n",
    "M = Matrix.hstack(ex, Rx.T@ey, (Ry@Rx).T@ez)\n",
    "\n",
    "# Invert the transformation to get a matrix that takes body-fixed angular rates to \n",
    "# roll, pitch, and yaw rates\n",
    "M_inv = simplify(M.inv())\n",
    "\n",
    "# Convert the body-fixed angular rates to roll, pitch, and yaw rates\n",
    "rpy_dot = simplify(M_inv@w_inB)\n",
    "print(\"Roll, pitch, and yaw rate as a function of orientation and body-fixed angular rates:\")\n",
    "N(rpy_dot,3)"
   ]
  },
  {
   "cell_type": "code",
   "execution_count": 11,
   "id": "d99205d4-0e6a-4504-9b1d-1bb08f9d844c",
   "metadata": {},
   "outputs": [
    {
     "name": "stdout",
     "output_type": "stream",
     "text": [
      "Time derivative of the angular velocities in the body-fixed frame:\n"
     ]
    },
    {
     "data": {
      "text/latex": [
       "$\\displaystyle \\left[\\begin{matrix}- 0.739 \\omega_{y} \\omega_{z} + 435.0 \\tau_{x}\\\\0.739 \\omega_{x} \\omega_{z} + 435.0 \\tau_{y}\\\\250.0 \\tau_{z}\\end{matrix}\\right]$"
      ],
      "text/plain": [
       "⎡-0.739⋅ω_y⋅ω_z + 435.0⋅τₓ⎤\n",
       "⎢                         ⎥\n",
       "⎢0.739⋅ωₓ⋅ω_z + 435.0⋅τ_y ⎥\n",
       "⎢                         ⎥\n",
       "⎣        250.0⋅τ_z        ⎦"
      ]
     },
     "execution_count": 11,
     "metadata": {},
     "output_type": "execute_result"
    }
   ],
   "source": [
    "# Apply Euler's equation to get the time derivative of the angular velocities of the\n",
    "# quadrotor in the quadrotor frame\n",
    "w_inB_dot = I_inB.inv() @ (tau_inB - w_inB.cross(I_inB@w_inB))\n",
    "w_inB_dot = simplify(w_inB_dot)\n",
    "print(\"Time derivative of the angular velocities in the body-fixed frame:\")\n",
    "N(w_inB_dot, 3)"
   ]
  },
  {
   "cell_type": "code",
   "execution_count": 12,
   "id": "98369559-63e2-45af-bc15-745faf17e3cd",
   "metadata": {},
   "outputs": [],
   "source": [
    "f = Matrix.vstack(xyz_dot,\n",
    "                      v_inB_dot,\n",
    "                      rpy_dot,\n",
    "                      w_inB_dot)"
   ]
  },
  {
   "cell_type": "code",
   "execution_count": 13,
   "id": "f64f4394-89b6-4ee1-9d68-79a92e0e4b86",
   "metadata": {},
   "outputs": [
    {
     "data": {
      "text/latex": [
       "$\\displaystyle \\left[\\begin{matrix}v_{x} \\cos{\\left(\\psi \\right)} \\cos{\\left(\\theta \\right)} + v_{y} \\left(\\sin{\\left(\\phi \\right)} \\sin{\\left(\\theta \\right)} \\cos{\\left(\\psi \\right)} - \\sin{\\left(\\psi \\right)} \\cos{\\left(\\phi \\right)}\\right) + v_{z} \\left(\\sin{\\left(\\phi \\right)} \\sin{\\left(\\psi \\right)} + \\sin{\\left(\\theta \\right)} \\cos{\\left(\\phi \\right)} \\cos{\\left(\\psi \\right)}\\right)\\\\v_{x} \\sin{\\left(\\psi \\right)} \\cos{\\left(\\theta \\right)} + v_{y} \\left(\\sin{\\left(\\phi \\right)} \\sin{\\left(\\psi \\right)} \\sin{\\left(\\theta \\right)} + \\cos{\\left(\\phi \\right)} \\cos{\\left(\\psi \\right)}\\right) - v_{z} \\left(\\sin{\\left(\\phi \\right)} \\cos{\\left(\\psi \\right)} - \\sin{\\left(\\psi \\right)} \\sin{\\left(\\theta \\right)} \\cos{\\left(\\phi \\right)}\\right)\\\\- v_{x} \\sin{\\left(\\theta \\right)} + v_{y} \\sin{\\left(\\phi \\right)} \\cos{\\left(\\theta \\right)} + v_{z} \\cos{\\left(\\phi \\right)} \\cos{\\left(\\theta \\right)}\\\\- 1.0 \\omega_{y} v_{z} + 1.0 \\omega_{z} v_{y} + 9.81 \\sin{\\left(\\theta \\right)}\\\\1.0 \\omega_{x} v_{z} - 1.0 \\omega_{z} v_{x} - 9.81 \\sin{\\left(\\phi \\right)} \\cos{\\left(\\theta \\right)}\\\\2.0 f_{z} - 1.0 \\omega_{x} v_{y} + 1.0 \\omega_{y} v_{x} - 9.81 \\cos{\\left(\\phi \\right)} \\cos{\\left(\\theta \\right)}\\\\\\omega_{x} + \\omega_{y} \\sin{\\left(\\phi \\right)} \\tan{\\left(\\theta \\right)} + \\omega_{z} \\cos{\\left(\\phi \\right)} \\tan{\\left(\\theta \\right)}\\\\\\omega_{y} \\cos{\\left(\\phi \\right)} - \\omega_{z} \\sin{\\left(\\phi \\right)}\\\\\\frac{\\omega_{y} \\sin{\\left(\\phi \\right)} + \\omega_{z} \\cos{\\left(\\phi \\right)}}{\\cos{\\left(\\theta \\right)}}\\\\- 0.739 \\omega_{y} \\omega_{z} + 435.0 \\tau_{x}\\\\0.739 \\omega_{x} \\omega_{z} + 435.0 \\tau_{y}\\\\250.0 \\tau_{z}\\end{matrix}\\right]$"
      ],
      "text/plain": [
       "⎡vₓ⋅cos(ψ)⋅cos(θ) + v_y⋅(sin(φ)⋅sin(θ)⋅cos(ψ) - sin(ψ)⋅cos(φ)) + v_z⋅(sin(φ)⋅s\n",
       "⎢                                                                             \n",
       "⎢vₓ⋅sin(ψ)⋅cos(θ) + v_y⋅(sin(φ)⋅sin(ψ)⋅sin(θ) + cos(φ)⋅cos(ψ)) - v_z⋅(sin(φ)⋅c\n",
       "⎢                                                                             \n",
       "⎢                            -vₓ⋅sin(θ) + v_y⋅sin(φ)⋅cos(θ) + v_z⋅cos(φ)⋅cos(θ\n",
       "⎢                                                                             \n",
       "⎢                                   -ω_y⋅v_z + 1.0⋅ω_z⋅v_y + 9.81⋅sin(θ)      \n",
       "⎢                                                                             \n",
       "⎢                                 1.0⋅ωₓ⋅v_z - ω_z⋅vₓ - 9.81⋅sin(φ)⋅cos(θ)    \n",
       "⎢                                                                             \n",
       "⎢                            2.0⋅f_z - ωₓ⋅v_y + 1.0⋅ω_y⋅vₓ - 9.81⋅cos(φ)⋅cos(θ\n",
       "⎢                                                                             \n",
       "⎢                                ωₓ + ω_y⋅sin(φ)⋅tan(θ) + ω_z⋅cos(φ)⋅tan(θ)   \n",
       "⎢                                                                             \n",
       "⎢                                         ω_y⋅cos(φ) - ω_z⋅sin(φ)             \n",
       "⎢                                                                             \n",
       "⎢                                         ω_y⋅sin(φ) + ω_z⋅cos(φ)             \n",
       "⎢                                         ───────────────────────             \n",
       "⎢                                                  cos(θ)                     \n",
       "⎢                                                                             \n",
       "⎢                                        -0.739⋅ω_y⋅ω_z + 435.0⋅τₓ            \n",
       "⎢                                                                             \n",
       "⎢                                         0.739⋅ωₓ⋅ω_z + 435.0⋅τ_y            \n",
       "⎢                                                                             \n",
       "⎣                                                250.0⋅τ_z                    \n",
       "\n",
       "in(ψ) + sin(θ)⋅cos(φ)⋅cos(ψ))⎤\n",
       "                             ⎥\n",
       "os(ψ) - sin(ψ)⋅sin(θ)⋅cos(φ))⎥\n",
       "                             ⎥\n",
       ")                            ⎥\n",
       "                             ⎥\n",
       "                             ⎥\n",
       "                             ⎥\n",
       "                             ⎥\n",
       "                             ⎥\n",
       ")                            ⎥\n",
       "                             ⎥\n",
       "                             ⎥\n",
       "                             ⎥\n",
       "                             ⎥\n",
       "                             ⎥\n",
       "                             ⎥\n",
       "                             ⎥\n",
       "                             ⎥\n",
       "                             ⎥\n",
       "                             ⎥\n",
       "                             ⎥\n",
       "                             ⎥\n",
       "                             ⎥\n",
       "                             ⎦"
      ]
     },
     "execution_count": 13,
     "metadata": {},
     "output_type": "execute_result"
    }
   ],
   "source": [
    "N(f,3)"
   ]
  },
  {
   "cell_type": "code",
   "execution_count": 14,
   "id": "0b412885-c80c-4804-ac8b-269e01867603",
   "metadata": {},
   "outputs": [],
   "source": [
    "# Position of markers in body frame\n",
    "mark1_inB = Matrix([[lxy],\n",
    "                        [0.],\n",
    "                        [lz]])\n",
    "mark2_inB = Matrix([[0.],\n",
    "                        [lxy],\n",
    "                        [lz]])\n",
    "mark3_inB = Matrix([[-lxy],\n",
    "                        [0.],\n",
    "                        [lz]])\n",
    "mark4_inB = Matrix([[0.],\n",
    "                        [-lxy],\n",
    "                        [lz]])\n",
    "\n",
    "# Position of markers in world frame\n",
    "mark1_inW = p_inW + R_ofB_inW @ mark1_inB\n",
    "mark2_inW = p_inW + R_ofB_inW @ mark2_inB\n",
    "mark3_inW = p_inW + R_ofB_inW @ mark3_inB\n",
    "mark4_inW = p_inW + R_ofB_inW @ mark4_inB\n",
    "\n",
    "# Sensor model\n",
    "g = simplify(Matrix.vstack(mark1_inW, mark2_inW, mark3_inW, mark4_inW))"
   ]
  },
  {
   "cell_type": "code",
   "execution_count": 15,
   "id": "7fe09d70-fb88-427b-993b-2776406008f8",
   "metadata": {},
   "outputs": [
    {
     "data": {
      "text/latex": [
       "$\\displaystyle \\left[\\begin{matrix}p_{x} + 0.0469 \\sin{\\left(\\phi \\right)} \\sin{\\left(\\psi \\right)} + 0.0469 \\sin{\\left(\\theta \\right)} \\cos{\\left(\\phi \\right)} \\cos{\\left(\\psi \\right)} + 0.25 \\cos{\\left(\\psi \\right)} \\cos{\\left(\\theta \\right)}\\\\p_{y} - 0.0469 \\sin{\\left(\\phi \\right)} \\cos{\\left(\\psi \\right)} + 0.0469 \\sin{\\left(\\psi \\right)} \\sin{\\left(\\theta \\right)} \\cos{\\left(\\phi \\right)} + 0.25 \\sin{\\left(\\psi \\right)} \\cos{\\left(\\theta \\right)}\\\\p_{z} - 0.25 \\sin{\\left(\\theta \\right)} + 0.0469 \\cos{\\left(\\phi \\right)} \\cos{\\left(\\theta \\right)}\\\\p_{x} + 0.0469 \\sin{\\left(\\phi \\right)} \\sin{\\left(\\psi \\right)} + 0.25 \\sin{\\left(\\phi \\right)} \\sin{\\left(\\theta \\right)} \\cos{\\left(\\psi \\right)} - 0.25 \\sin{\\left(\\psi \\right)} \\cos{\\left(\\phi \\right)} + 0.0469 \\sin{\\left(\\theta \\right)} \\cos{\\left(\\phi \\right)} \\cos{\\left(\\psi \\right)}\\\\p_{y} + 0.25 \\sin{\\left(\\phi \\right)} \\sin{\\left(\\psi \\right)} \\sin{\\left(\\theta \\right)} - 0.0469 \\sin{\\left(\\phi \\right)} \\cos{\\left(\\psi \\right)} + 0.0469 \\sin{\\left(\\psi \\right)} \\sin{\\left(\\theta \\right)} \\cos{\\left(\\phi \\right)} + 0.25 \\cos{\\left(\\phi \\right)} \\cos{\\left(\\psi \\right)}\\\\p_{z} + 0.25 \\sin{\\left(\\phi \\right)} \\cos{\\left(\\theta \\right)} + 0.0469 \\cos{\\left(\\phi \\right)} \\cos{\\left(\\theta \\right)}\\\\p_{x} + 0.0469 \\sin{\\left(\\phi \\right)} \\sin{\\left(\\psi \\right)} + 0.0469 \\sin{\\left(\\theta \\right)} \\cos{\\left(\\phi \\right)} \\cos{\\left(\\psi \\right)} - 0.25 \\cos{\\left(\\psi \\right)} \\cos{\\left(\\theta \\right)}\\\\p_{y} - 0.0469 \\sin{\\left(\\phi \\right)} \\cos{\\left(\\psi \\right)} + 0.0469 \\sin{\\left(\\psi \\right)} \\sin{\\left(\\theta \\right)} \\cos{\\left(\\phi \\right)} - 0.25 \\sin{\\left(\\psi \\right)} \\cos{\\left(\\theta \\right)}\\\\p_{z} + 0.25 \\sin{\\left(\\theta \\right)} + 0.0469 \\cos{\\left(\\phi \\right)} \\cos{\\left(\\theta \\right)}\\\\p_{x} + 0.0469 \\sin{\\left(\\phi \\right)} \\sin{\\left(\\psi \\right)} - 0.25 \\sin{\\left(\\phi \\right)} \\sin{\\left(\\theta \\right)} \\cos{\\left(\\psi \\right)} + 0.25 \\sin{\\left(\\psi \\right)} \\cos{\\left(\\phi \\right)} + 0.0469 \\sin{\\left(\\theta \\right)} \\cos{\\left(\\phi \\right)} \\cos{\\left(\\psi \\right)}\\\\p_{y} - 0.25 \\sin{\\left(\\phi \\right)} \\sin{\\left(\\psi \\right)} \\sin{\\left(\\theta \\right)} - 0.0469 \\sin{\\left(\\phi \\right)} \\cos{\\left(\\psi \\right)} + 0.0469 \\sin{\\left(\\psi \\right)} \\sin{\\left(\\theta \\right)} \\cos{\\left(\\phi \\right)} - 0.25 \\cos{\\left(\\phi \\right)} \\cos{\\left(\\psi \\right)}\\\\p_{z} - 0.25 \\sin{\\left(\\phi \\right)} \\cos{\\left(\\theta \\right)} + 0.0469 \\cos{\\left(\\phi \\right)} \\cos{\\left(\\theta \\right)}\\end{matrix}\\right]$"
      ],
      "text/plain": [
       "⎡              pₓ + 0.0469⋅sin(φ)⋅sin(ψ) + 0.0469⋅sin(θ)⋅cos(φ)⋅cos(ψ) + 0.25⋅\n",
       "⎢                                                                             \n",
       "⎢              p_y - 0.0469⋅sin(φ)⋅cos(ψ) + 0.0469⋅sin(ψ)⋅sin(θ)⋅cos(φ) + 0.25\n",
       "⎢                                                                             \n",
       "⎢                                p_z - 0.25⋅sin(θ) + 0.0469⋅cos(φ)⋅cos(θ)     \n",
       "⎢                                                                             \n",
       "⎢pₓ + 0.0469⋅sin(φ)⋅sin(ψ) + 0.25⋅sin(φ)⋅sin(θ)⋅cos(ψ) - 0.25⋅sin(ψ)⋅cos(φ) + \n",
       "⎢                                                                             \n",
       "⎢p_y + 0.25⋅sin(φ)⋅sin(ψ)⋅sin(θ) - 0.0469⋅sin(φ)⋅cos(ψ) + 0.0469⋅sin(ψ)⋅sin(θ)\n",
       "⎢                                                                             \n",
       "⎢                             p_z + 0.25⋅sin(φ)⋅cos(θ) + 0.0469⋅cos(φ)⋅cos(θ) \n",
       "⎢                                                                             \n",
       "⎢              pₓ + 0.0469⋅sin(φ)⋅sin(ψ) + 0.0469⋅sin(θ)⋅cos(φ)⋅cos(ψ) - 0.25⋅\n",
       "⎢                                                                             \n",
       "⎢              p_y - 0.0469⋅sin(φ)⋅cos(ψ) + 0.0469⋅sin(ψ)⋅sin(θ)⋅cos(φ) - 0.25\n",
       "⎢                                                                             \n",
       "⎢                                p_z + 0.25⋅sin(θ) + 0.0469⋅cos(φ)⋅cos(θ)     \n",
       "⎢                                                                             \n",
       "⎢pₓ + 0.0469⋅sin(φ)⋅sin(ψ) - 0.25⋅sin(φ)⋅sin(θ)⋅cos(ψ) + 0.25⋅sin(ψ)⋅cos(φ) + \n",
       "⎢                                                                             \n",
       "⎢p_y - 0.25⋅sin(φ)⋅sin(ψ)⋅sin(θ) - 0.0469⋅sin(φ)⋅cos(ψ) + 0.0469⋅sin(ψ)⋅sin(θ)\n",
       "⎢                                                                             \n",
       "⎣                             p_z - 0.25⋅sin(φ)⋅cos(θ) + 0.0469⋅cos(φ)⋅cos(θ) \n",
       "\n",
       "cos(ψ)⋅cos(θ)               ⎤\n",
       "                            ⎥\n",
       "⋅sin(ψ)⋅cos(θ)              ⎥\n",
       "                            ⎥\n",
       "                            ⎥\n",
       "                            ⎥\n",
       "0.0469⋅sin(θ)⋅cos(φ)⋅cos(ψ) ⎥\n",
       "                            ⎥\n",
       "⋅cos(φ) + 0.25⋅cos(φ)⋅cos(ψ)⎥\n",
       "                            ⎥\n",
       "                            ⎥\n",
       "                            ⎥\n",
       "cos(ψ)⋅cos(θ)               ⎥\n",
       "                            ⎥\n",
       "⋅sin(ψ)⋅cos(θ)              ⎥\n",
       "                            ⎥\n",
       "                            ⎥\n",
       "                            ⎥\n",
       "0.0469⋅sin(θ)⋅cos(φ)⋅cos(ψ) ⎥\n",
       "                            ⎥\n",
       "⋅cos(φ) - 0.25⋅cos(φ)⋅cos(ψ)⎥\n",
       "                            ⎥\n",
       "                            ⎦"
      ]
     },
     "execution_count": 15,
     "metadata": {},
     "output_type": "execute_result"
    }
   ],
   "source": [
    "N(g,3)"
   ]
  },
  {
   "cell_type": "markdown",
   "id": "78a30e88-b28f-484e-b4cf-cfefa9e8affb",
   "metadata": {},
   "source": [
    "## System Linearization and State Space Form"
   ]
  },
  {
   "cell_type": "code",
   "execution_count": 16,
   "id": "bd0774ab-48d9-4a28-ae54-401ff5fbadaf",
   "metadata": {},
   "outputs": [],
   "source": [
    "# FIXME: Find an equilibrium point and linearize the system into state space form\n",
    "px_e = py_e = pz_e = vx_e = vy_e = vz_e = phi_e = theta_e = psi_e = omegax_e = omegay_e = omegaz_e = taux_e = tauy_e = tauz_e = 0.\n",
    "fz_e = 4.905\n",
    "\n",
    "m_e = np.array([0, 0, 0, 0, 0, 0, 0, 0, 0, 0, 0, 0])\n",
    "n_e = np.array([0, 0, 0, 4.905])"
   ]
  },
  {
   "cell_type": "code",
   "execution_count": 17,
   "id": "5dcf2747-59a9-45f5-9397-851aebcb4185",
   "metadata": {},
   "outputs": [
    {
     "data": {
      "text/latex": [
       "$\\displaystyle \\left[\\begin{matrix}0\\\\0\\\\0\\\\0\\\\0\\\\0\\\\0\\\\0\\\\0\\\\0\\\\0\\\\0\\end{matrix}\\right]$"
      ],
      "text/plain": [
       "⎡0⎤\n",
       "⎢ ⎥\n",
       "⎢0⎥\n",
       "⎢ ⎥\n",
       "⎢0⎥\n",
       "⎢ ⎥\n",
       "⎢0⎥\n",
       "⎢ ⎥\n",
       "⎢0⎥\n",
       "⎢ ⎥\n",
       "⎢0⎥\n",
       "⎢ ⎥\n",
       "⎢0⎥\n",
       "⎢ ⎥\n",
       "⎢0⎥\n",
       "⎢ ⎥\n",
       "⎢0⎥\n",
       "⎢ ⎥\n",
       "⎢0⎥\n",
       "⎢ ⎥\n",
       "⎢0⎥\n",
       "⎢ ⎥\n",
       "⎣0⎦"
      ]
     },
     "execution_count": 17,
     "metadata": {},
     "output_type": "execute_result"
    }
   ],
   "source": [
    "f_num = lambdify([px_inW, py_inW, pz_inW, vx_inB, vy_inB, vz_inB, phi, theta, psi, wx_inB, wy_inB, wz_inB, taux_inB, tauy_inB, tauz_inB, fz_inB], f)\n",
    "f_eq = f_num(px_e, py_e, pz_e, vx_e, vy_e, vz_e, phi_e, theta_e, psi_e, omegax_e, omegay_e, omegaz_e, taux_e, tauy_e, tauz_e, fz_e)\n",
    "Matrix(f_eq)"
   ]
  },
  {
   "cell_type": "code",
   "execution_count": 18,
   "id": "3dac4944-aa6a-4624-b2f8-18545c84eb1c",
   "metadata": {},
   "outputs": [
    {
     "name": "stdout",
     "output_type": "stream",
     "text": [
      "(12, 12)\n"
     ]
    },
    {
     "data": {
      "text/latex": [
       "$\\displaystyle \\left[\\begin{array}{cccccccccccc}0 & 0 & 0 & 1.0 & 0 & 0 & 0 & 0 & 0 & 0 & 0 & 0\\\\0 & 0 & 0 & 0 & 1.0 & 0 & 0 & 0 & 0 & 0 & 0 & 0\\\\0 & 0 & 0 & 0 & 0 & 1.0 & 0 & 0 & 0 & 0 & 0 & 0\\\\0 & 0 & 0 & 0 & 0 & 0 & 0 & 9.81 & 0 & 0 & 0 & 0\\\\0 & 0 & 0 & 0 & 0 & 0 & -9.81 & 0 & 0 & 0 & 0 & 0\\\\0 & 0 & 0 & 0 & 0 & 0 & 0 & 0 & 0 & 0 & 0 & 0\\\\0 & 0 & 0 & 0 & 0 & 0 & 0 & 0 & 0 & 1.0 & 0 & 0\\\\0 & 0 & 0 & 0 & 0 & 0 & 0 & 0 & 0 & 0 & 1.0 & 0\\\\0 & 0 & 0 & 0 & 0 & 0 & 0 & 0 & 0 & 0 & 0 & 1.0\\\\0 & 0 & 0 & 0 & 0 & 0 & 0 & 0 & 0 & 0 & 0 & 0\\\\0 & 0 & 0 & 0 & 0 & 0 & 0 & 0 & 0 & 0 & 0 & 0\\\\0 & 0 & 0 & 0 & 0 & 0 & 0 & 0 & 0 & 0 & 0 & 0\\end{array}\\right]$"
      ],
      "text/plain": [
       "⎡0  0  0  1.0   0    0     0     0    0   0    0    0 ⎤\n",
       "⎢                                                     ⎥\n",
       "⎢0  0  0   0   1.0   0     0     0    0   0    0    0 ⎥\n",
       "⎢                                                     ⎥\n",
       "⎢0  0  0   0    0   1.0    0     0    0   0    0    0 ⎥\n",
       "⎢                                                     ⎥\n",
       "⎢0  0  0   0    0    0     0    9.81  0   0    0    0 ⎥\n",
       "⎢                                                     ⎥\n",
       "⎢0  0  0   0    0    0   -9.81   0    0   0    0    0 ⎥\n",
       "⎢                                                     ⎥\n",
       "⎢0  0  0   0    0    0     0     0    0   0    0    0 ⎥\n",
       "⎢                                                     ⎥\n",
       "⎢0  0  0   0    0    0     0     0    0  1.0   0    0 ⎥\n",
       "⎢                                                     ⎥\n",
       "⎢0  0  0   0    0    0     0     0    0   0   1.0   0 ⎥\n",
       "⎢                                                     ⎥\n",
       "⎢0  0  0   0    0    0     0     0    0   0    0   1.0⎥\n",
       "⎢                                                     ⎥\n",
       "⎢0  0  0   0    0    0     0     0    0   0    0    0 ⎥\n",
       "⎢                                                     ⎥\n",
       "⎢0  0  0   0    0    0     0     0    0   0    0    0 ⎥\n",
       "⎢                                                     ⎥\n",
       "⎣0  0  0   0    0    0     0     0    0   0    0    0 ⎦"
      ]
     },
     "execution_count": 18,
     "metadata": {},
     "output_type": "execute_result"
    }
   ],
   "source": [
    "# Solving for Coefficient Matrix A\n",
    "A_num = lambdify([px_inW, py_inW, pz_inW, vx_inB, vy_inB, vz_inB, phi, theta, psi, wx_inB, wy_inB, wz_inB, taux_inB, tauy_inB, tauz_inB, fz_inB], \n",
    "                 f.jacobian([px_inW, py_inW, pz_inW, vx_inB, vy_inB, vz_inB, phi, theta, psi, wx_inB, wy_inB, wz_inB]))\n",
    "A = A_num(px_e, py_e, pz_e, vx_e, vy_e, vz_e, phi_e, theta_e, psi_e, omegax_e, omegay_e, omegaz_e, taux_e, tauy_e, tauz_e, fz_e)\n",
    "print(A.shape)\n",
    "Matrix(A)"
   ]
  },
  {
   "cell_type": "code",
   "execution_count": 19,
   "id": "b3e82a19-8db7-4f14-bf93-04a7987b7a81",
   "metadata": {},
   "outputs": [
    {
     "name": "stdout",
     "output_type": "stream",
     "text": [
      "(12, 4)\n"
     ]
    },
    {
     "data": {
      "text/latex": [
       "$\\displaystyle \\left[\\begin{matrix}0 & 0 & 0 & 0\\\\0 & 0 & 0 & 0\\\\0 & 0 & 0 & 0\\\\0 & 0 & 0 & 0\\\\0 & 0 & 0 & 0\\\\0 & 0 & 0 & 2.0\\\\0 & 0 & 0 & 0\\\\0 & 0 & 0 & 0\\\\0 & 0 & 0 & 0\\\\434.782608695652 & 0 & 0 & 0\\\\0 & 434.782608695652 & 0 & 0\\\\0 & 0 & 250.0 & 0\\end{matrix}\\right]$"
      ],
      "text/plain": [
       "⎡       0                 0            0     0 ⎤\n",
       "⎢                                              ⎥\n",
       "⎢       0                 0            0     0 ⎥\n",
       "⎢                                              ⎥\n",
       "⎢       0                 0            0     0 ⎥\n",
       "⎢                                              ⎥\n",
       "⎢       0                 0            0     0 ⎥\n",
       "⎢                                              ⎥\n",
       "⎢       0                 0            0     0 ⎥\n",
       "⎢                                              ⎥\n",
       "⎢       0                 0            0    2.0⎥\n",
       "⎢                                              ⎥\n",
       "⎢       0                 0            0     0 ⎥\n",
       "⎢                                              ⎥\n",
       "⎢       0                 0            0     0 ⎥\n",
       "⎢                                              ⎥\n",
       "⎢       0                 0            0     0 ⎥\n",
       "⎢                                              ⎥\n",
       "⎢434.782608695652         0            0     0 ⎥\n",
       "⎢                                              ⎥\n",
       "⎢       0          434.782608695652    0     0 ⎥\n",
       "⎢                                              ⎥\n",
       "⎣       0                 0          250.0   0 ⎦"
      ]
     },
     "execution_count": 19,
     "metadata": {},
     "output_type": "execute_result"
    }
   ],
   "source": [
    "# Solving for Coefficient Matrix B\n",
    "B_num = lambdify([px_inW, py_inW, pz_inW, vx_inB, vy_inB, vz_inB, phi, theta, psi, wx_inB, wy_inB, wz_inB, taux_inB, tauy_inB, tauz_inB, fz_inB], \n",
    "                 f.jacobian([taux_inB, tauy_inB, tauz_inB, fz_inB]))\n",
    "B = B_num(px_e, py_e, pz_e, vx_e, vy_e, vz_e, phi_e, theta_e, psi_e, omegax_e, omegay_e, omegaz_e, taux_e, tauy_e, tauz_e, fz_e)\n",
    "print(B.shape)\n",
    "Matrix(B)"
   ]
  },
  {
   "cell_type": "code",
   "execution_count": 20,
   "id": "2b8c931f-ca5c-4c84-9180-b35a131ec22f",
   "metadata": {},
   "outputs": [
    {
     "name": "stdout",
     "output_type": "stream",
     "text": [
      "(12, 48)\n",
      "True\n"
     ]
    }
   ],
   "source": [
    "# Checking Controllability\n",
    "n = A.shape[0]\n",
    "Wc = B\n",
    "for i in range(1, n):\n",
    "    col = np.linalg.matrix_power(A, i) @ B\n",
    "    Wc = np.block([Wc, col])\n",
    "print(Wc.shape)\n",
    "print(np.linalg.matrix_rank(Wc) == n)"
   ]
  },
  {
   "cell_type": "code",
   "execution_count": 21,
   "id": "ed4ff336-59eb-4600-8138-011250ffa76a",
   "metadata": {},
   "outputs": [
    {
     "name": "stdout",
     "output_type": "stream",
     "text": [
      "(12,)\n"
     ]
    },
    {
     "data": {
      "text/latex": [
       "$\\displaystyle \\left[\\begin{matrix}0.25\\\\0\\\\0.046875\\\\0\\\\0.25\\\\0.046875\\\\-0.25\\\\0\\\\0.046875\\\\0\\\\-0.25\\\\0.046875\\end{matrix}\\right]$"
      ],
      "text/plain": [
       "⎡  0.25  ⎤\n",
       "⎢        ⎥\n",
       "⎢   0    ⎥\n",
       "⎢        ⎥\n",
       "⎢0.046875⎥\n",
       "⎢        ⎥\n",
       "⎢   0    ⎥\n",
       "⎢        ⎥\n",
       "⎢  0.25  ⎥\n",
       "⎢        ⎥\n",
       "⎢0.046875⎥\n",
       "⎢        ⎥\n",
       "⎢ -0.25  ⎥\n",
       "⎢        ⎥\n",
       "⎢   0    ⎥\n",
       "⎢        ⎥\n",
       "⎢0.046875⎥\n",
       "⎢        ⎥\n",
       "⎢   0    ⎥\n",
       "⎢        ⎥\n",
       "⎢ -0.25  ⎥\n",
       "⎢        ⎥\n",
       "⎣0.046875⎦"
      ]
     },
     "execution_count": 21,
     "metadata": {},
     "output_type": "execute_result"
    }
   ],
   "source": [
    "# Solving for equilibrium matrix g\n",
    "g_eq = lambdify([px_inW, py_inW, pz_inW, vx_inB, vy_inB, vz_inB, phi, theta, psi, wx_inB, wy_inB, wz_inB, taux_inB, tauy_inB, tauz_inB, fz_inB], g)\n",
    "g_eq = g_eq(px_e, py_e, pz_e, vx_e, vy_e, vz_e, phi_e, theta_e, psi_e, omegax_e, omegay_e, omegaz_e, taux_e, tauy_e, tauz_e, fz_e)\n",
    "g_eq = g_eq.reshape(12,)\n",
    "print(g_eq.shape)\n",
    "Matrix(g_eq)"
   ]
  },
  {
   "cell_type": "code",
   "execution_count": 22,
   "id": "bca2b37b-5d1e-4312-9a60-522ab5ae961e",
   "metadata": {},
   "outputs": [
    {
     "name": "stdout",
     "output_type": "stream",
     "text": [
      "(12, 12)\n"
     ]
    },
    {
     "data": {
      "text/latex": [
       "$\\displaystyle \\left[\\begin{array}{cccccccccccc}1.0 & 0 & 0 & 0 & 0 & 0 & 0 & 0.046875 & 0 & 0 & 0 & 0\\\\0 & 1.0 & 0 & 0 & 0 & 0 & -0.046875 & 0 & 0.25 & 0 & 0 & 0\\\\0 & 0 & 1.0 & 0 & 0 & 0 & 0 & -0.25 & 0 & 0 & 0 & 0\\\\1.0 & 0 & 0 & 0 & 0 & 0 & 0 & 0.046875 & -0.25 & 0 & 0 & 0\\\\0 & 1.0 & 0 & 0 & 0 & 0 & -0.046875 & 0 & 0 & 0 & 0 & 0\\\\0 & 0 & 1.0 & 0 & 0 & 0 & 0.25 & 0 & 0 & 0 & 0 & 0\\\\1.0 & 0 & 0 & 0 & 0 & 0 & 0 & 0.046875 & 0 & 0 & 0 & 0\\\\0 & 1.0 & 0 & 0 & 0 & 0 & -0.046875 & 0 & -0.25 & 0 & 0 & 0\\\\0 & 0 & 1.0 & 0 & 0 & 0 & 0 & 0.25 & 0 & 0 & 0 & 0\\\\1.0 & 0 & 0 & 0 & 0 & 0 & 0 & 0.046875 & 0.25 & 0 & 0 & 0\\\\0 & 1.0 & 0 & 0 & 0 & 0 & -0.046875 & 0 & 0 & 0 & 0 & 0\\\\0 & 0 & 1.0 & 0 & 0 & 0 & -0.25 & 0 & 0 & 0 & 0 & 0\\end{array}\\right]$"
      ],
      "text/plain": [
       "⎡1.0   0    0   0  0  0      0      0.046875    0    0  0  0⎤\n",
       "⎢                                                           ⎥\n",
       "⎢ 0   1.0   0   0  0  0  -0.046875     0      0.25   0  0  0⎥\n",
       "⎢                                                           ⎥\n",
       "⎢ 0    0   1.0  0  0  0      0       -0.25      0    0  0  0⎥\n",
       "⎢                                                           ⎥\n",
       "⎢1.0   0    0   0  0  0      0      0.046875  -0.25  0  0  0⎥\n",
       "⎢                                                           ⎥\n",
       "⎢ 0   1.0   0   0  0  0  -0.046875     0        0    0  0  0⎥\n",
       "⎢                                                           ⎥\n",
       "⎢ 0    0   1.0  0  0  0    0.25        0        0    0  0  0⎥\n",
       "⎢                                                           ⎥\n",
       "⎢1.0   0    0   0  0  0      0      0.046875    0    0  0  0⎥\n",
       "⎢                                                           ⎥\n",
       "⎢ 0   1.0   0   0  0  0  -0.046875     0      -0.25  0  0  0⎥\n",
       "⎢                                                           ⎥\n",
       "⎢ 0    0   1.0  0  0  0      0        0.25      0    0  0  0⎥\n",
       "⎢                                                           ⎥\n",
       "⎢1.0   0    0   0  0  0      0      0.046875  0.25   0  0  0⎥\n",
       "⎢                                                           ⎥\n",
       "⎢ 0   1.0   0   0  0  0  -0.046875     0        0    0  0  0⎥\n",
       "⎢                                                           ⎥\n",
       "⎣ 0    0   1.0  0  0  0    -0.25       0        0    0  0  0⎦"
      ]
     },
     "execution_count": 22,
     "metadata": {},
     "output_type": "execute_result"
    }
   ],
   "source": [
    "# Solving for Coefficient Matrix C\n",
    "C_num = lambdify([px_inW, py_inW, pz_inW, vx_inB, vy_inB, vz_inB, phi, theta, psi, wx_inB, wy_inB, wz_inB, taux_inB, tauy_inB, tauz_inB, fz_inB], \n",
    "                 g.jacobian([px_inW, py_inW, pz_inW, vx_inB, vy_inB, vz_inB, phi, theta, psi, wx_inB, wy_inB, wz_inB]))\n",
    "C = C_num(px_e, py_e, pz_e, vx_e, vy_e, vz_e, phi_e, theta_e, psi_e, omegax_e, omegay_e, omegaz_e, taux_e, tauy_e, tauz_e, fz_e)\n",
    "print(C.shape)\n",
    "Matrix(C)"
   ]
  },
  {
   "cell_type": "code",
   "execution_count": 23,
   "id": "84abe4d1-ebec-4c2b-984d-87b91b2034bc",
   "metadata": {},
   "outputs": [
    {
     "name": "stdout",
     "output_type": "stream",
     "text": [
      "(12, 4)\n"
     ]
    },
    {
     "data": {
      "text/latex": [
       "$\\displaystyle \\left[\\begin{matrix}0 & 0 & 0 & 0\\\\0 & 0 & 0 & 0\\\\0 & 0 & 0 & 0\\\\0 & 0 & 0 & 0\\\\0 & 0 & 0 & 0\\\\0 & 0 & 0 & 0\\\\0 & 0 & 0 & 0\\\\0 & 0 & 0 & 0\\\\0 & 0 & 0 & 0\\\\0 & 0 & 0 & 0\\\\0 & 0 & 0 & 0\\\\0 & 0 & 0 & 0\\end{matrix}\\right]$"
      ],
      "text/plain": [
       "⎡0  0  0  0⎤\n",
       "⎢          ⎥\n",
       "⎢0  0  0  0⎥\n",
       "⎢          ⎥\n",
       "⎢0  0  0  0⎥\n",
       "⎢          ⎥\n",
       "⎢0  0  0  0⎥\n",
       "⎢          ⎥\n",
       "⎢0  0  0  0⎥\n",
       "⎢          ⎥\n",
       "⎢0  0  0  0⎥\n",
       "⎢          ⎥\n",
       "⎢0  0  0  0⎥\n",
       "⎢          ⎥\n",
       "⎢0  0  0  0⎥\n",
       "⎢          ⎥\n",
       "⎢0  0  0  0⎥\n",
       "⎢          ⎥\n",
       "⎢0  0  0  0⎥\n",
       "⎢          ⎥\n",
       "⎢0  0  0  0⎥\n",
       "⎢          ⎥\n",
       "⎣0  0  0  0⎦"
      ]
     },
     "execution_count": 23,
     "metadata": {},
     "output_type": "execute_result"
    }
   ],
   "source": [
    "# Solving for Coefficient Matrix D\n",
    "D_num = lambdify([px_inW, py_inW, pz_inW, vx_inB, vy_inB, vz_inB, phi, theta, psi, wx_inB, wy_inB, wz_inB, taux_inB, tauy_inB, tauz_inB, fz_inB], \n",
    "                 g.jacobian([taux_inB, tauy_inB, tauz_inB, fz_inB]))\n",
    "D = D_num(px_e, py_e, pz_e, vx_e, vy_e, vz_e, phi_e, theta_e, psi_e, omegax_e, omegay_e, omegaz_e, taux_e, tauy_e, tauz_e, fz_e)\n",
    "print(D.shape)\n",
    "Matrix(D)"
   ]
  },
  {
   "cell_type": "code",
   "execution_count": 24,
   "id": "3683ddd9-abc5-4656-a4b2-e7c082b9d18a",
   "metadata": {},
   "outputs": [
    {
     "name": "stdout",
     "output_type": "stream",
     "text": [
      "(144, 12)\n",
      "True\n"
     ]
    }
   ],
   "source": [
    "# Checking for Observability\n",
    "n = np.shape(A)[0]\n",
    "Wo = C\n",
    "for i in range(1, n):\n",
    "    col = C@np.linalg.matrix_power(A, i)\n",
    "    Wo = np.block([[Wo], [col]])\n",
    "print(Wo.shape)\n",
    "print(np.linalg.matrix_rank(Wo) == n)"
   ]
  },
  {
   "cell_type": "code",
   "execution_count": 25,
   "id": "db3e0a0f-ab99-4581-aa46-e8805d056211",
   "metadata": {},
   "outputs": [],
   "source": [
    "def lqr(A,B,Q,R):\n",
    "    P = linalg.solve_continuous_are(A, B, Q, R)\n",
    "    K = linalg.inv(R) @  B.T @ P\n",
    "    return K"
   ]
  },
  {
   "cell_type": "code",
   "execution_count": 45,
   "id": "fbaee92f-ceee-4a94-81eb-637fad2f9355",
   "metadata": {},
   "outputs": [
    {
     "name": "stdout",
     "output_type": "stream",
     "text": [
      "(4, 12)\n",
      "[[2.488389416073022e-19, -0.0006499999999999957, -2.453366449180228e-17, 2.5052952214053916e-19, -0.0015437786460063903, -2.50120007078978e-17, 0.015092553343889915, 9.62709853181354e-19, -9.933972558517063e-19, 0.008433015201094638, -9.39808517467077e-19, -5.7844920497034e-18], [0.0006500000000000011, 2.762553015218238e-19, -4.854332352263061e-18, 0.0015400826569502335, 6.142992815446531e-19, -1.8198493649923982e-19, -3.478825393907785e-18, 0.015006542903954912, -1.5260510957650788e-19, -9.39808517467077e-19, 0.008409524205220694, 2.971017055523295e-18], [2.171392602961896e-19, 9.70809015260651e-19, 2.4665892861596243e-18, 4.479352252462763e-19, 1.2412654196256563e-18, -5.610210634061221e-19, -8.163456315495568e-18, 3.421997862882925e-18, 0.0006500000000000008, -3.326082928579456e-18, 1.7083348069258952e-18, 0.0026248809496813405], [7.358294879379037e-17, 9.11797240443686e-16, 1.59999999999999, 3.6953365809426163e-17, 1.279470439098354e-15, 1.2740564958621354, -1.5581274088751288e-14, 6.906758242752222e-17, 6.548467618944233e-16, -6.971392197306617e-15, -5.072318608793015e-17, -2.719458314451451e-16]]\n"
     ]
    }
   ],
   "source": [
    "Qc = np.diag([1/(100**2), 1/(100**2), 1/(10**2), 1/(105**2), 1/(105**2), 1/(105**2), 1/(50**2), 1/(100**2), 1/(100**2), 1/(50**2), 1/(50**2), 1/(50**2)])\n",
    "Rc = np.diag([1/(0.065**2),1/(0.065**2),1/(0.065**2),1/(16**2)])\n",
    "K = lqr(A,B,Qc,Rc)\n",
    "print(K.shape)\n",
    "#Matrix(K)\n",
    "print(K.tolist())"
   ]
  },
  {
   "cell_type": "code",
   "execution_count": 46,
   "id": "b1b41bae-b46c-4a36-b66b-4c8ad48f16d9",
   "metadata": {},
   "outputs": [
    {
     "name": "stdout",
     "output_type": "stream",
     "text": [
      "(12, 12)\n",
      "[[1.6029062077908953, 3.4241981533357485e-16, -0.19023458860096662, 1.6029062077908953, 3.3519870604282115e-16, -6.18544002171761e-17, 1.6029062077908953, 3.2797759675206746e-16, 0.19023458860096668, 1.6029062077908953, 3.3519870604282115e-16, 1.2208612393107435e-16], [3.4524039876789437e-16, 1.6029062077908918, -2.3396625344458764e-16, 2.1088812043332036e-16, 1.6029062077908915, -0.1902345886009658, 3.4524039876789437e-16, 1.6029062077908913, 5.708565977111054e-17, 4.795926771024684e-16, 1.6029062077908915, 0.19023458860096562], [2.985403526868438e-17, -2.1846278881175878e-16, 0.7071067811865477, 1.6265549442012165e-16, -8.56613296603215e-17, 0.7071067811865477, 2.985403526868438e-17, 4.714012949111578e-17, 0.7071067811865477, -1.029474238827529e-16, -8.56613296603215e-17, 0.7071067811865477], [4.910386974689184, 2.850457435659415e-15, -1.2564328215456562, 4.910386974689184, 2.6455790908358463e-15, -6.660698609814086e-16, 4.910386974689184, 2.4407007460122776e-15, 1.2564328215456562, 4.910386974689184, 2.6455790908358463e-15, 7.639733131235296e-16], [1.9709732244785937e-15, 4.9103869746891675, -1.1778591804033626e-15, 1.758020138393161e-15, 4.9103869746891675, -1.2564328215456557, 1.9709732244785937e-15, 4.9103869746891675, 1.9784228299526823e-16, 2.1839263105640263e-15, 4.9103869746891675, 1.2564328215456548], [-3.5376354961972e-17, -5.046611029173137e-16, 0.5000000000000012, 2.3928770947741787e-16, -2.2999703847792393e-16, 0.5000000000000011, -3.5376354961972e-17, 4.4667025961465927e-17, 0.500000000000001, -3.1004041940136184e-16, -2.2999703847792393e-16, 0.5000000000000011], [-4.024340011452505e-16, -0.8281904638347831, 1.2499778209643453e-16, -2.3304479740044463e-16, -0.8281904638347829, 0.35867791696490703, -4.024340011452505e-16, -0.8281904638347827, -2.4356704829022797e-16, -5.718232048900564e-16, -0.8281904638347829, -0.35867791696490714], [0.8281904638347867, 6.332178364490343e-16, -0.35867791696490686, 0.8281904638347867, 6.166567792801459e-16, -1.898680490763125e-16, 0.8281904638347867, 6.000957221112575e-16, 0.35867791696490686, 0.8281904638347867, 6.166567792801459e-16, 1.7869678131035002e-16], [3.1989635382181434e-17, 1.118033988749893, -5.477668937746375e-16, -1.1180339887498925, 5.691695890404472e-16, -7.00595040350555e-16, 3.1989635382181434e-17, -1.118033988749892, -5.146447794368607e-16, 1.1180339887498925, 5.691695890404472e-16, -3.6181663286094325e-16], [-2.1410683468069205e-16, -0.46767718316333945, 1.8301791898956894e-16, -4.5608285973369114e-17, -0.4676771831633393, 0.2501121842230106, -2.1410683468069205e-16, -0.4676771831633391, 1.8705797603702476e-17, -3.82605383388015e-16, -0.4676771831633393, -0.2501121842230104], [0.46767718316334095, -2.1594989944120373e-16, -0.25011218422300974, 0.46767718316334095, -2.1038410103259788e-16, 1.40125546545465e-16, 0.46767718316334095, -2.0481830262399203e-16, 0.25011218422300996, 0.46767718316334095, -2.1038410103259788e-16, 8.165082968950337e-17], [6.45981148852173e-17, 0.4999999999999973, -5.644583023017978e-16, -0.49999999999999717, 8.139895922760096e-17, -5.898315972377691e-16, 6.45981148852173e-17, -0.49999999999999717, -5.246839838669919e-16, 0.4999999999999973, 8.139895922760096e-17, -4.993106889310206e-16]]\n"
     ]
    }
   ],
   "source": [
    "Ro = np.diag([1, 1, 1, 1, 1, 1, 1, 1, 1, 1, 1, 1])\n",
    "Qo = np.diag([1, 1, 1, 1, 1, 1, 1, 1, 1, 1, 1, 1])\n",
    "L = lqr(A.T,C.T,linalg.inv(Ro),linalg.inv(Qo)).T\n",
    "print(L.shape)\n",
    "#Matrix(L)\n",
    "print(L.tolist())"
   ]
  },
  {
   "cell_type": "code",
   "execution_count": 28,
   "id": "0650af00-9c9f-4603-807c-6354a90440b9",
   "metadata": {},
   "outputs": [
    {
     "name": "stdout",
     "output_type": "stream",
     "text": [
      "[-0.67722387+1.26659248j -0.67722387-1.26659248j -1.15093356+0.13888266j\n",
      " -1.15093356-0.13888266j -0.68837747+1.26361086j -0.68837747-1.26361086j\n",
      " -1.2740565 +1.25569903j -1.2740565 -1.25569903j -1.14488671+0.16787305j\n",
      " -1.14488671-0.16787305j -0.32811012+0.23418742j -0.32811012-0.23418742j]\n",
      "[-1.40682801+2.17021669e+00j -1.40682801-2.17021669e+00j\n",
      " -1.40682801+2.17021669e+00j -1.40682801-2.17021669e+00j\n",
      " -2.93130819+0.00000000e+00j -2.93130819+0.00000000e+00j\n",
      " -0.55901699+4.33012702e-01j -0.55901699-4.33012702e-01j\n",
      " -1.00128528+0.00000000e+00j -1.00128528+0.00000000e+00j\n",
      " -1.41421356+4.78610025e-08j -1.41421356-4.78610025e-08j]\n"
     ]
    }
   ],
   "source": [
    "print(linalg.eigvals(A-B@K))\n",
    "print(linalg.eigvals(A-L@C))"
   ]
  },
  {
   "cell_type": "markdown",
   "id": "5309a767-b2bb-44a7-bb9c-d915946bdc1a",
   "metadata": {},
   "source": [
    "## Gain Selection and Controller Design"
   ]
  },
  {
   "cell_type": "code",
   "execution_count": 39,
   "id": "efc14387-28dd-48c2-b9f0-7042b307f3bd",
   "metadata": {},
   "outputs": [],
   "source": [
    "# Create the Controller class\n",
    "class Controller():\n",
    "    def __init__(self):\n",
    "        # Initializing controller\n",
    "        self.A = np.array(A, dtype=float)\n",
    "        self.B = np.array(B, dtype=float)\n",
    "        self.C = np.array(C, dtype=float)\n",
    "        self.K = np.array(K, dtype=float)\n",
    "        self.L = np.array(L, dtype=float)\n",
    "        self.m_e = np.array([px_e, py_e, pz_e, vx_e, vy_e, vz_e, phi_e, theta_e, psi_e, omegax_e, omegay_e, omegaz_e])\n",
    "        self.n_e = np.array([taux_e, tauy_e, tauz_e, fz_e])\n",
    "        self.g_eq = g_eq\n",
    "        self.e_max = 1.0\n",
    "        self.phat_history = np.array([0.,0.,0.])\n",
    "        self.pdes_history = np.array([0.,0.,0.])\n",
    "        pass\n",
    "\n",
    "    \n",
    "    def reset(self):\n",
    "        # Defining arrays for data collection\n",
    "        self.xhat = np.array([0., 0., 0., 0., 0., 0., 0., 0., 0., 0., 0., 0.])\n",
    "        self.phat_history = np.array([0.,0.,0.])\n",
    "        self.pdes_history = np.array([0.,0.,0.])\n",
    "        pass\n",
    "    \n",
    "    \n",
    "    def run(self, **kwargs):\n",
    "        # Obtaining necessary variables\n",
    "        self.dt = kwargs[\"dt\"]\n",
    "        self.p_des = kwargs[\"next_gate\"]\n",
    "        self.p_dir = kwargs[\"dir_gate\"]\n",
    "        self.p_hat = self.xhat[:3]\n",
    "\n",
    "        # Defining targeted position of gate \n",
    "        up = np.array([0,0,1])\n",
    "        self.p_des = self.p_des + up\n",
    "        \n",
    "        # Constants\n",
    "        k_attract = 11.9    # ideal is 11.5\n",
    "        k_repel = 0        # ideal is 1.0\n",
    "        k_des = 1.0        # ideal is 1.0\n",
    "        r_drone = 0.8      # ideal is 0.8\n",
    "        \n",
    "        # Attractive Component\n",
    "        h_attract = k_attract*(self.p_hat - self.p_des)/np.linalg.norm(self.p_hat - self.p_des)\n",
    "\n",
    "        # Repulsive Component\n",
    "        h_repel = 0\n",
    "        for q in kwargs[\"pos_others\"]:\n",
    "            p_obst = q + r_drone*(self.p_hat - q)/np.linalg.norm(self.p_hat - q)\n",
    "            grad_d = (self.p_hat - p_obst)/np.linalg.norm(self.p_hat - p_obst)\n",
    "            d_p = np.linalg.norm(self.p_hat - p_obst) - r_drone\n",
    "            h_repel += -k_repel*(grad_d/d_p**2)\n",
    "        \n",
    "        h = h_attract + h_repel\n",
    "        \n",
    "        # Minimizing error\n",
    "        if np.linalg.norm(self.p_des - self.p_hat) < self.e_max:\n",
    "            self.p_des = self.p_des\n",
    "        else:\n",
    "            self.p_des = self.p_hat - k_des*h\n",
    "            \n",
    "        self.x_des = np.block([self.p_des, np.zeros(9)])\n",
    "\n",
    "        # Calculating gains\n",
    "        u = - self.K@(self.xhat - self.x_des)\n",
    "        inputs = u + self.n_e\n",
    "            \n",
    "        # Last gate condition\n",
    "        if kwargs[\"is_last_gate\"]:\n",
    "            inputs = inputs*1.1\n",
    "        \n",
    "        # Updating state estimate\n",
    "        sensor = np.block([kwargs[\"mocap_1\"], kwargs[\"mocap_2\"], kwargs[\"mocap_3\"], kwargs[\"mocap_4\"]])\n",
    "        y = sensor - self.g_eq\n",
    "        self.xhat += self.dt * (self.A@self.xhat + self.B@u - self.L@(self.C@self.xhat - y))\n",
    "\n",
    "        # Updating observer history\n",
    "        self.phat_history = np.block([[self.phat_history], [self.xhat[:3]]])\n",
    "        self.pdes_history = np.block([[self.pdes_history], [self.p_des]])\n",
    "        \n",
    "        return inputs\n",
    "\n",
    "# Creates an instance of the Controller class to simulate a quadrotor\n",
    "controller = Controller()"
   ]
  },
  {
   "cell_type": "code",
   "execution_count": 43,
   "id": "26216fd5-5ece-43bd-9ea2-831af2db0136",
   "metadata": {
    "scrolled": true
   },
   "outputs": [
    {
     "name": "stdout",
     "output_type": "stream",
     "text": [
      "Team Flying Mambas:0 PASSED GATE 1 IN 3.33s\n",
      "Team Flying Mambas:0 PASSED GATE 2 IN 6.12s\n",
      "Team Flying Mambas:0 PASSED GATE 3 IN 8.74s\n",
      "Team Flying Mambas:0 PASSED GATE 4 IN 12.24s\n",
      "Team Flying Mambas:0 PASSED GATE 5 IN 15.65s\n",
      "Team Flying Mambas:0 PASSED GATE 6 IN 21.53s\n",
      "Team Flying Mambas:0 PASSED GATE 7 IN 23.21s\n",
      "Team Flying Mambas:0 COMPLETED LAP IN 23.21s\n"
     ]
    }
   ],
   "source": [
    "# Creating empty data arrays\n",
    "p_est_act = np.array([])\n",
    "p_des_act = np.array([])\n",
    "time = np.array([])\n",
    "\n",
    "trials = 1\n",
    "\n",
    "# Initialize the controller\n",
    "controller.__init__()\n",
    "for i in range(1, trials+1):\n",
    "    # Reset the simulator with initial conditions at equilibirum\n",
    "    team_list = [\"Team Flying Mambas\"]\n",
    "    sim = ae353_quadrotor.Quadrotor_Sim(n_quadrotors=1,\n",
    "                                    team_list=team_list,\n",
    "                                    planet=\"Earth\",\n",
    "                                    use_keyboard=False,\n",
    "                                    visualization=False,\n",
    "                                    visualization_fr=45.,\n",
    "                                    animation=False,\n",
    "                                    verbose=False)\n",
    "    # Reset the controller\n",
    "    controller.reset()\n",
    "    \n",
    "    # Run the simulation\n",
    "    controllers = [controller]\n",
    "    (track_stats, data) = sim.run(controllers,\n",
    "                              sensor_noise=0.01,\n",
    "                              collect_data=True,\n",
    "                              max_time=25.0,\n",
    "                              verbose=True)\n",
    "    # Collecting data\n",
    "    p_est = controller.phat_history\n",
    "    p_des = controller.pdes_history\n",
    "    pos = np.array(data[0]['position'])\n",
    "\n",
    "    # Storing data into arrays\n",
    "    p_est_act = np.append(p_est_act, np.sqrt(np.mean(pos - p_est[1:])**2))\n",
    "    p_des_act = np.append(p_des_act, np.sqrt(np.mean(pos - p_des[1:])**2))\n",
    "\n",
    "    # Collecting simulation run times\n",
    "    if(data[0][\"time\"][-1] < 29):\n",
    "        time = np.append(time, data[0][\"time\"][-1])\n",
    "    else:\n",
    "        time = np.append(time, 0)"
   ]
  },
  {
   "cell_type": "code",
   "execution_count": null,
   "id": "abc18493-a0e2-416b-9ec9-4fa3a03d7de5",
   "metadata": {},
   "outputs": [],
   "source": []
  }
 ],
 "metadata": {
  "kernelspec": {
   "display_name": "Python 3 (ipykernel)",
   "language": "python",
   "name": "python3"
  },
  "language_info": {
   "codemirror_mode": {
    "name": "ipython",
    "version": 3
   },
   "file_extension": ".py",
   "mimetype": "text/x-python",
   "name": "python",
   "nbconvert_exporter": "python",
   "pygments_lexer": "ipython3",
   "version": "3.11.7"
  }
 },
 "nbformat": 4,
 "nbformat_minor": 5
}
