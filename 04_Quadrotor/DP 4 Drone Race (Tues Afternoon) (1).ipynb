{
 "cells": [
  {
   "cell_type": "markdown",
   "id": "bfbe3b46-48c9-4c33-8edf-b475e22b1438",
   "metadata": {},
   "source": [
    "# DP 4 Drone Race\n",
    "by Emily Lory and Conan Zhang"
   ]
  },
  {
   "cell_type": "code",
   "execution_count": 34,
   "id": "b1a8c8b3-2450-4589-8375-82e4bb0d0ed2",
   "metadata": {},
   "outputs": [],
   "source": [
    "from sympy import * \n",
    "import numpy as np\n",
    "from scipy import linalg\n",
    "import matplotlib.pyplot as plt\n",
    "init_printing()"
   ]
  },
  {
   "cell_type": "code",
   "execution_count": 2,
   "id": "db7470a5-55cb-4366-b047-ca9da43da55d",
   "metadata": {},
   "outputs": [],
   "source": [
    "# Get the gravity in m/s^2\n",
    "from ae353_quadrotor import get_gravity\n",
    "planet = \"Earth\"\n",
    "grav = get_gravity(planet, verbose=True)"
   ]
  },
  {
   "cell_type": "code",
   "execution_count": 3,
   "id": "ae33b3ca-a721-46d7-88c7-23a2898ddd78",
   "metadata": {},
   "outputs": [],
   "source": [
    "# Mass and moment of inertia of the bus\n",
    "mass = 0.5    # The mass of the quadrotor in kg\n",
    "Ixx = 0.0023  # The moment of inertia of the quadrotor in \n",
    "Iyy = 0.0023  # The mass of the quadrotor in kg\n",
    "Izz = 0.0040  # The mass of the quadrotor in kg\n",
    "lxy = 0.25    # The x or y distance from the quadrotor frame to the mocap markers in meters\n",
    "lz = 0.046875 # The z distance from the quadrotor frame to the mocap markers in meters"
   ]
  },
  {
   "cell_type": "code",
   "execution_count": 42,
   "id": "272d785b-00cd-459f-ae74-8668d23ae450",
   "metadata": {},
   "outputs": [],
   "source": [
    "# Define position\n",
    "px_inW, py_inW, pz_inW = symbols('p_x, p_y, p_z')\n",
    "\n",
    "# Define velocity\n",
    "vx_inB, vy_inB, vz_inB = symbols('v_x, v_y, v_z')\n",
    "\n",
    "# Define roll (phi), pitch (theta), and yaw (psi) angles\n",
    "phi, theta, psi = symbols('phi, theta, psi')\n",
    "\n",
    "# Define angular velocities\n",
    "wx_inB, wy_inB, wz_inB = symbols('omega_x, omega_y, omega_z')\n",
    "\n",
    "# Define roll, pitch, and yaw rotation matrices that describe the bus's orientation in the world frame\n",
    "taux_inB, tauy_inB, tauz_inB, fz_inB = symbols('tau_x, tau_y, tau_z, f_z')"
   ]
  },
  {
   "cell_type": "code",
   "execution_count": 43,
   "id": "ca0f47b0-ddce-4b18-adde-a05c35ea10f3",
   "metadata": {},
   "outputs": [],
   "source": [
    "p_inW = Matrix([[px_inW],[py_inW], [pz_inW]])\n",
    "v_inB = Matrix([[vx_inB],[vy_inB],[vz_inB]])\n",
    "w_inB = Matrix([[wx_inB],[wy_inB], [wz_inB]])\n",
    "Rx = Matrix([[1,0,0],[0, cos(phi), -sin(phi)],[0, sin(phi),  cos(phi)]])\n",
    "Ry = Matrix([[ cos(theta), 0, sin(theta)],[0, 1,0], [-sin(theta), 0, cos(theta)]])\n",
    "Rz = Matrix([[cos(psi), -sin(psi), 0],[sin(psi),  cos(psi), 0],[0,0,1]])\n",
    "R_ofB_inW = Rz @ Ry @ Rx\n",
    "R_ofW_inB = R_ofB_inW.T"
   ]
  },
  {
   "cell_type": "code",
   "execution_count": 44,
   "id": "8937a756-2340-4fab-971e-2414f1665de7",
   "metadata": {},
   "outputs": [],
   "source": [
    "# Get the net torque vector\n",
    "tau_inB = Matrix([[taux_inB],\n",
    "                      [tauy_inB],\n",
    "                      [tauz_inB]])\n",
    "tau_inB = simplify(tau_inB)\n",
    "\n",
    "# Get the gravity force and convert to body coordiantes\n",
    "grav_inW = Matrix([[0.],\n",
    "                       [0.],\n",
    "                       [-mass * grav]])\n",
    "grav_inB = R_ofW_inB @ grav_inW\n",
    "\n",
    "# Get the net force vector\n",
    "f_inB = grav_inB + Matrix([[0.],\n",
    "                               [0.],\n",
    "                               [fz_inB]])\n",
    "f_inB = simplify(f_inB)"
   ]
  },
  {
   "cell_type": "code",
   "execution_count": 6,
   "id": "19d3f743-30eb-4c13-b68b-47381f748712",
   "metadata": {},
   "outputs": [],
   "source": [
    "# Assemble the moment of inertia matrix\n",
    "I_inB = Matrix([[Ixx, 0.,  0.],\n",
    "                    [0.,  Iyy, 0.],\n",
    "                    [0.,  0.,  Izz]])"
   ]
  },
  {
   "cell_type": "code",
   "execution_count": 7,
   "id": "3bb31816-210c-47a2-95ef-69b99794f5f8",
   "metadata": {},
   "outputs": [
    {
     "name": "stdout",
     "output_type": "stream",
     "text": [
      "px, py, pz rate as a function of orientation and body-fixed velocities:\n"
     ]
    },
    {
     "data": {
      "text/latex": [
       "$\\displaystyle \\left[\\begin{matrix}v_{x} \\cos{\\left(\\psi \\right)} \\cos{\\left(\\theta \\right)} + v_{y} \\left(\\sin{\\left(\\phi \\right)} \\sin{\\left(\\theta \\right)} \\cos{\\left(\\psi \\right)} - \\sin{\\left(\\psi \\right)} \\cos{\\left(\\phi \\right)}\\right) + v_{z} \\left(\\sin{\\left(\\phi \\right)} \\sin{\\left(\\psi \\right)} + \\sin{\\left(\\theta \\right)} \\cos{\\left(\\phi \\right)} \\cos{\\left(\\psi \\right)}\\right)\\\\v_{x} \\sin{\\left(\\psi \\right)} \\cos{\\left(\\theta \\right)} + v_{y} \\left(\\sin{\\left(\\phi \\right)} \\sin{\\left(\\psi \\right)} \\sin{\\left(\\theta \\right)} + \\cos{\\left(\\phi \\right)} \\cos{\\left(\\psi \\right)}\\right) - v_{z} \\left(\\sin{\\left(\\phi \\right)} \\cos{\\left(\\psi \\right)} - \\sin{\\left(\\psi \\right)} \\sin{\\left(\\theta \\right)} \\cos{\\left(\\phi \\right)}\\right)\\\\- v_{x} \\sin{\\left(\\theta \\right)} + v_{y} \\sin{\\left(\\phi \\right)} \\cos{\\left(\\theta \\right)} + v_{z} \\cos{\\left(\\phi \\right)} \\cos{\\left(\\theta \\right)}\\end{matrix}\\right]$"
      ],
      "text/plain": [
       "⎡vₓ⋅cos(ψ)⋅cos(θ) + v_y⋅(sin(φ)⋅sin(θ)⋅cos(ψ) - sin(ψ)⋅cos(φ)) + v_z⋅(sin(φ)⋅s\n",
       "⎢                                                                             \n",
       "⎢vₓ⋅sin(ψ)⋅cos(θ) + v_y⋅(sin(φ)⋅sin(ψ)⋅sin(θ) + cos(φ)⋅cos(ψ)) - v_z⋅(sin(φ)⋅c\n",
       "⎢                                                                             \n",
       "⎣                            -vₓ⋅sin(θ) + v_y⋅sin(φ)⋅cos(θ) + v_z⋅cos(φ)⋅cos(θ\n",
       "\n",
       "in(ψ) + sin(θ)⋅cos(φ)⋅cos(ψ))⎤\n",
       "                             ⎥\n",
       "os(ψ) - sin(ψ)⋅sin(θ)⋅cos(φ))⎥\n",
       "                             ⎥\n",
       ")                            ⎦"
      ]
     },
     "execution_count": 7,
     "metadata": {},
     "output_type": "execute_result"
    }
   ],
   "source": [
    "v_inW = R_ofB_inW @ v_inB\n",
    "xyz_dot = simplify(v_inW)\n",
    "print(\"px, py, pz rate as a function of orientation and body-fixed velocities:\")\n",
    "N(xyz_dot,3)"
   ]
  },
  {
   "cell_type": "code",
   "execution_count": 8,
   "id": "fcb25633-3cb8-4fca-85e5-fad88dea95f8",
   "metadata": {},
   "outputs": [
    {
     "name": "stdout",
     "output_type": "stream",
     "text": [
      "Body-fixed velocity rates as a function of orientation, body-fixed velocities, and applied forces:\n"
     ]
    },
    {
     "data": {
      "text/latex": [
       "$\\displaystyle \\left[\\begin{matrix}- 1.0 \\omega_{y} v_{z} + 1.0 \\omega_{z} v_{y} + 9.81 \\sin{\\left(\\theta \\right)}\\\\1.0 \\omega_{x} v_{z} - 1.0 \\omega_{z} v_{x} - 9.81 \\sin{\\left(\\phi \\right)} \\cos{\\left(\\theta \\right)}\\\\2.0 f_{z} - 1.0 \\omega_{x} v_{y} + 1.0 \\omega_{y} v_{x} - 9.81 \\cos{\\left(\\phi \\right)} \\cos{\\left(\\theta \\right)}\\end{matrix}\\right]$"
      ],
      "text/plain": [
       "⎡       -ω_y⋅v_z + 1.0⋅ω_z⋅v_y + 9.81⋅sin(θ)       ⎤\n",
       "⎢                                                  ⎥\n",
       "⎢     1.0⋅ωₓ⋅v_z - ω_z⋅vₓ - 9.81⋅sin(φ)⋅cos(θ)     ⎥\n",
       "⎢                                                  ⎥\n",
       "⎣2.0⋅f_z - ωₓ⋅v_y + 1.0⋅ω_y⋅vₓ - 9.81⋅cos(φ)⋅cos(θ)⎦"
      ]
     },
     "execution_count": 8,
     "metadata": {},
     "output_type": "execute_result"
    }
   ],
   "source": [
    "v_inB_dot = (1 / mass) * (f_inB - w_inB.cross(mass * v_inB))\n",
    "v_inB_dot = simplify(v_inB_dot)\n",
    "print(\"Body-fixed velocity rates as a function of orientation, body-fixed velocities, and applied forces:\")\n",
    "N(v_inB_dot,3)"
   ]
  },
  {
   "cell_type": "code",
   "execution_count": 9,
   "id": "ba16d4fc-d7c7-4eea-aa98-4c79da74a515",
   "metadata": {},
   "outputs": [
    {
     "name": "stdout",
     "output_type": "stream",
     "text": [
      "Roll, pitch, and yaw rate as a function of orientation and body-fixed angular rates:\n"
     ]
    },
    {
     "data": {
      "text/latex": [
       "$\\displaystyle \\left[\\begin{matrix}\\omega_{x} + \\omega_{y} \\sin{\\left(\\phi \\right)} \\tan{\\left(\\theta \\right)} + \\omega_{z} \\cos{\\left(\\phi \\right)} \\tan{\\left(\\theta \\right)}\\\\\\omega_{y} \\cos{\\left(\\phi \\right)} - \\omega_{z} \\sin{\\left(\\phi \\right)}\\\\\\frac{\\omega_{y} \\sin{\\left(\\phi \\right)} + \\omega_{z} \\cos{\\left(\\phi \\right)}}{\\cos{\\left(\\theta \\right)}}\\end{matrix}\\right]$"
      ],
      "text/plain": [
       "⎡ωₓ + ω_y⋅sin(φ)⋅tan(θ) + ω_z⋅cos(φ)⋅tan(θ)⎤\n",
       "⎢                                          ⎥\n",
       "⎢         ω_y⋅cos(φ) - ω_z⋅sin(φ)          ⎥\n",
       "⎢                                          ⎥\n",
       "⎢         ω_y⋅sin(φ) + ω_z⋅cos(φ)          ⎥\n",
       "⎢         ───────────────────────          ⎥\n",
       "⎣                  cos(θ)                  ⎦"
      ]
     },
     "execution_count": 9,
     "metadata": {},
     "output_type": "execute_result"
    }
   ],
   "source": [
    "# Define the transformation that takes roll, pitch, and yaw rates to body-fixed angular rates\n",
    "ex = Matrix([[1], [0], [0]])\n",
    "ey = Matrix([[0], [1], [0]])\n",
    "ez = Matrix([[0], [0], [1]])\n",
    "M = Matrix.hstack(ex, Rx.T@ey, (Ry@Rx).T@ez)\n",
    "\n",
    "# Invert the transformation to get a matrix that takes body-fixed angular rates to \n",
    "# roll, pitch, and yaw rates\n",
    "M_inv = simplify(M.inv())\n",
    "\n",
    "# Convert the body-fixed angular rates to roll, pitch, and yaw rates\n",
    "rpy_dot = simplify(M_inv@w_inB)\n",
    "print(\"Roll, pitch, and yaw rate as a function of orientation and body-fixed angular rates:\")\n",
    "N(rpy_dot,3)"
   ]
  },
  {
   "cell_type": "code",
   "execution_count": 10,
   "id": "d99205d4-0e6a-4504-9b1d-1bb08f9d844c",
   "metadata": {},
   "outputs": [
    {
     "name": "stdout",
     "output_type": "stream",
     "text": [
      "Time derivative of the angular velocities in the body-fixed frame:\n"
     ]
    },
    {
     "data": {
      "text/latex": [
       "$\\displaystyle \\left[\\begin{matrix}- 0.739 \\omega_{y} \\omega_{z} + 435.0 \\tau_{x}\\\\0.739 \\omega_{x} \\omega_{z} + 435.0 \\tau_{y}\\\\250.0 \\tau_{z}\\end{matrix}\\right]$"
      ],
      "text/plain": [
       "⎡-0.739⋅ω_y⋅ω_z + 435.0⋅τₓ⎤\n",
       "⎢                         ⎥\n",
       "⎢0.739⋅ωₓ⋅ω_z + 435.0⋅τ_y ⎥\n",
       "⎢                         ⎥\n",
       "⎣        250.0⋅τ_z        ⎦"
      ]
     },
     "execution_count": 10,
     "metadata": {},
     "output_type": "execute_result"
    }
   ],
   "source": [
    "# Apply Euler's equation to get the time derivative of the angular velocities of the\n",
    "# quadrotor in the quadrotor frame\n",
    "w_inB_dot = I_inB.inv() @ (tau_inB - w_inB.cross(I_inB@w_inB))\n",
    "w_inB_dot = simplify(w_inB_dot)\n",
    "print(\"Time derivative of the angular velocities in the body-fixed frame:\")\n",
    "N(w_inB_dot, 3)"
   ]
  },
  {
   "cell_type": "code",
   "execution_count": 11,
   "id": "98369559-63e2-45af-bc15-745faf17e3cd",
   "metadata": {},
   "outputs": [],
   "source": [
    "f = Matrix.vstack(xyz_dot,\n",
    "                      v_inB_dot,\n",
    "                      rpy_dot,\n",
    "                      w_inB_dot)"
   ]
  },
  {
   "cell_type": "code",
   "execution_count": 12,
   "id": "f64f4394-89b6-4ee1-9d68-79a92e0e4b86",
   "metadata": {},
   "outputs": [
    {
     "data": {
      "text/latex": [
       "$\\displaystyle \\left[\\begin{matrix}v_{x} \\cos{\\left(\\psi \\right)} \\cos{\\left(\\theta \\right)} + v_{y} \\left(\\sin{\\left(\\phi \\right)} \\sin{\\left(\\theta \\right)} \\cos{\\left(\\psi \\right)} - \\sin{\\left(\\psi \\right)} \\cos{\\left(\\phi \\right)}\\right) + v_{z} \\left(\\sin{\\left(\\phi \\right)} \\sin{\\left(\\psi \\right)} + \\sin{\\left(\\theta \\right)} \\cos{\\left(\\phi \\right)} \\cos{\\left(\\psi \\right)}\\right)\\\\v_{x} \\sin{\\left(\\psi \\right)} \\cos{\\left(\\theta \\right)} + v_{y} \\left(\\sin{\\left(\\phi \\right)} \\sin{\\left(\\psi \\right)} \\sin{\\left(\\theta \\right)} + \\cos{\\left(\\phi \\right)} \\cos{\\left(\\psi \\right)}\\right) - v_{z} \\left(\\sin{\\left(\\phi \\right)} \\cos{\\left(\\psi \\right)} - \\sin{\\left(\\psi \\right)} \\sin{\\left(\\theta \\right)} \\cos{\\left(\\phi \\right)}\\right)\\\\- v_{x} \\sin{\\left(\\theta \\right)} + v_{y} \\sin{\\left(\\phi \\right)} \\cos{\\left(\\theta \\right)} + v_{z} \\cos{\\left(\\phi \\right)} \\cos{\\left(\\theta \\right)}\\\\- 1.0 \\omega_{y} v_{z} + 1.0 \\omega_{z} v_{y} + 9.81 \\sin{\\left(\\theta \\right)}\\\\1.0 \\omega_{x} v_{z} - 1.0 \\omega_{z} v_{x} - 9.81 \\sin{\\left(\\phi \\right)} \\cos{\\left(\\theta \\right)}\\\\2.0 f_{z} - 1.0 \\omega_{x} v_{y} + 1.0 \\omega_{y} v_{x} - 9.81 \\cos{\\left(\\phi \\right)} \\cos{\\left(\\theta \\right)}\\\\\\omega_{x} + \\omega_{y} \\sin{\\left(\\phi \\right)} \\tan{\\left(\\theta \\right)} + \\omega_{z} \\cos{\\left(\\phi \\right)} \\tan{\\left(\\theta \\right)}\\\\\\omega_{y} \\cos{\\left(\\phi \\right)} - \\omega_{z} \\sin{\\left(\\phi \\right)}\\\\\\frac{\\omega_{y} \\sin{\\left(\\phi \\right)} + \\omega_{z} \\cos{\\left(\\phi \\right)}}{\\cos{\\left(\\theta \\right)}}\\\\- 0.739 \\omega_{y} \\omega_{z} + 435.0 \\tau_{x}\\\\0.739 \\omega_{x} \\omega_{z} + 435.0 \\tau_{y}\\\\250.0 \\tau_{z}\\end{matrix}\\right]$"
      ],
      "text/plain": [
       "⎡vₓ⋅cos(ψ)⋅cos(θ) + v_y⋅(sin(φ)⋅sin(θ)⋅cos(ψ) - sin(ψ)⋅cos(φ)) + v_z⋅(sin(φ)⋅s\n",
       "⎢                                                                             \n",
       "⎢vₓ⋅sin(ψ)⋅cos(θ) + v_y⋅(sin(φ)⋅sin(ψ)⋅sin(θ) + cos(φ)⋅cos(ψ)) - v_z⋅(sin(φ)⋅c\n",
       "⎢                                                                             \n",
       "⎢                            -vₓ⋅sin(θ) + v_y⋅sin(φ)⋅cos(θ) + v_z⋅cos(φ)⋅cos(θ\n",
       "⎢                                                                             \n",
       "⎢                                   -ω_y⋅v_z + 1.0⋅ω_z⋅v_y + 9.81⋅sin(θ)      \n",
       "⎢                                                                             \n",
       "⎢                                 1.0⋅ωₓ⋅v_z - ω_z⋅vₓ - 9.81⋅sin(φ)⋅cos(θ)    \n",
       "⎢                                                                             \n",
       "⎢                            2.0⋅f_z - ωₓ⋅v_y + 1.0⋅ω_y⋅vₓ - 9.81⋅cos(φ)⋅cos(θ\n",
       "⎢                                                                             \n",
       "⎢                                ωₓ + ω_y⋅sin(φ)⋅tan(θ) + ω_z⋅cos(φ)⋅tan(θ)   \n",
       "⎢                                                                             \n",
       "⎢                                         ω_y⋅cos(φ) - ω_z⋅sin(φ)             \n",
       "⎢                                                                             \n",
       "⎢                                         ω_y⋅sin(φ) + ω_z⋅cos(φ)             \n",
       "⎢                                         ───────────────────────             \n",
       "⎢                                                  cos(θ)                     \n",
       "⎢                                                                             \n",
       "⎢                                        -0.739⋅ω_y⋅ω_z + 435.0⋅τₓ            \n",
       "⎢                                                                             \n",
       "⎢                                         0.739⋅ωₓ⋅ω_z + 435.0⋅τ_y            \n",
       "⎢                                                                             \n",
       "⎣                                                250.0⋅τ_z                    \n",
       "\n",
       "in(ψ) + sin(θ)⋅cos(φ)⋅cos(ψ))⎤\n",
       "                             ⎥\n",
       "os(ψ) - sin(ψ)⋅sin(θ)⋅cos(φ))⎥\n",
       "                             ⎥\n",
       ")                            ⎥\n",
       "                             ⎥\n",
       "                             ⎥\n",
       "                             ⎥\n",
       "                             ⎥\n",
       "                             ⎥\n",
       ")                            ⎥\n",
       "                             ⎥\n",
       "                             ⎥\n",
       "                             ⎥\n",
       "                             ⎥\n",
       "                             ⎥\n",
       "                             ⎥\n",
       "                             ⎥\n",
       "                             ⎥\n",
       "                             ⎥\n",
       "                             ⎥\n",
       "                             ⎥\n",
       "                             ⎥\n",
       "                             ⎥\n",
       "                             ⎦"
      ]
     },
     "execution_count": 12,
     "metadata": {},
     "output_type": "execute_result"
    }
   ],
   "source": [
    "N(f,3)"
   ]
  },
  {
   "cell_type": "code",
   "execution_count": 13,
   "id": "0b412885-c80c-4804-ac8b-269e01867603",
   "metadata": {},
   "outputs": [],
   "source": [
    "# Position of markers in body frame\n",
    "mark1_inB = Matrix([[lxy],\n",
    "                        [0.],\n",
    "                        [lz]])\n",
    "mark2_inB = Matrix([[0.],\n",
    "                        [lxy],\n",
    "                        [lz]])\n",
    "mark3_inB = Matrix([[-lxy],\n",
    "                        [0.],\n",
    "                        [lz]])\n",
    "mark4_inB = Matrix([[0.],\n",
    "                        [-lxy],\n",
    "                        [lz]])\n",
    "\n",
    "# Position of markers in world frame\n",
    "mark1_inW = p_inW + R_ofB_inW @ mark1_inB\n",
    "mark2_inW = p_inW + R_ofB_inW @ mark2_inB\n",
    "mark3_inW = p_inW + R_ofB_inW @ mark3_inB\n",
    "mark4_inW = p_inW + R_ofB_inW @ mark4_inB\n",
    "\n",
    "# Sensor model\n",
    "g = simplify(Matrix.vstack(mark1_inW, mark2_inW, mark3_inW, mark4_inW))"
   ]
  },
  {
   "cell_type": "code",
   "execution_count": 14,
   "id": "7fe09d70-fb88-427b-993b-2776406008f8",
   "metadata": {},
   "outputs": [
    {
     "data": {
      "text/latex": [
       "$\\displaystyle \\left[\\begin{matrix}p_{x} + 0.0469 \\sin{\\left(\\phi \\right)} \\sin{\\left(\\psi \\right)} + 0.0469 \\sin{\\left(\\theta \\right)} \\cos{\\left(\\phi \\right)} \\cos{\\left(\\psi \\right)} + 0.25 \\cos{\\left(\\psi \\right)} \\cos{\\left(\\theta \\right)}\\\\p_{y} - 0.0469 \\sin{\\left(\\phi \\right)} \\cos{\\left(\\psi \\right)} + 0.0469 \\sin{\\left(\\psi \\right)} \\sin{\\left(\\theta \\right)} \\cos{\\left(\\phi \\right)} + 0.25 \\sin{\\left(\\psi \\right)} \\cos{\\left(\\theta \\right)}\\\\p_{z} - 0.25 \\sin{\\left(\\theta \\right)} + 0.0469 \\cos{\\left(\\phi \\right)} \\cos{\\left(\\theta \\right)}\\\\p_{x} + 0.0469 \\sin{\\left(\\phi \\right)} \\sin{\\left(\\psi \\right)} + 0.25 \\sin{\\left(\\phi \\right)} \\sin{\\left(\\theta \\right)} \\cos{\\left(\\psi \\right)} - 0.25 \\sin{\\left(\\psi \\right)} \\cos{\\left(\\phi \\right)} + 0.0469 \\sin{\\left(\\theta \\right)} \\cos{\\left(\\phi \\right)} \\cos{\\left(\\psi \\right)}\\\\p_{y} + 0.25 \\sin{\\left(\\phi \\right)} \\sin{\\left(\\psi \\right)} \\sin{\\left(\\theta \\right)} - 0.0469 \\sin{\\left(\\phi \\right)} \\cos{\\left(\\psi \\right)} + 0.0469 \\sin{\\left(\\psi \\right)} \\sin{\\left(\\theta \\right)} \\cos{\\left(\\phi \\right)} + 0.25 \\cos{\\left(\\phi \\right)} \\cos{\\left(\\psi \\right)}\\\\p_{z} + 0.25 \\sin{\\left(\\phi \\right)} \\cos{\\left(\\theta \\right)} + 0.0469 \\cos{\\left(\\phi \\right)} \\cos{\\left(\\theta \\right)}\\\\p_{x} + 0.0469 \\sin{\\left(\\phi \\right)} \\sin{\\left(\\psi \\right)} + 0.0469 \\sin{\\left(\\theta \\right)} \\cos{\\left(\\phi \\right)} \\cos{\\left(\\psi \\right)} - 0.25 \\cos{\\left(\\psi \\right)} \\cos{\\left(\\theta \\right)}\\\\p_{y} - 0.0469 \\sin{\\left(\\phi \\right)} \\cos{\\left(\\psi \\right)} + 0.0469 \\sin{\\left(\\psi \\right)} \\sin{\\left(\\theta \\right)} \\cos{\\left(\\phi \\right)} - 0.25 \\sin{\\left(\\psi \\right)} \\cos{\\left(\\theta \\right)}\\\\p_{z} + 0.25 \\sin{\\left(\\theta \\right)} + 0.0469 \\cos{\\left(\\phi \\right)} \\cos{\\left(\\theta \\right)}\\\\p_{x} + 0.0469 \\sin{\\left(\\phi \\right)} \\sin{\\left(\\psi \\right)} - 0.25 \\sin{\\left(\\phi \\right)} \\sin{\\left(\\theta \\right)} \\cos{\\left(\\psi \\right)} + 0.25 \\sin{\\left(\\psi \\right)} \\cos{\\left(\\phi \\right)} + 0.0469 \\sin{\\left(\\theta \\right)} \\cos{\\left(\\phi \\right)} \\cos{\\left(\\psi \\right)}\\\\p_{y} - 0.25 \\sin{\\left(\\phi \\right)} \\sin{\\left(\\psi \\right)} \\sin{\\left(\\theta \\right)} - 0.0469 \\sin{\\left(\\phi \\right)} \\cos{\\left(\\psi \\right)} + 0.0469 \\sin{\\left(\\psi \\right)} \\sin{\\left(\\theta \\right)} \\cos{\\left(\\phi \\right)} - 0.25 \\cos{\\left(\\phi \\right)} \\cos{\\left(\\psi \\right)}\\\\p_{z} - 0.25 \\sin{\\left(\\phi \\right)} \\cos{\\left(\\theta \\right)} + 0.0469 \\cos{\\left(\\phi \\right)} \\cos{\\left(\\theta \\right)}\\end{matrix}\\right]$"
      ],
      "text/plain": [
       "⎡              pₓ + 0.0469⋅sin(φ)⋅sin(ψ) + 0.0469⋅sin(θ)⋅cos(φ)⋅cos(ψ) + 0.25⋅\n",
       "⎢                                                                             \n",
       "⎢              p_y - 0.0469⋅sin(φ)⋅cos(ψ) + 0.0469⋅sin(ψ)⋅sin(θ)⋅cos(φ) + 0.25\n",
       "⎢                                                                             \n",
       "⎢                                p_z - 0.25⋅sin(θ) + 0.0469⋅cos(φ)⋅cos(θ)     \n",
       "⎢                                                                             \n",
       "⎢pₓ + 0.0469⋅sin(φ)⋅sin(ψ) + 0.25⋅sin(φ)⋅sin(θ)⋅cos(ψ) - 0.25⋅sin(ψ)⋅cos(φ) + \n",
       "⎢                                                                             \n",
       "⎢p_y + 0.25⋅sin(φ)⋅sin(ψ)⋅sin(θ) - 0.0469⋅sin(φ)⋅cos(ψ) + 0.0469⋅sin(ψ)⋅sin(θ)\n",
       "⎢                                                                             \n",
       "⎢                             p_z + 0.25⋅sin(φ)⋅cos(θ) + 0.0469⋅cos(φ)⋅cos(θ) \n",
       "⎢                                                                             \n",
       "⎢              pₓ + 0.0469⋅sin(φ)⋅sin(ψ) + 0.0469⋅sin(θ)⋅cos(φ)⋅cos(ψ) - 0.25⋅\n",
       "⎢                                                                             \n",
       "⎢              p_y - 0.0469⋅sin(φ)⋅cos(ψ) + 0.0469⋅sin(ψ)⋅sin(θ)⋅cos(φ) - 0.25\n",
       "⎢                                                                             \n",
       "⎢                                p_z + 0.25⋅sin(θ) + 0.0469⋅cos(φ)⋅cos(θ)     \n",
       "⎢                                                                             \n",
       "⎢pₓ + 0.0469⋅sin(φ)⋅sin(ψ) - 0.25⋅sin(φ)⋅sin(θ)⋅cos(ψ) + 0.25⋅sin(ψ)⋅cos(φ) + \n",
       "⎢                                                                             \n",
       "⎢p_y - 0.25⋅sin(φ)⋅sin(ψ)⋅sin(θ) - 0.0469⋅sin(φ)⋅cos(ψ) + 0.0469⋅sin(ψ)⋅sin(θ)\n",
       "⎢                                                                             \n",
       "⎣                             p_z - 0.25⋅sin(φ)⋅cos(θ) + 0.0469⋅cos(φ)⋅cos(θ) \n",
       "\n",
       "cos(ψ)⋅cos(θ)               ⎤\n",
       "                            ⎥\n",
       "⋅sin(ψ)⋅cos(θ)              ⎥\n",
       "                            ⎥\n",
       "                            ⎥\n",
       "                            ⎥\n",
       "0.0469⋅sin(θ)⋅cos(φ)⋅cos(ψ) ⎥\n",
       "                            ⎥\n",
       "⋅cos(φ) + 0.25⋅cos(φ)⋅cos(ψ)⎥\n",
       "                            ⎥\n",
       "                            ⎥\n",
       "                            ⎥\n",
       "cos(ψ)⋅cos(θ)               ⎥\n",
       "                            ⎥\n",
       "⋅sin(ψ)⋅cos(θ)              ⎥\n",
       "                            ⎥\n",
       "                            ⎥\n",
       "                            ⎥\n",
       "0.0469⋅sin(θ)⋅cos(φ)⋅cos(ψ) ⎥\n",
       "                            ⎥\n",
       "⋅cos(φ) - 0.25⋅cos(φ)⋅cos(ψ)⎥\n",
       "                            ⎥\n",
       "                            ⎦"
      ]
     },
     "execution_count": 14,
     "metadata": {},
     "output_type": "execute_result"
    }
   ],
   "source": [
    "N(g,3)"
   ]
  },
  {
   "cell_type": "markdown",
   "id": "78a30e88-b28f-484e-b4cf-cfefa9e8affb",
   "metadata": {},
   "source": [
    "## System Linearization and State Space Form"
   ]
  },
  {
   "cell_type": "code",
   "execution_count": 15,
   "id": "bd0774ab-48d9-4a28-ae54-401ff5fbadaf",
   "metadata": {},
   "outputs": [],
   "source": [
    "# FIXME: Find an equilibrium point and linearize the system into state space form\n",
    "p_x_e = p_y_e = p_z_e = v_x_e = v_y_e = v_z_e = phi_e = theta_e = psi_e = omega_x_e = omega_y_e = omega_z_e = tau_x_e = tau_y_e = tau_z_e = 0\n",
    "f_z_e = 4.905\n",
    "\n",
    "m_e = np.array([0, 0, 0, 0, 0, 0, 0, 0, 0, 0, 0, 0])\n",
    "n_e = np.array([0, 0, 0, 4.905])"
   ]
  },
  {
   "cell_type": "code",
   "execution_count": 16,
   "id": "5dcf2747-59a9-45f5-9397-851aebcb4185",
   "metadata": {},
   "outputs": [
    {
     "data": {
      "text/plain": [
       "array([[0.],\n",
       "       [0.],\n",
       "       [0.],\n",
       "       [0.],\n",
       "       [0.],\n",
       "       [0.],\n",
       "       [0.],\n",
       "       [0.],\n",
       "       [0.],\n",
       "       [0.],\n",
       "       [0.],\n",
       "       [0.]])"
      ]
     },
     "execution_count": 16,
     "metadata": {},
     "output_type": "execute_result"
    }
   ],
   "source": [
    "f_num = lambdify([px_inW, py_inW, pz_inW, vx_inB, vy_inB, vz_inB, phi, theta, psi, wx_inB, wy_inB, wz_inB, taux_inB, tauy_inB, tauz_inB, fz_inB], f)\n",
    "f_num(p_x_e, p_y_e, p_z_e, v_x_e, v_y_e, v_z_e, phi_e, theta_e, psi_e, omega_x_e, omega_y_e, omega_z_e, tau_x_e, tau_y_e, tau_z_e, f_z_e)"
   ]
  },
  {
   "cell_type": "code",
   "execution_count": 25,
   "id": "3dac4944-aa6a-4624-b2f8-18545c84eb1c",
   "metadata": {},
   "outputs": [
    {
     "data": {
      "text/latex": [
       "$\\displaystyle \\left[\\begin{array}{cccccccccccc}0 & 0 & 0 & 1.0 & 0 & 0 & 0 & 0 & 0 & 0 & 0 & 0\\\\0 & 0 & 0 & 0 & 1.0 & 0 & 0 & 0 & 0 & 0 & 0 & 0\\\\0 & 0 & 0 & 0 & 0 & 1.0 & 0 & 0 & 0 & 0 & 0 & 0\\\\0 & 0 & 0 & 0 & 0 & 0 & 0 & 9.81 & 0 & 0 & 0 & 0\\\\0 & 0 & 0 & 0 & 0 & 0 & -9.81 & 0 & 0 & 0 & 0 & 0\\\\0 & 0 & 0 & 0 & 0 & 0 & 0 & 0 & 0 & 0 & 0 & 0\\\\0 & 0 & 0 & 0 & 0 & 0 & 0 & 0 & 0 & 1.0 & 0 & 0\\\\0 & 0 & 0 & 0 & 0 & 0 & 0 & 0 & 0 & 0 & 1.0 & 0\\\\0 & 0 & 0 & 0 & 0 & 0 & 0 & 0 & 0 & 0 & 0 & 1.0\\\\0 & 0 & 0 & 0 & 0 & 0 & 0 & 0 & 0 & 0 & 0 & 0\\\\0 & 0 & 0 & 0 & 0 & 0 & 0 & 0 & 0 & 0 & 0 & 0\\\\0 & 0 & 0 & 0 & 0 & 0 & 0 & 0 & 0 & 0 & 0 & 0\\end{array}\\right]$"
      ],
      "text/plain": [
       "⎡0  0  0  1.0   0    0     0     0    0   0    0    0 ⎤\n",
       "⎢                                                     ⎥\n",
       "⎢0  0  0   0   1.0   0     0     0    0   0    0    0 ⎥\n",
       "⎢                                                     ⎥\n",
       "⎢0  0  0   0    0   1.0    0     0    0   0    0    0 ⎥\n",
       "⎢                                                     ⎥\n",
       "⎢0  0  0   0    0    0     0    9.81  0   0    0    0 ⎥\n",
       "⎢                                                     ⎥\n",
       "⎢0  0  0   0    0    0   -9.81   0    0   0    0    0 ⎥\n",
       "⎢                                                     ⎥\n",
       "⎢0  0  0   0    0    0     0     0    0   0    0    0 ⎥\n",
       "⎢                                                     ⎥\n",
       "⎢0  0  0   0    0    0     0     0    0  1.0   0    0 ⎥\n",
       "⎢                                                     ⎥\n",
       "⎢0  0  0   0    0    0     0     0    0   0   1.0   0 ⎥\n",
       "⎢                                                     ⎥\n",
       "⎢0  0  0   0    0    0     0     0    0   0    0   1.0⎥\n",
       "⎢                                                     ⎥\n",
       "⎢0  0  0   0    0    0     0     0    0   0    0    0 ⎥\n",
       "⎢                                                     ⎥\n",
       "⎢0  0  0   0    0    0     0     0    0   0    0    0 ⎥\n",
       "⎢                                                     ⎥\n",
       "⎣0  0  0   0    0    0     0     0    0   0    0    0 ⎦"
      ]
     },
     "execution_count": 25,
     "metadata": {},
     "output_type": "execute_result"
    }
   ],
   "source": [
    "# Solving for Coefficient Matrix A\n",
    "A_num = lambdify([px_inW, py_inW, pz_inW, vx_inB, vy_inB, vz_inB, phi, theta, psi, wx_inB, wy_inB, wz_inB, taux_inB, tauy_inB, tauz_inB, fz_inB], \n",
    "                 f.jacobian([px_inW, py_inW, pz_inW, vx_inB, vy_inB, vz_inB, phi, theta, psi, wx_inB, wy_inB, wz_inB]))\n",
    "A = A_num(p_x_e, p_y_e, p_z_e, v_x_e, v_y_e, v_z_e, phi_e, theta_e, psi_e, omega_x_e, omega_y_e, omega_z_e, tau_x_e, tau_y_e, tau_z_e, f_z_e)\n",
    "Matrix(A)"
   ]
  },
  {
   "cell_type": "code",
   "execution_count": 26,
   "id": "b3e82a19-8db7-4f14-bf93-04a7987b7a81",
   "metadata": {},
   "outputs": [
    {
     "data": {
      "text/latex": [
       "$\\displaystyle \\left[\\begin{matrix}0 & 0 & 0 & 0\\\\0 & 0 & 0 & 0\\\\0 & 0 & 0 & 0\\\\0 & 0 & 0 & 0\\\\0 & 0 & 0 & 0\\\\0 & 0 & 0 & 2.0\\\\0 & 0 & 0 & 0\\\\0 & 0 & 0 & 0\\\\0 & 0 & 0 & 0\\\\434.782608695652 & 0 & 0 & 0\\\\0 & 434.782608695652 & 0 & 0\\\\0 & 0 & 250.0 & 0\\end{matrix}\\right]$"
      ],
      "text/plain": [
       "⎡       0                 0            0     0 ⎤\n",
       "⎢                                              ⎥\n",
       "⎢       0                 0            0     0 ⎥\n",
       "⎢                                              ⎥\n",
       "⎢       0                 0            0     0 ⎥\n",
       "⎢                                              ⎥\n",
       "⎢       0                 0            0     0 ⎥\n",
       "⎢                                              ⎥\n",
       "⎢       0                 0            0     0 ⎥\n",
       "⎢                                              ⎥\n",
       "⎢       0                 0            0    2.0⎥\n",
       "⎢                                              ⎥\n",
       "⎢       0                 0            0     0 ⎥\n",
       "⎢                                              ⎥\n",
       "⎢       0                 0            0     0 ⎥\n",
       "⎢                                              ⎥\n",
       "⎢       0                 0            0     0 ⎥\n",
       "⎢                                              ⎥\n",
       "⎢434.782608695652         0            0     0 ⎥\n",
       "⎢                                              ⎥\n",
       "⎢       0          434.782608695652    0     0 ⎥\n",
       "⎢                                              ⎥\n",
       "⎣       0                 0          250.0   0 ⎦"
      ]
     },
     "execution_count": 26,
     "metadata": {},
     "output_type": "execute_result"
    }
   ],
   "source": [
    "# Solving for Coefficient Matrix B\n",
    "B_num = lambdify([px_inW, py_inW, pz_inW, vx_inB, vy_inB, vz_inB, phi, theta, psi, wx_inB, wy_inB, wz_inB, taux_inB, tauy_inB, tauz_inB, fz_inB], \n",
    "                 f.jacobian([taux_inB, tauy_inB, tauz_inB, fz_inB]))\n",
    "B = B_num(p_x_e, p_y_e, p_z_e, v_x_e, v_y_e, v_z_e, phi_e, theta_e, psi_e, omega_x_e, omega_y_e, omega_z_e, tau_x_e, tau_y_e, tau_z_e, f_z_e)\n",
    "Matrix(B)"
   ]
  },
  {
   "cell_type": "code",
   "execution_count": 27,
   "id": "2b8c931f-ca5c-4c84-9180-b35a131ec22f",
   "metadata": {},
   "outputs": [
    {
     "name": "stdout",
     "output_type": "stream",
     "text": [
      "True\n"
     ]
    }
   ],
   "source": [
    "# Checking Controllability\n",
    "n = A.shape[0]\n",
    "Wc = B\n",
    "for i in range(1, n):\n",
    "    col = np.linalg.matrix_power(A, i) @ B\n",
    "    Wc = np.block([Wc, col])\n",
    "print(np.linalg.matrix_rank(Wc) == n)"
   ]
  },
  {
   "cell_type": "code",
   "execution_count": 28,
   "id": "bca2b37b-5d1e-4312-9a60-522ab5ae961e",
   "metadata": {},
   "outputs": [
    {
     "data": {
      "text/latex": [
       "$\\displaystyle \\left[\\begin{array}{cccccccccccc}1.0 & 0 & 0 & 0 & 0 & 0 & 0 & 0.046875 & 0 & 0 & 0 & 0\\\\0 & 1.0 & 0 & 0 & 0 & 0 & -0.046875 & 0 & 0.25 & 0 & 0 & 0\\\\0 & 0 & 1.0 & 0 & 0 & 0 & 0 & -0.25 & 0 & 0 & 0 & 0\\\\1.0 & 0 & 0 & 0 & 0 & 0 & 0 & 0.046875 & -0.25 & 0 & 0 & 0\\\\0 & 1.0 & 0 & 0 & 0 & 0 & -0.046875 & 0 & 0 & 0 & 0 & 0\\\\0 & 0 & 1.0 & 0 & 0 & 0 & 0.25 & 0 & 0 & 0 & 0 & 0\\\\1.0 & 0 & 0 & 0 & 0 & 0 & 0 & 0.046875 & 0 & 0 & 0 & 0\\\\0 & 1.0 & 0 & 0 & 0 & 0 & -0.046875 & 0 & -0.25 & 0 & 0 & 0\\\\0 & 0 & 1.0 & 0 & 0 & 0 & 0 & 0.25 & 0 & 0 & 0 & 0\\\\1.0 & 0 & 0 & 0 & 0 & 0 & 0 & 0.046875 & 0.25 & 0 & 0 & 0\\\\0 & 1.0 & 0 & 0 & 0 & 0 & -0.046875 & 0 & 0 & 0 & 0 & 0\\\\0 & 0 & 1.0 & 0 & 0 & 0 & -0.25 & 0 & 0 & 0 & 0 & 0\\end{array}\\right]$"
      ],
      "text/plain": [
       "⎡1.0   0    0   0  0  0      0      0.046875    0    0  0  0⎤\n",
       "⎢                                                           ⎥\n",
       "⎢ 0   1.0   0   0  0  0  -0.046875     0      0.25   0  0  0⎥\n",
       "⎢                                                           ⎥\n",
       "⎢ 0    0   1.0  0  0  0      0       -0.25      0    0  0  0⎥\n",
       "⎢                                                           ⎥\n",
       "⎢1.0   0    0   0  0  0      0      0.046875  -0.25  0  0  0⎥\n",
       "⎢                                                           ⎥\n",
       "⎢ 0   1.0   0   0  0  0  -0.046875     0        0    0  0  0⎥\n",
       "⎢                                                           ⎥\n",
       "⎢ 0    0   1.0  0  0  0    0.25        0        0    0  0  0⎥\n",
       "⎢                                                           ⎥\n",
       "⎢1.0   0    0   0  0  0      0      0.046875    0    0  0  0⎥\n",
       "⎢                                                           ⎥\n",
       "⎢ 0   1.0   0   0  0  0  -0.046875     0      -0.25  0  0  0⎥\n",
       "⎢                                                           ⎥\n",
       "⎢ 0    0   1.0  0  0  0      0        0.25      0    0  0  0⎥\n",
       "⎢                                                           ⎥\n",
       "⎢1.0   0    0   0  0  0      0      0.046875  0.25   0  0  0⎥\n",
       "⎢                                                           ⎥\n",
       "⎢ 0   1.0   0   0  0  0  -0.046875     0        0    0  0  0⎥\n",
       "⎢                                                           ⎥\n",
       "⎣ 0    0   1.0  0  0  0    -0.25       0        0    0  0  0⎦"
      ]
     },
     "execution_count": 28,
     "metadata": {},
     "output_type": "execute_result"
    }
   ],
   "source": [
    "# Solving for Coefficient Matrix C\n",
    "C_num = lambdify([px_inW, py_inW, pz_inW, vx_inB, vy_inB, vz_inB, phi, theta, psi, wx_inB, wy_inB, wz_inB, taux_inB, tauy_inB, tauz_inB, fz_inB], \n",
    "                 g.jacobian([px_inW, py_inW, pz_inW, vx_inB, vy_inB, vz_inB, phi, theta, psi, wx_inB, wy_inB, wz_inB]))\n",
    "C = C_num(p_x_e, p_y_e, p_z_e, v_x_e, v_y_e, v_z_e, phi_e, theta_e, psi_e, omega_x_e, omega_y_e, omega_z_e, tau_x_e, tau_y_e, tau_z_e, f_z_e)\n",
    "Matrix(C)"
   ]
  },
  {
   "cell_type": "code",
   "execution_count": 29,
   "id": "84abe4d1-ebec-4c2b-984d-87b91b2034bc",
   "metadata": {},
   "outputs": [
    {
     "data": {
      "text/latex": [
       "$\\displaystyle \\left[\\begin{matrix}0 & 0 & 0 & 0\\\\0 & 0 & 0 & 0\\\\0 & 0 & 0 & 0\\\\0 & 0 & 0 & 0\\\\0 & 0 & 0 & 0\\\\0 & 0 & 0 & 0\\\\0 & 0 & 0 & 0\\\\0 & 0 & 0 & 0\\\\0 & 0 & 0 & 0\\\\0 & 0 & 0 & 0\\\\0 & 0 & 0 & 0\\\\0 & 0 & 0 & 0\\end{matrix}\\right]$"
      ],
      "text/plain": [
       "⎡0  0  0  0⎤\n",
       "⎢          ⎥\n",
       "⎢0  0  0  0⎥\n",
       "⎢          ⎥\n",
       "⎢0  0  0  0⎥\n",
       "⎢          ⎥\n",
       "⎢0  0  0  0⎥\n",
       "⎢          ⎥\n",
       "⎢0  0  0  0⎥\n",
       "⎢          ⎥\n",
       "⎢0  0  0  0⎥\n",
       "⎢          ⎥\n",
       "⎢0  0  0  0⎥\n",
       "⎢          ⎥\n",
       "⎢0  0  0  0⎥\n",
       "⎢          ⎥\n",
       "⎢0  0  0  0⎥\n",
       "⎢          ⎥\n",
       "⎢0  0  0  0⎥\n",
       "⎢          ⎥\n",
       "⎢0  0  0  0⎥\n",
       "⎢          ⎥\n",
       "⎣0  0  0  0⎦"
      ]
     },
     "execution_count": 29,
     "metadata": {},
     "output_type": "execute_result"
    }
   ],
   "source": [
    "# Solving for Coefficient Matrix D\n",
    "D_num = lambdify([px_inW, py_inW, pz_inW, vx_inB, vy_inB, vz_inB, phi, theta, psi, wx_inB, wy_inB, wz_inB, taux_inB, tauy_inB, tauz_inB, fz_inB], \n",
    "                 g.jacobian([taux_inB, tauy_inB, tauz_inB, fz_inB]))\n",
    "D = D_num(p_x_e, p_y_e, p_z_e, v_x_e, v_y_e, v_z_e, phi_e, theta_e, psi_e, omega_x_e, omega_y_e, omega_z_e, tau_x_e, tau_y_e, tau_z_e, f_z_e)\n",
    "Matrix(D)"
   ]
  },
  {
   "cell_type": "code",
   "execution_count": 30,
   "id": "3683ddd9-abc5-4656-a4b2-e7c082b9d18a",
   "metadata": {},
   "outputs": [
    {
     "name": "stdout",
     "output_type": "stream",
     "text": [
      "True\n"
     ]
    }
   ],
   "source": [
    "# Checking for Observability\n",
    "n = np.shape(A)[0]\n",
    "Wo = C\n",
    "for i in range(1, n):\n",
    "    col = C@np.linalg.matrix_power(A, i)\n",
    "    Wo = np.block([[Wo], [col]])\n",
    "print(np.linalg.matrix_rank(Wo) == n)"
   ]
  },
  {
   "cell_type": "code",
   "execution_count": 31,
   "id": "db3e0a0f-ab99-4581-aa46-e8805d056211",
   "metadata": {},
   "outputs": [],
   "source": [
    "def lqr(A,B,Q,R):\n",
    "    P = linalg.solve_continuous_are(A, B, Q, R)\n",
    "    K = linalg.inv(R) @  B.T @ P\n",
    "    return K"
   ]
  },
  {
   "cell_type": "code",
   "execution_count": 47,
   "id": "fbaee92f-ceee-4a94-81eb-637fad2f9355",
   "metadata": {},
   "outputs": [
    {
     "data": {
      "text/latex": [
       "$\\displaystyle \\left[\\begin{array}{cccccccccccc}2.9374804585511 \\cdot 10^{-15} & -0.999999999999999 & 1.14981763858077 \\cdot 10^{-16} & 5.08912342858674 \\cdot 10^{-16} & -1.45381723139033 & 4.25482436275894 \\cdot 10^{-16} & 5.46213217992005 & -2.87083879324342 \\cdot 10^{-15} & -1.14940411270125 \\cdot 10^{-16} & 1.01248496681562 & -6.44300884937189 \\cdot 10^{-17} & 9.88280782139638 \\cdot 10^{-16}\\\\0.999999999999998 & 6.17317562947598 \\cdot 10^{-15} & -1.24776593082889 \\cdot 10^{-15} & 1.45381723139033 & 2.30716928665417 \\cdot 10^{-15} & -7.94479603212576 \\cdot 10^{-16} & -3.55489580983745 \\cdot 10^{-15} & 5.46213217992003 & 2.89524077035614 \\cdot 10^{-16} & -6.44300884937189 \\cdot 10^{-17} & 1.01248496681562 & 2.63346618831155 \\cdot 10^{-16}\\\\2.43299909574285 \\cdot 10^{-15} & -1.61426080424604 \\cdot 10^{-15} & -1.05013547673617 \\cdot 10^{-15} & 5.04213446327273 \\cdot 10^{-15} & -2.56109288364565 \\cdot 10^{-15} & -2.7489104370163 \\cdot 10^{-16} & 7.37503249186675 \\cdot 10^{-15} & 5.5227874695056 \\cdot 10^{-15} & 1.0 & 5.68261449730292 \\cdot 10^{-16} & 1.51424305827914 \\cdot 10^{-16} & 1.00399203184089\\\\-6.60357872255238 \\cdot 10^{-16} & -1.16999131698943 \\cdot 10^{-16} & 1.0 & -4.58492980725247 \\cdot 10^{-16} & -8.88659680329935 \\cdot 10^{-17} & 1.4142135623731 & 8.1301052035293 \\cdot 10^{-16} & -1.57402087495326 \\cdot 10^{-15} & -1.82617139545108 \\cdot 10^{-17} & 1.95721920686911 \\cdot 10^{-18} & -3.65460617477785 \\cdot 10^{-18} & -2.19912834961304 \\cdot 10^{-18}\\end{array}\\right]$"
      ],
      "text/plain": [
       "⎡ 2.9374804585511e-15    -0.999999999999999    1.14981763858077e-16   5.089123\n",
       "⎢                                                                             \n",
       "⎢  0.999999999999998    6.17317562947598e-15   -1.24776593082889e-15    1.4538\n",
       "⎢                                                                             \n",
       "⎢2.43299909574285e-15   -1.61426080424604e-15  -1.05013547673617e-15  5.042134\n",
       "⎢                                                                             \n",
       "⎣-6.60357872255238e-16  -1.16999131698943e-16           1.0           -4.58492\n",
       "\n",
       "42858674e-16     -1.45381723139033    4.25482436275894e-16     5.4621321799200\n",
       "                                                                              \n",
       "1723139033     2.30716928665417e-15   -7.94479603212576e-16  -3.55489580983745\n",
       "                                                                              \n",
       "46327273e-15   -2.56109288364565e-15  -2.7489104370163e-16   7.37503249186675e\n",
       "                                                                              \n",
       "980725247e-16  -8.88659680329935e-17     1.4142135623731      8.1301052035293e\n",
       "\n",
       "5     -2.87083879324342e-15  -1.14940411270125e-16    1.01248496681562     -6.\n",
       "                                                                              \n",
       "e-15    5.46213217992003     2.89524077035614e-16   -6.44300884937189e-17    1\n",
       "                                                                              \n",
       "-15    5.5227874695056e-15            1.0           5.68261449730292e-16   1.5\n",
       "                                                                              \n",
       "-16   -1.57402087495326e-15  -1.82617139545108e-17  1.95721920686911e-18   -3.\n",
       "\n",
       "44300884937189e-17  9.88280782139638e-16 ⎤\n",
       "                                         ⎥\n",
       ".01248496681562     2.63346618831155e-16 ⎥\n",
       "                                         ⎥\n",
       "1424305827914e-16     1.00399203184089   ⎥\n",
       "                                         ⎥\n",
       "65460617477785e-18  -2.19912834961304e-18⎦"
      ]
     },
     "execution_count": 47,
     "metadata": {},
     "output_type": "execute_result"
    }
   ],
   "source": [
    "Q = np.diag([1, 1, 1, 1, 1, 1, 1, 1, 1, 1, 1, 1])\n",
    "R = np.diag([1,1,1,1])\n",
    "K = lqr(A,B,Q,R)\n",
    "Matrix(K)"
   ]
  },
  {
   "cell_type": "code",
   "execution_count": 48,
   "id": "b1b41bae-b46c-4a36-b66b-4c8ad48f16d9",
   "metadata": {},
   "outputs": [],
   "source": [
    "Ro = np.diag([1, 1, 1, 1, 1, 1, 1, 1, 1, 1, 1, 1])\n",
    "Qo = np.diag([1, 1, 1, 1, 1, 1, 1, 1, 1, 1, 1, 1])\n",
    "L = lqr(A.T,C.T,linalg.inv(Ro),linalg.inv(Qo)).T"
   ]
  },
  {
   "cell_type": "code",
   "execution_count": 49,
   "id": "0650af00-9c9f-4603-807c-6354a90440b9",
   "metadata": {},
   "outputs": [
    {
     "name": "stdout",
     "output_type": "stream",
     "text": [
      "[-434.78145927+0.j         -434.78145927+0.j\n",
      " -249.99799996+0.j           -2.21469792+2.21475479j\n",
      "   -2.21469792-2.21475479j   -2.21469792+2.21475479j\n",
      "   -2.21469792-2.21475479j   -1.41421355+0.j\n",
      "   -1.41421358+0.j           -1.00000003+0.j\n",
      "   -1.00000003+0.j           -1.000008  +0.j        ]\n",
      "[-1.40682801+2.17021669e+00j -1.40682801-2.17021669e+00j\n",
      " -1.40682801+2.17021669e+00j -1.40682801-2.17021669e+00j\n",
      " -2.93130819+0.00000000e+00j -2.93130819+0.00000000e+00j\n",
      " -0.55901699+4.33012702e-01j -0.55901699-4.33012702e-01j\n",
      " -1.00128528+0.00000000e+00j -1.00128528+0.00000000e+00j\n",
      " -1.41421356+4.78610025e-08j -1.41421356-4.78610025e-08j]\n"
     ]
    }
   ],
   "source": [
    "print(linalg.eigvals(A-B@K))\n",
    "print(linalg.eigvals(A-L@C))"
   ]
  },
  {
   "cell_type": "markdown",
   "id": "5309a767-b2bb-44a7-bb9c-d915946bdc1a",
   "metadata": {},
   "source": [
    "## Gain Selection and Controller Design"
   ]
  },
  {
   "cell_type": "code",
   "execution_count": 20,
   "id": "efc14387-28dd-48c2-b9f0-7042b307f3bd",
   "metadata": {},
   "outputs": [],
   "source": [
    "# FIXME: Select a set of control and observer gains. Ensure the resultant system is stable. Implement your controller below."
   ]
  },
  {
   "cell_type": "code",
   "execution_count": null,
   "id": "06cc22bb-fde2-479e-82b7-173e9611699c",
   "metadata": {},
   "outputs": [],
   "source": [
    "# Create the Controller class\n",
    "class Controller():\n",
    "    def __init__(self):\n",
    "        \"\"\"\n",
    "        Initializes the controller. You should initialize any member variables that\n",
    "        the controller will use to their starting values. This function is called\n",
    "        when a new instance of the Controller class is created.\n",
    "    \n",
    "        Parameters\n",
    "        ----------\n",
    "        None.\n",
    "    \n",
    "        Returns\n",
    "        -------\n",
    "        None.\n",
    "        \"\"\"\n",
    "        # Fixme: Implement your initialization function here\n",
    "        pass\n",
    "\n",
    "    \n",
    "    def reset(self):\n",
    "        \"\"\"\n",
    "        Resets the controller to an initial state. You should reset any variables\n",
    "        that track states, times, etc. in this function. This function will be \n",
    "        called just before the simulation starts running and any time the simulation\n",
    "        is reset.\n",
    "    \n",
    "        Parameters\n",
    "        ----------\n",
    "        None.\n",
    "    \n",
    "        Returns\n",
    "        -------\n",
    "        None.\n",
    "        \"\"\"\n",
    "        # Fixme: Implement your reset function here\n",
    "        pass\n",
    "    \n",
    "    \n",
    "    def run(self, **kwargs):\n",
    "        \"\"\"\n",
    "        Runs the controller. Data is passed from the simulation environment to the\n",
    "        controller via kwargs, the controller calculates the inputs to the system,\n",
    "        and then returns them via a return statement\n",
    "    \n",
    "        Parameters\n",
    "        ----------\n",
    "        **kwargs : Dictionary\n",
    "            A dictionary of data passed from the simulation environment to the \n",
    "            controller. Specific data is extracted from kwargs via the statement:\n",
    "            kwargs[\"KEYWORD\"], where \"KEYWORD\" is a key to the dictionary. The keys\n",
    "            of kwargs for this project are as follows:\n",
    "\n",
    "            kwargs[\"dt\"] : float\n",
    "                The simulation time step in seconds.\n",
    "\n",
    "            kwargs[\"mocap_1\"] : 3Vector\n",
    "                The noisy measured position of mocap marker 1 (+x) in meters.\n",
    "            \n",
    "            kwargs[\"mocap_2\"] : 3Vector\n",
    "                The noisy measured position of mocap marker 2 (+y) in meters.\n",
    "                \n",
    "            kwargs[\"mocap_3\"] : 3Vector\n",
    "                The noisy measured position of mocap marker 1 (-x) in meters.\n",
    "            \n",
    "            kwargs[\"mocap_4\"] : 3Vector\n",
    "                The noisy measured position of mocap marker 2 (-y) in meters.\n",
    "            kwargs[\"next_gate\"] : 3Vector\n",
    "                The position of the center of the next gate in meters.\n",
    "            \n",
    "            kwargs[\"dir_gate\"] : 3Vector\n",
    "                A direction vector pointing in the direction of the gate.\n",
    "            \n",
    "            kwargs[\"is_last_gate\"] : bool\n",
    "                A Boolean value that indicates whether or not the next gate is the last gate.\n",
    "            \n",
    "            kwargs[\"pos_others\"] : List of 3Vectors\n",
    "                A list of the positions of any other quadrotors in meters.\n",
    "    \n",
    "        Returns\n",
    "        -------\n",
    "        inputs : List with length equal to the number of inputs\n",
    "            This is a list of the inputs calculated by the controller. In this\n",
    "            project, there are four inputs, f_z, tau_x, tau_y, and tau_z.\n",
    "            Therefore, inputs has the form:\n",
    "            inputs = [tau_x, tau_y, tau_z, f_z]\n",
    "        \n",
    "        \"\"\"\n",
    "        # FIXEME: Replace the null controller with your controller\n",
    "        return [0., 0., 0., 0.]"
   ]
  },
  {
   "cell_type": "code",
   "execution_count": null,
   "id": "91f99c2f-26ef-4515-875c-d5be5505ff4b",
   "metadata": {},
   "outputs": [],
   "source": [
    "# Create an instance of our Controller class to simulate 1 quadrotor\n",
    "controller1 = Controller()"
   ]
  },
  {
   "cell_type": "markdown",
   "id": "fdd5aa72-f4c6-4b4e-bb66-08bd4ceda7c9",
   "metadata": {},
   "source": [
    "## Running the Simulation"
   ]
  },
  {
   "cell_type": "markdown",
   "id": "a71636ba-cd6d-4ad5-8e31-1457f4111c72",
   "metadata": {},
   "source": [
    "Before we run the simulation, we must first import the simulation module and then create an instance of the simulator. This is done below:"
   ]
  },
  {
   "cell_type": "code",
   "execution_count": null,
   "id": "e5146cf2-bb6b-4a56-ab66-08917b5d03c6",
   "metadata": {},
   "outputs": [],
   "source": [
    "# Import the quadrotor project. This module is used to simulate, render, and plot a quadrotor dynamic system\n",
    "import ae353_quadrotor"
   ]
  },
  {
   "cell_type": "markdown",
   "id": "555722ea-6fb7-4f0c-b78f-7a8731e35f14",
   "metadata": {},
   "source": [
    "There are eight main parameters to the Quadrotor_Sim class initialization function:\n",
    "#### Parameters\n",
    "\n",
    "> **n_quadrotors** : *int*  \n",
    "> The number of quadrotor controllers provided to the simulator.\n",
    "> \n",
    "> **team_list** : *list of strings, shape(n_quadrotors,)*  \n",
    "> A list of the team names associated with each of the n_quadrotors controllers. The teams names to select from include: \"*the ORB*\", \"*Team Kachow*\", \"*Team Steam Tunnels*\", \"*Team Flying Mambas*\", \"*Team Spare Chang-e*\", and \"*the Flying Illini*\". The string \"\" results in an empty team flag.\n",
    ">\n",
    "> **planet** : *string*,\n",
    "> The name of the planet on which the race takes place. This parameter varies the acceleration due to graivty. You must select from one of the following strings: \"Mercury\", \"Venus\", \"Earth\", \"Moon\", \"Mars\", \"Jupiter\", \"Saturn\", \"Uranus\", \"Neptune\", \"Pluto\". Note that this does not alter the maximum thrust of the quadrotor.    \n",
    "> \n",
    "> **use_keyboard** : *bool, optional*  \n",
    "> A boolean flag that indicates whether the simulation will allow the use of keyboard interactivity. The default is True.\n",
    "> \n",
    "> **visualization** : *bool, optional*  \n",
    "> A boolean flag that indicates whether the simulation will be  visualized in meshcat. The default is True.\n",
    ">\n",
    "> **visualization_fr** : *float, optional*  \n",
    "> The frame rate (frames per second) at which the visualizer is  updated. The default is 45.  .\n",
    "> \n",
    "> **animation** : *bool, optional*  \n",
    "> A boolean flag that indicates whether animated plots are created in real time. The default is True.\n",
    ">\n",
    ">  **verbose** : *bool, optional*  \n",
    "> A boolean flag that indicates whether warnings are printing during  function execution. The default is False."
   ]
  },
  {
   "cell_type": "code",
   "execution_count": null,
   "id": "80c2d1df-5247-44cf-9de7-35c4d85780d5",
   "metadata": {},
   "outputs": [],
   "source": [
    "# Make an instance of the simulator for 1 quadrotor\n",
    "team_list = [\"\"]\n",
    "sim = ae353_quadrotor.Quadrotor_Sim(n_quadrotors=1,\n",
    "                                    team_list=team_list,\n",
    "                                    planet=\"Earth\",\n",
    "                                    use_keyboard=True,\n",
    "                                    visualization=True,\n",
    "                                    visualization_fr=45.,\n",
    "                                    animation=False,\n",
    "                                    verbose=True)"
   ]
  },
  {
   "cell_type": "markdown",
   "id": "94ef6182-08ea-4384-92c0-20210a8c5858",
   "metadata": {},
   "source": [
    "Now we are ready to run the simulation and collect data. To do this we call the ``sim.run()`` function. This function takes a list of members of the  ``Controller`` class as an argument and returns ``track_stats`` and ``data``. The parameters and return values of ``sim.run()`` are shown below.\n",
    "\n",
    "#### Parameters\n",
    "\n",
    "> **controllers** : *List of members of Controller class*  \n",
    "> A list of length n_quadrotors where each element is a member of  a custom class that, at a minimum, must provide the function   controller.run() and controller.reset.()\n",
    "> \n",
    "> **max_time** : *Float or None, optional*  \n",
    "> The total amount of time the simulation is allowed to run. If set to None, the simulation will run until \"ESC\" is pressed on the keyboard. If the keyboard is disabled, and max_time is set to None, the simulation will automatically terminate after 10 seconds of simulated time. The default value is None.\n",
    ">  \n",
    "> **sensor_noise** : *Float, optional*  \n",
    "> The noise applied to the mocap sensor, i.e., the standard deviation of the components of each mocap marker tracker measurement. The default value is 0.01 (1 cm).\n",
    ">\n",
    ">  **verbose** : *bool, optional*  \n",
    "> A boolean flag that indicates whether warnings are printing during function execution. The default is False.\n",
    "> \n",
    "#### Returns\n",
    "\n",
    "> **track_stats** : *List of Dictionaries*\n",
    "> A list of dictionaries containing all relevant track performance data generated during the simulation. There is one dictionary for each quadrotor simulated. Specific data is extracted via the statement: track_stats[QUADROTOR NUMBER][\"KEYWORD\"], where QUADROTOR NUMBER is the index of the quadrotor for which track stats are collected and \"KEYWORD\" is a key to the dictionary. The keys of track_stats for this project are as follows:\n",
    ">\n",
    "> **track_stats[QUADROTOR NUMBER][\"completed_lap\"]** : *Bool*  \n",
    "> A boolean value that indicates whether or not the quadrotor completed the lap.  \n",
    ">\n",
    "> **track_stats[QUADROTOR NUMBER][\"gate_times\"]** : *List of Floats*  \n",
    "> The time at which each gate was passed by the quadrotor. The length of this list is equal to the number of gates passed by the quadrotor. If no gates were passed, is an empty list.  \n",
    ">\n",
    "> **track_stats[QUADROTOR NUMBER][\"lap_time\"]** : *Float*  \n",
    "> The time at which the final gate was passed by the quadrotor. If the final gate was not passed, has the value None.  \n",
    ">  \n",
    "> **data** : *List of Dictionary of Lists*  \n",
    "> A list of dictionaries containing all relevant simulation data generated during the simulation. There is one dictionary for each quadrotor simulated. Specific data is extracted via the statement: data[QUADROTOR NUMBER][\"KEYWORD\"], where QUADROTOR NUMBER is the index of the quadrotor for which data is collected and \"KEYWORD\" is a key to the dictionary. The keys of data for this project are as follows:\n",
    ">  \n",
    "> **data[QUADROTOR NUMBER][\"position\"]** : *List of arrays, shape(n,3)*  \n",
    "> The [x, y, z] position of the quadrotor at each time stamp.  \n",
    ">  \n",
    "> **data[QUADROTOR NUMBER][\"orientation\"]** : *List of arrays, shape(n,3)*  \n",
    "> The [roll, pitch, yaw] orientation of the quadrotor at each  time stamp.  \n",
    ">  \n",
    "> **data[QUADROTOR NUMBER][\"velocity\"]** : *List of arrays, shape(n,3)*  \n",
    ">The [vx, vy, vz] velocity of the quadrotor in body fixed  coordinates at each time stamp.  \n",
    ">  \n",
    "> **data[QUADROTOR NUMBER][\"angular velocity\"]** : *List of arrays, shape(n,3)*  \n",
    "The [wx, wy, wz] angular velocity of the quadrotor in body  fixed coordinates at each time stamp.  \n",
    "> \n",
    "> **data[QUADROTOR NUMBER][\"mocap 1\"]** : *List of arrays, shape(n,3)*  \n",
    "> The true (not noisy) position of the mocap 1 marker (+x) in  meters at each time stamp.  \n",
    "> \n",
    "> **data[QUADROTOR NUMBER][\"mocap 2\"]** : *List of arrays, shape(n,3)*  \n",
    "> The true (not noisy) position of the mocap 2 marker (+y) in  meters at each time stamp.  \n",
    "> \n",
    "> **data[QUADROTOR NUMBER][\"mocap 3\"]** : *List of arrays, shape(n,3)*  \n",
    "> The true (not noisy) position of the mocap 3 marker (-x) in  meters at each time stamp.  \n",
    "> \n",
    "> **data[QUADROTOR NUMBER][\"mocap 4\"]** : *List of arrays, shape(n,3)*  \n",
    "> The true (not noisy) position of the mocap 4 marker (-y) in  meters at each time stamp.  \n",
    "> \n",
    "> **data[QUADROTOR NUMBER][\"inputs\"]** : *List of arrays, shape(n,4)*  \n",
    "> The inputs applied to the quadrotor. [tau_x, tau_y, tau_z, f_z]  \n",
    "> \n",
    "> **data[QUADROTOR NUMBER][\"time\"]** : *List of Floats, shape(n,)*  \n",
    "> A list of the time stamps in seconds. "
   ]
  },
  {
   "cell_type": "markdown",
   "id": "124639bf-1ee1-4311-b92c-8390c695242a",
   "metadata": {},
   "source": [
    "#### If enabled you can use the keyboard to interact with the simulation:  \n",
    "> press **ENTER** to start the simulation.  \n",
    "> press **BACKSPACE** to reset the simulation.  \n",
    "> press **SPACE** to pause the simulation.  \n",
    "> press **ESC** to end the simulation.  "
   ]
  },
  {
   "cell_type": "code",
   "execution_count": null,
   "id": "75fefa5c-d205-44cc-84fb-0896513a6cec",
   "metadata": {},
   "outputs": [],
   "source": [
    "# Run the simulation and collect the simulation data\\\n",
    "controllers = [controller1]\n",
    "(track_stats, data) = sim.run(controllers,\n",
    "                              sensor_noise=0.01,\n",
    "                              collect_data=True,\n",
    "                              max_time=60.0,\n",
    "                              verbose=True)"
   ]
  },
  {
   "cell_type": "code",
   "execution_count": null,
   "id": "e885b408-a4ca-450c-a762-f909d2027799",
   "metadata": {},
   "outputs": [],
   "source": [
    "# Print out the track stats for each quadrotor\n",
    "for i in range(len(track_stats)):\n",
    "    stat = track_stats[i]\n",
    "    print(\"Quadrotor {} completed lap: {}\".format(i, stat[\"completed_lap\"]))\n",
    "    if len(stat[\"gate_times\"]) > 0:\n",
    "        print(\"Gate times for Quadrotor {}: {}\".format(i, stat[\"gate_times\"]))\n",
    "    else:\n",
    "        print(\"Quadrotor {} passed no gates.\".format(i))\n",
    "    if stat[\"completed_lap\"]:\n",
    "        print(\"Lap time for Quadrotor {}: {}\".format(i, stat[\"lap_time\"]))\n",
    "    print(\"\\n\")"
   ]
  },
  {
   "cell_type": "markdown",
   "id": "0fadfcf6-c9d5-4d87-9ff7-8665522883e3",
   "metadata": {
    "jp-MarkdownHeadingCollapsed": true
   },
   "source": [
    "## FIXME: Post-processing the simulation data"
   ]
  },
  {
   "cell_type": "markdown",
   "id": "4d9710b3-e018-4921-839c-ff40946ef1f8",
   "metadata": {},
   "source": [
    "After the simulation is run, we can plot the data using the Matplotlib package. To start, we import matplotlib and numpy."
   ]
  },
  {
   "cell_type": "code",
   "execution_count": null,
   "id": "5b23ea45-dabd-46f3-b3aa-148dd30d4f64",
   "metadata": {},
   "outputs": [],
   "source": [
    "# Import the pyplot module from the matplotlib package\n",
    "import matplotlib.pyplot as plt\n",
    "\n",
    "# Import numpy\n",
    "import numpy as np"
   ]
  },
  {
   "cell_type": "markdown",
   "id": "fcc05165-85a1-43f4-9ea7-e3a84d795869",
   "metadata": {},
   "source": [
    "Now we can make whichever plots we see fit to make sense of the simulation data. Here we plot the ground track and altitude.\n",
    "\n",
    "**THIS IS LEFT INTENTIONALLY AS INSUFFICIENT TO PROVE YOUR CONTROLLER OR OBSERVER WORK.**"
   ]
  },
  {
   "cell_type": "code",
   "execution_count": null,
   "id": "815349ed-356a-4194-bd7c-35db59ea26e9",
   "metadata": {},
   "outputs": [],
   "source": [
    "# Create a figure that has two plots in it\n",
    "fig, axes = plt.subplots(2, 1, figsize=(7.2, 5.4), sharex=False)\n",
    "\n",
    "# Convert the position data to array\n",
    "colors = ['k','r','g','b','m','c','tab:orange','tab:purple','tab:brown','tab:pink','tab:gray']\n",
    "for i in range(len(data)):\n",
    "    \n",
    "    # Get the position\n",
    "    pos = np.array(data[i]['position'])\n",
    "    \n",
    "    # Create a plot of the ground path of the quadrotor\n",
    "    axes[0].plot(pos[:,0], pos[:,1], c=colors[i], lw=2.5, label=str(i+1))\n",
    "    \n",
    "    # Create a plot of the altitude versus time\n",
    "    axes[1].plot(data[0]['time'], pos[:,2], c=colors[i], lw=2.5, label=str(i+1))\n",
    "\n",
    "# Make plot 0 pretty\n",
    "axes[0].set_xlabel(\"X Position [meters]\", fontsize=12)\n",
    "axes[0].set_ylabel(\"Y Position [meters]\", fontsize=12)\n",
    "axes[0].tick_params(axis='y', labelsize=12)\n",
    "axes[0].set_title(\"Ground Track\", fontsize=14)\n",
    "axes[0].set_aspect('equal', 'box')\n",
    "axes[0].legend(bbox_to_anchor=(1.16, 1.05), fancybox=True, shadow=True)\n",
    "axes[0].grid()\n",
    "\n",
    "# Make plot 1 pretty\n",
    "axes[1].set_xlabel(\"Time [seconds]\", fontsize=12)\n",
    "axes[1].set_ylabel(\"Altitude [meters]\", fontsize=12)\n",
    "axes[1].tick_params(axis='y', labelsize=12)\n",
    "axes[1].set_title(\"Altitude vs. Time\", fontsize=14)\n",
    "axes[1].legend(bbox_to_anchor=(1., 1.05), fancybox=True, shadow=True)\n",
    "axes[1].grid()\n",
    "\n",
    "# Show the figure\n",
    "fig.tight_layout(pad=2.0)\n",
    "plt.show()"
   ]
  },
  {
   "cell_type": "code",
   "execution_count": null,
   "id": "dc20052d-b877-45c5-b458-c8720425ef6e",
   "metadata": {},
   "outputs": [],
   "source": []
  }
 ],
 "metadata": {
  "kernelspec": {
   "display_name": "Python 3 (ipykernel)",
   "language": "python",
   "name": "python3"
  },
  "language_info": {
   "codemirror_mode": {
    "name": "ipython",
    "version": 3
   },
   "file_extension": ".py",
   "mimetype": "text/x-python",
   "name": "python",
   "nbconvert_exporter": "python",
   "pygments_lexer": "ipython3",
   "version": "3.11.7"
  }
 },
 "nbformat": 4,
 "nbformat_minor": 5
}
