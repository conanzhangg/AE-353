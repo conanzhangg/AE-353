{
 "cells": [
  {
   "cell_type": "markdown",
   "id": "f6bd5103-056e-424a-ad6a-7d560b63baad",
   "metadata": {},
   "source": [
    "# DP3: Control of a Spacecraft with Reaction Wheels and a Star Tracker\n",
    "by Conan Zhang and \n",
    "Kareef Haque"
   ]
  },
  {
   "cell_type": "markdown",
   "id": "486c35a1-3317-47a5-94f3-9cd7c617cf4a",
   "metadata": {},
   "source": [
    "## Introduction"
   ]
  },
  {
   "cell_type": "markdown",
   "id": "865c53f9-f6a0-41e5-ab6d-fae3dcfb66e8",
   "metadata": {},
   "source": []
  },
  {
   "cell_type": "markdown",
   "id": "1dfa3c08-49a1-40a3-86e9-1d546d8ac113",
   "metadata": {},
   "source": [
    "## Theory"
   ]
  },
  {
   "cell_type": "markdown",
   "id": "feb05037-719e-48e8-b5d0-ea9abfdc908c",
   "metadata": {},
   "source": [
    "To begin, all packages are imported into the notebook. *numpy* and *sympy* help build the equation of motions and linearize the system model providing a foundation for the controller design. *scipy* is utilized when finding optimal gain matrices for the controller/observer. *matplotlib.pyplot* helps with plotting the motion of the spacecraft and verifying the system requirements with visual analysis.\n"
   ]
  },
  {
   "cell_type": "code",
   "execution_count": 58,
   "id": "37338544-9586-47a5-ba7f-e41aff454209",
   "metadata": {
    "scrolled": true
   },
   "outputs": [
    {
     "data": {
      "text/plain": [
       "{'alpha': array([-0.06,  0.  ,  0.06,  0.  ,  0.  , -0.06,  0.  ,  0.06]),\n",
       " 'delta': array([-0.09, -0.09, -0.09, -0.03,  0.03,  0.09,  0.09,  0.09])}"
      ]
     },
     "execution_count": 58,
     "metadata": {},
     "output_type": "execute_result"
    }
   ],
   "source": [
    "import numpy as np\n",
    "from sympy import *\n",
    "from scipy import linalg\n",
    "import matplotlib.pyplot as plt\n",
    "\n",
    "from ae353_spacecraft import get_star_coords\n",
    "star_coords = get_star_coords()\n",
    "star_coords"
   ]
  },
  {
   "cell_type": "markdown",
   "id": "a892dda9-554b-4d08-a00a-e5579dd831c7",
   "metadata": {},
   "source": [
    "The spacecraft project function *get_star_coords* must also be imported. This function returns a dictionary consisting of alpha ($\\alpha$): the right ascension of the star and delta ($\\delta$): the declination of the i-th star in radians, together representing the star’s equatorial celestial coordinates in the constellation. In total, 8 stars in the shape of the letter I are observed for their measured positions while the controller maintains the view of the stars."
   ]
  },
  {
   "cell_type": "markdown",
   "id": "2a8c4968-653b-4cbf-a9aa-420f9307eba5",
   "metadata": {},
   "source": [
    "### Dynamic Model Creation"
   ]
  },
  {
   "cell_type": "markdown",
   "id": "63cbe386-5d3f-4bf2-a10e-bfd229713c0c",
   "metadata": {},
   "source": [
    "All variables used in the system must be defined to design the controller and observer. The state variables include $\\phi$, $\\theta$, $\\psi$, $\\omega_x$, $\\omega_y$, $\\omega_z$  while the input variables include $\\tau_1$, $\\tau_2$, $\\tau_3$, $\\tau_4$. The system parameters (constants) defining the bus and wheels of the spacecraft are also defined below. "
   ]
  },
  {
   "cell_type": "code",
   "execution_count": 83,
   "id": "cdd2a2b5-0924-404a-8838-dbb1646c8422",
   "metadata": {},
   "outputs": [],
   "source": [
    "phi = symbols('phi')        # roll angle (rad)\n",
    "theta = symbols('theta')    # pitch angle (rad)\n",
    "psi = symbols('psi')        # yaw angle (rad)                      \n",
    "wx_inB = symbols('omega_x') # angular velocity about the body-fixed x-axis (rad/s) \n",
    "wy_inB = symbols('omega_y') # angular velocity about the body-fixed y-axis (rad/s) \n",
    "wz_inB = symbols('omega_z') # angular velocity about the body-fixed z-axis (rad/s) \n",
    "tau_1 = symbols('tau_1')    # torque applied to Reaction Wheel 1 by a motor on the spacecraft (N.m)\n",
    "tau_2 = symbols('tau_2')    # torque applied to Reaction Wheel 2 by a motor on the spacecraft (N.m)\n",
    "tau_3 = symbols('tau_3')    # torque applied to Reaction Wheel 3 by a motor on the spacecraft (N.m)\n",
    "tau_4 = symbols('tau_4')    # torque applied to Reaction Wheel 4 by a motor on the spacecraft (N.m)"
   ]
  },
  {
   "cell_type": "code",
   "execution_count": 65,
   "id": "f2536a89-84b2-4e8c-96e7-322ec18229b5",
   "metadata": {},
   "outputs": [],
   "source": [
    "mb = 6.       # mass of the bus\n",
    "Ixxb = 10.    # moment of inertia of the bus about x-axis\n",
    "Iyyb = 10.    # moment of inertia of the bus about y-axis\n",
    "Izzb = 16.    # moment of inertia of the bus about z-axis\n",
    "rb = 2.2      # radius of the bus\n",
    "mw = 1.       # mass of each wheel\n",
    "Ixxw = 0.075  # moment of inertia of each wheel about x-axis\n",
    "Iyyw = 0.075  # moment of inertia of each wheel about x-axis\n",
    "Izzw = 0.125  # moment of inertia of each wheel about x-axis"
   ]
  },
  {
   "cell_type": "markdown",
   "id": "08d39ba4-0b67-42d3-b2ae-97cfbd87a374",
   "metadata": {},
   "source": [
    "The change_of_coords function converts a vector in coordinate frame A to a coordinate frame B where the orientation of A in B is described by the set of angles: roll, pitch, yaw."
   ]
  },
  {
   "cell_type": "code",
   "execution_count": 66,
   "id": "9edc1882-de00-4514-be2c-2c90e8464c3b",
   "metadata": {},
   "outputs": [],
   "source": [
    "def change_of_coords(v_inA, roll, pitch, yaw):\n",
    "    # Derives the rotation matrices from the roll, pitch, and yaw values\n",
    "    cx = np.cos(roll)\n",
    "    sx = np.sin(roll)\n",
    "    cy = np.cos(pitch)\n",
    "    sy = np.sin(pitch)\n",
    "    cz = np.cos(yaw)\n",
    "    sz = np.sin(yaw)\n",
    "    Rx = np.array([[1., 0., 0.],[0., cx, -sx],[0., sx, cx]])\n",
    "    Ry = np.array([[cy, 0., sy],[0., 1., 0.],[-sy, 0., cy]])\n",
    "    Rz = np.array([[cz, -sz, 0.],[sz, cz, 0.],[0., 0., 1.]])\n",
    "\n",
    "    # Combines the individual rotations into a single transformation\n",
    "    R_ofA_inB = Rz@Ry@Rx\n",
    "\n",
    "    # Applies the transformation on the vector in frame A\n",
    "    v_inB = R_ofA_inB @ v_inA\n",
    "\n",
    "    # Ouputs same vector in frame B\n",
    "    return v_inB"
   ]
  },
  {
   "cell_type": "markdown",
   "id": "c14f0237-72e7-457e-9ece-009791282912",
   "metadata": {},
   "source": [
    "Next, the equations of motion for the bus and the wheels are created using the variables, constants, and change_of_coords function. Because the torques on the bus are in the opposite direction as the torques applied to the wheels due to Newton's Third Law, the total torque on the spacecraft is the negative sum of $\\tau_1$, $\\tau_2$, $\\tau_3$, and $\\tau_4$. The torques applied to spacecraft in spacecraft-fixed coordinates is found to be *tau_inB*.\n"
   ]
  },
  {
   "cell_type": "code",
   "execution_count": 75,
   "id": "a3960114-02ca-4abe-b244-7eb6f9b785ed",
   "metadata": {},
   "outputs": [],
   "source": [
    "# Defines the angular velocity vector written in body coordinates\n",
    "w_inB = Matrix([[wx_inB],[wy_inB],[wz_inB]])\n",
    "\n",
    "# Defines roll, pitch, and yaw rotation matrices that describe the bus's orientation in the world frame\n",
    "Rx = Matrix([[1,0,0],[0,cos(phi),-sin(phi)],[0,sin(phi),cos(phi)]])\n",
    "Ry = Matrix([[cos(theta),0,sin(theta)],[0,1,0],[-sin(theta),0,cos(theta)]])\n",
    "Rz = Matrix([[cos(psi),-sin(psi), 0],[sin(psi),cos(psi),0],[0,0,1]])\n",
    "\n",
    "# Multiplies torque scalars by their directions (in each wheel's frame) to get the torque applied to each wheel as a vector\n",
    "t1_inT1 = tau_1 * Matrix([[0.],[0.],[1.]])\n",
    "t2_inT2 = tau_2 * Matrix([[0.],[0.],[1.]])\n",
    "t3_inT3 = tau_3 * Matrix([[0.],[0.],[1.]])\n",
    "t4_inT4 = tau_4 * Matrix([[0.],[0.],[1.]])\n",
    "\n",
    "# Changes the torque on the wheel vectors from their own body coordinates to bus coordinates\n",
    "t1_inB = change_of_coords(t1_inT1, 0.,       0., 1.570796)\n",
    "t2_inB = change_of_coords(t2_inT2, 2.094395, 0., 2.617994)\n",
    "t3_inB = change_of_coords(t3_inT3, 2.094395, 0., 4.712389)\n",
    "t4_inB = change_of_coords(t4_inT4, 2.094395, 0., 0.523599)\n",
    "\n",
    "# Sums the torque vectors to get the total torque on the spacecraft by the wheels in bus coordinates.\n",
    "tau_inB = -t1_inB - t2_inB - t3_inB - t4_inB\n",
    "tau_inB = simplify(tau_inB)"
   ]
  },
  {
   "cell_type": "markdown",
   "id": "d08cd1e3-df46-4d05-af3a-f71cf16d01ef",
   "metadata": {},
   "source": [
    "The parallel axis theorem is then used to convert the moment's of inertia about each wheel's center to the center of the bus. Each wheel can be assumed to have 0 moment of inertia and thus treated as a point mass due to the moment of inertia about each wheel compared to the inertia imposed by their location being small. The moment of inertia matrix of the spacecraft written in principal axes is found to be *I_inB*."
   ]
  },
  {
   "cell_type": "code",
   "execution_count": 76,
   "id": "16c1161e-fe6d-4b48-9ad4-078e695325de",
   "metadata": {},
   "outputs": [],
   "source": [
    "# Obtains the position of the center of mass of each wheel in bus coordinates\n",
    "p1_inB = np.round(np.array(rb*(t1_inB/tau_1)).astype(np.float64).flatten(),6)\n",
    "p2_inB = np.round(np.array(rb*(t2_inB/tau_2)).astype(np.float64).flatten(),6)\n",
    "p3_inB = np.round(np.array(rb*(t3_inB/tau_3)).astype(np.float64).flatten(),6)\n",
    "p4_inB = np.round(np.array(rb*(t4_inB/tau_4)).astype(np.float64).flatten(),6)\n",
    "ps_inB = [p1_inB, p2_inB, p3_inB, p4_inB]\n",
    "\n",
    "# Calculates the total moment of inertia\n",
    "Ixx = Ixxb\n",
    "Iyy = Iyyb\n",
    "Izz = Izzb\n",
    "for p_inB in ps_inB:\n",
    "    # Gets the distance from the x axis and the resultant point inertia\n",
    "    dx = np.linalg.norm(p_inB[1:])\n",
    "    ixx = mw * dx**2\n",
    "    Ixx = Ixx + ixx\n",
    "    \n",
    "    # Gets the distance from the y axis and the resultant point inertia\n",
    "    dy = np.linalg.norm(p_inB[0:3:2])\n",
    "    iyy = mw * dy**2\n",
    "    Iyy = Iyy + iyy\n",
    "    \n",
    "    # Gets the distance from the z axis and the resultant point inertia\n",
    "    dz = np.linalg.norm(p_inB[0:2])\n",
    "    izz = mw * dz**2\n",
    "    Izz = Izz + izz\n",
    "\n",
    "# Assembles the moment of inertia matrix\n",
    "I_inB = Matrix([[Ixx, 0.,  0],[0.,  Iyy, 0.],[0.,  0.,  Izz]])"
   ]
  },
  {
   "cell_type": "markdown",
   "id": "213bfe90-6f78-4467-853d-729a78ce6bd3",
   "metadata": {},
   "source": [
    "Using [Euler's Equations](https://en.wikipedia.org/wiki/Euler%27s_equations_(rigid_body_dynamics)), the equations of motion that combine the spacecraft's differential equations into a single system of equations can be created. This includes the time derivative of the angular velocities and the angular velocities themselves. These equations are derived in terms of the variables defined previously."
   ]
  },
  {
   "cell_type": "code",
   "execution_count": 73,
   "id": "c6c03d94-5e21-4b6b-bd83-60c8e78b9918",
   "metadata": {},
   "outputs": [
    {
     "data": {
      "text/latex": [
       "$\\displaystyle \\left[\\begin{matrix}\\omega_{x} + \\omega_{y} \\sin{\\left(\\phi \\right)} \\tan{\\left(\\theta \\right)} + \\omega_{z} \\cos{\\left(\\phi \\right)} \\tan{\\left(\\theta \\right)}\\\\\\omega_{y} \\cos{\\left(\\phi \\right)} - \\omega_{z} \\sin{\\left(\\phi \\right)}\\\\\\frac{\\omega_{y} \\sin{\\left(\\phi \\right)} + \\omega_{z} \\cos{\\left(\\phi \\right)}}{\\cos{\\left(\\theta \\right)}}\\\\- 0.124 \\omega_{y} \\omega_{z} - 0.0181 \\tau_{2} + 0.0362 \\tau_{3} - 0.0181 \\tau_{4}\\\\0.124 \\omega_{x} \\omega_{z} - 0.0314 \\tau_{2} + 7.1 \\cdot 10^{-10} \\tau_{3} + 0.0314 \\tau_{4}\\\\- 2.37 \\cdot 10^{-8} \\omega_{x} \\omega_{y} - 0.0372 \\tau_{1} + 0.0186 \\tau_{2} + 0.0186 \\tau_{3} + 0.0186 \\tau_{4}\\end{matrix}\\right]$"
      ],
      "text/plain": [
       "Matrix([\n",
       "[                 omega_x + omega_y*sin(phi)*tan(theta) + omega_z*cos(phi)*tan(theta)],\n",
       "[                                                 omega_y*cos(phi) - omega_z*sin(phi)],\n",
       "[                                    (omega_y*sin(phi) + omega_z*cos(phi))/cos(theta)],\n",
       "[                 -0.124*omega_y*omega_z - 0.0181*tau_2 + 0.0362*tau_3 - 0.0181*tau_4],\n",
       "[                 0.124*omega_x*omega_z - 0.0314*tau_2 + 7.1e-10*tau_3 + 0.0314*tau_4],\n",
       "[-2.37e-8*omega_x*omega_y - 0.0372*tau_1 + 0.0186*tau_2 + 0.0186*tau_3 + 0.0186*tau_4]])"
      ]
     },
     "execution_count": 73,
     "metadata": {},
     "output_type": "execute_result"
    }
   ],
   "source": [
    "# Creates time derivative of the angular velocities in the spacecraft-fixed frame\n",
    "w_inB_dot = I_inB.inv() @ (tau_inB - w_inB.cross(I_inB@w_inB))\n",
    "w_inB_dot = simplify(w_inB_dot)\n",
    "\n",
    "# Defines the transformation that takes roll, pitch, and yaw rates to body-fixed angular rates\n",
    "ex = Matrix([[1], [0], [0]])\n",
    "ey = Matrix([[0], [1], [0]])\n",
    "ez = Matrix([[0], [0], [1]])\n",
    "M = Matrix.hstack(ex, Rx.T@ey, (Ry@Rx).T@ez)\n",
    "\n",
    "# Inverts the transformation to get a matrix that takes body-fixed angular rates to roll, pitch, and yaw rates\n",
    "M_inv = simplify(M.inv())\n",
    "\n",
    "# Converts the body-fixed angular rates to roll, pitch, and yaw rates\n",
    "rpy_dot = simplify(M_inv@w_inB)\n",
    "\n",
    "# Assembles the system of equations\n",
    "f = simplify(Matrix.vstack(rpy_dot, w_inB_dot))\n",
    "N(f,3)"
   ]
  },
  {
   "cell_type": "markdown",
   "id": "fb8f8790-293c-4ae1-ac84-63c4e9a7fbd5",
   "metadata": {},
   "source": [
    "The final dynamic model is now represented in the form below.\n",
    "\n",
    "$$\\begin{bmatrix} \\dot{\\phi} \\\\ \\dot{\\theta} \\\\ \\dot{\\psi} \\\\ \\dot{\\omega_x} \\\\ \\dot{\\omega_y} \\\\ \\dot{\\omega_z} \\end{bmatrix}=f\\left(\\phi, \\theta, \\psi, \\omega_x, \\omega_y, \\omega_z, \\tau_1, \\tau_2, \\tau_3, \\tau_4\\right)$$"
   ]
  },
  {
   "cell_type": "markdown",
   "id": "42b999ba-ed86-42f8-aec8-df609b1d1711",
   "metadata": {},
   "source": [
    "### Sensor Model Creation"
   ]
  },
  {
   "cell_type": "markdown",
   "id": "f31be745-3542-402b-9c09-0b10348fcd61",
   "metadata": {},
   "source": [
    "In creating the sensor model, a new system of equations relating the sensed states to the states used in the system dynamics must be created. The stars are created using the ascension $\\alpha$ and the declination $\\delta$ defined previously. Using the [equitorial celestial coordinate system](https://en.wikipedia.org/wiki/Equatorial_coordinate_system), the star coords are next used to calculate the $i$th star's location in the scope image using a pinhol camera model. Dividing the $y$ and $z$ coordinates by the $x$ coordinate allows for all constants to drop out."
   ]
  },
  {
   "cell_type": "code",
   "execution_count": 109,
   "id": "a9fff697-13e1-4a97-9d7d-767fcc3270fd",
   "metadata": {},
   "outputs": [
    {
     "data": {
      "text/latex": [
       "$\\displaystyle \\left[\\begin{matrix}\\frac{2.625 \\left(\\sin{\\left(\\delta_{i} \\right)} \\sin{\\left(\\phi \\right)} \\cos{\\left(\\theta \\right)} + \\sin{\\left(\\phi \\right)} \\sin{\\left(\\theta \\right)} \\cos{\\left(\\delta_{i} \\right)} \\cos{\\left(\\alpha_{i} - \\psi \\right)} + \\sin{\\left(\\alpha_{i} - \\psi \\right)} \\cos{\\left(\\delta_{i} \\right)} \\cos{\\left(\\phi \\right)}\\right)}{- \\sin{\\left(\\delta_{i} \\right)} \\sin{\\left(\\theta \\right)} + \\cos{\\left(\\delta_{i} \\right)} \\cos{\\left(\\theta \\right)} \\cos{\\left(\\alpha_{i} - \\psi \\right)}}\\\\\\frac{2.625 \\left(\\sin{\\left(\\delta_{i} \\right)} \\cos{\\left(\\phi \\right)} \\cos{\\left(\\theta \\right)} - \\sin{\\left(\\phi \\right)} \\sin{\\left(\\alpha_{i} - \\psi \\right)} \\cos{\\left(\\delta_{i} \\right)} + \\sin{\\left(\\theta \\right)} \\cos{\\left(\\delta_{i} \\right)} \\cos{\\left(\\phi \\right)} \\cos{\\left(\\alpha_{i} - \\psi \\right)}\\right)}{- \\sin{\\left(\\delta_{i} \\right)} \\sin{\\left(\\theta \\right)} + \\cos{\\left(\\delta_{i} \\right)} \\cos{\\left(\\theta \\right)} \\cos{\\left(\\alpha_{i} - \\psi \\right)}}\\end{matrix}\\right]$"
      ],
      "text/plain": [
       "Matrix([\n",
       "[2.625*(sin(delta_i)*sin(phi)*cos(theta) + sin(phi)*sin(theta)*cos(delta_i)*cos(alpha_i - psi) + sin(alpha_i - psi)*cos(delta_i)*cos(phi))/(-sin(delta_i)*sin(theta) + cos(delta_i)*cos(theta)*cos(alpha_i - psi))],\n",
       "[2.625*(sin(delta_i)*cos(phi)*cos(theta) - sin(phi)*sin(alpha_i - psi)*cos(delta_i) + sin(theta)*cos(delta_i)*cos(phi)*cos(alpha_i - psi))/(-sin(delta_i)*sin(theta) + cos(delta_i)*cos(theta)*cos(alpha_i - psi))]])"
      ]
     },
     "execution_count": 109,
     "metadata": {},
     "output_type": "execute_result"
    }
   ],
   "source": [
    "# Calculates the depth normalized cartesian coordinates of the ith star in the fixed world coorinates using the equitorial celestial coordinates\n",
    "p_ofi_inW = Matrix([[cos(alpha_i)*cos(delta_i)], [sin(alpha_i)*cos(delta_i)], [sin(delta_i)]])\n",
    "\n",
    "# Calculates the orientation of the spacecraft using it's roll, pitch, and yaw angles\n",
    "R_ofS_inW = simplify(Rz @ Ry @ Rx)\n",
    "\n",
    "# Inverts the orientation of the spacecraft to get a transform that takes vectors in world coordinates to vectors in spacecraft-fixed coordinates.\n",
    "R_ofW_inS = R_ofS_inW.T # (inverse = tranpose for a rotation matrix)\n",
    "\n",
    "# Obtains the position of the ith star in spacecraft-fixed coordinates\n",
    "p_ofi_inS = simplify(R_ofW_inS @ p_ofi_inW)\n",
    "\n",
    "# Defines the radius of the star scope\n",
    "rc = 0.8/2.1\n",
    "\n",
    "# Calculate the star scope coordinates, q,  of the ith star\n",
    "g_num = simplify( (1/rc) * Matrix([[p_ofi_inS[1] / p_ofi_inS[0]],\n",
    "                                       [p_ofi_inS[2] / p_ofi_inS[0]]]) )\n",
    "g_num"
   ]
  },
  {
   "cell_type": "markdown",
   "id": "fe23c9eb-a227-42f1-b1f5-602b06d229c9",
   "metadata": {},
   "source": [
    "The final sensor model for each star is now represented in the form below where $q_i$ is the star scope coordinates of the $i$th star.\n",
    "\n",
    "$$\n",
    "q_i = g(\\phi, \\theta, \\psi, \\alpha_{i}, \\delta_{i}),\n",
    "$$"
   ]
  },
  {
   "cell_type": "markdown",
   "id": "78a30e88-b28f-484e-b4cf-cfefa9e8affb",
   "metadata": {},
   "source": [
    "### System Linearization and State Space Form"
   ]
  },
  {
   "cell_type": "markdown",
   "id": "4ea3d8c4-321b-45d0-aa37-5187aea73379",
   "metadata": {},
   "source": [
    "Deriving the models for both the controller and observer, the next step is to linearize the dynamic model (i.e., the equations of motion) and the sensor model. Through linearization, the complex equations of motion of the system and the non-linearity of the sensor can be simplified, enabling more thorough analysis on the system’s behavior under varying conditions. The following linearized equations represent the system. \n",
    "\n",
    "\\begin{equation}\n",
    "\\dot{x} = Ax + Bu\n",
    "\\end{equation}\n",
    "\n",
    "\\begin{equation}\n",
    "y = Cx + Du\n",
    "\\end{equation}"
   ]
  },
  {
   "cell_type": "markdown",
   "id": "55679a6a-d7fe-4267-a2aa-d59c447ae465",
   "metadata": {},
   "source": [
    "The system can now begin the linearization process. $x$ and $u$ represent the state and input repsectively for the state-space model.\n",
    "$$\n",
    "\\begin{matrix}\n",
    "x = \\begin{bmatrix}\n",
    "m - m_e\n",
    "\\end{bmatrix}\n",
    "&\n",
    "u = \\begin{bmatrix}\n",
    "n - n_e\n",
    "\\end{bmatrix}\n",
    "\\end{matrix}\n",
    "$$"
   ]
  },
  {
   "cell_type": "markdown",
   "id": "0dce7c9b-fdb6-433b-893c-f5972a66f920",
   "metadata": {},
   "source": [
    "The column vectors $m$ and $n$ represent the states and inputs respectively. \n",
    "\n",
    "$$\n",
    "\\begin{matrix} \n",
    "m = \\begin{bmatrix}\n",
    "\\phi \\\\\n",
    "\\theta \\\\\n",
    "\\psi \\\\\n",
    "\\omega_x \\\\\n",
    "\\omega_y \\\\\n",
    "\\omega_z \n",
    "\\end{bmatrix}\n",
    "&\n",
    "n = \\begin{bmatrix}\n",
    "\\tau_1 \\\\\n",
    "\\tau_2 \\\\\n",
    "\\tau_3 \\\\\n",
    "\\tau_4 \n",
    "\\end{bmatrix}\n",
    "\\end{matrix}\n",
    "$$"
   ]
  },
  {
   "cell_type": "markdown",
   "id": "1fb481d3-b53c-4b5e-be93-224867aaac33",
   "metadata": {},
   "source": [
    "#### Controller Design"
   ]
  },
  {
   "cell_type": "markdown",
   "id": "d485ce7c-3257-4164-8653-e652ac0288ab",
   "metadata": {},
   "source": [
    "Starting with the controller, the state-space model can be derived using the dynamic model found earlier. Equilibrium points are first defined and used to linearize the system where $f(m,n)$ = 0. The chosen equilibrium points for the spacecraft were all set to a value of 0. Values of 0 for all state and input variables were chosen to stabilize the state-space system around a steady state while keeping the model controllable. "
   ]
  },
  {
   "cell_type": "code",
   "execution_count": 84,
   "id": "4887a5f4-205a-48d9-ae59-43fbce3f3988",
   "metadata": {},
   "outputs": [],
   "source": [
    "phi_e = theta_e = psi_e = w_x_e = w_y_e = w_z_e = tau_1_e = tau_2_e = tau_3_e = tau_4_e = 0"
   ]
  },
  {
   "cell_type": "markdown",
   "id": "6b3dd139-74c0-436b-9008-d4d31949c89e",
   "metadata": {},
   "source": [
    "The next step is to place the space-space model into state feedback form. By taking the Jacobian of the dynamic model with respect to the state variables and control inputs, the coefficient matrices $A$ and $B$ can be found (A_num and B_num). The result is a linear approximation of the right-hand side of the first ODEs. Plugging in the equilibrium points found earlier, a linearized state-space model is derived where $A$ is a 6x6 matrix and $B$ is a 6x4 matrix."
   ]
  },
  {
   "cell_type": "code",
   "execution_count": 97,
   "id": "4ad31825-c96d-47fd-b242-955e3c49095c",
   "metadata": {},
   "outputs": [
    {
     "name": "stdout",
     "output_type": "stream",
     "text": [
      "(6, 6)\n"
     ]
    },
    {
     "data": {
      "text/latex": [
       "$\\displaystyle \\left[\\begin{matrix}0 & 0 & 0 & 1.0 & 0 & 0\\\\0 & 0 & 0 & 0 & 1.0 & 0\\\\0 & 0 & 0 & 0 & 0 & 1.0\\\\0 & 0 & 0 & 0 & 0 & 0\\\\0 & 0 & 0 & 0 & 0 & 0\\\\0 & 0 & 0 & 0 & 0 & 0\\end{matrix}\\right]$"
      ],
      "text/plain": [
       "Matrix([\n",
       "[0, 0, 0, 1.0,   0,   0],\n",
       "[0, 0, 0,   0, 1.0,   0],\n",
       "[0, 0, 0,   0,   0, 1.0],\n",
       "[0, 0, 0,   0,   0,   0],\n",
       "[0, 0, 0,   0,   0,   0],\n",
       "[0, 0, 0,   0,   0,   0]])"
      ]
     },
     "execution_count": 97,
     "metadata": {},
     "output_type": "execute_result"
    }
   ],
   "source": [
    "A_num = lambdify([phi, theta, psi, wx_inB, wy_inB, wz_inB, tau_1, tau_2, tau_3, tau_4], f.jacobian([phi, theta, psi, wx_inB, wy_inB, wz_inB]))\n",
    "A = A_num(phi_e, theta_e, psi_e, w_x_e, w_y_e, w_z_e, tau_1_e, tau_2_e, tau_3_e, tau_4_e)\n",
    "print(A.shape)\n",
    "Matrix(A)"
   ]
  },
  {
   "cell_type": "code",
   "execution_count": 96,
   "id": "d613c9dd-aaec-423d-9def-f3816d7dcdec",
   "metadata": {},
   "outputs": [
    {
     "name": "stdout",
     "output_type": "stream",
     "text": [
      "(6, 4)\n"
     ]
    },
    {
     "data": {
      "text/latex": [
       "$\\displaystyle \\left[\\begin{matrix}0 & 0 & 0 & 0\\\\0 & 0 & 0 & 0\\\\0 & 0 & 0 & 0\\\\0 & -0.0181063197149959 & 0.0362126470826273 & -0.0181063305787912\\\\0 & -0.0313610736839173 & 7.10322282429955 \\cdot 10^{-10} & 0.0313610674117016\\\\-0.0371885450450875 & 0.0185942692248454 & 0.0185942692248454 & 0.0185942692248454\\end{matrix}\\right]$"
      ],
      "text/plain": [
       "Matrix([\n",
       "[                  0,                   0,                    0,                   0],\n",
       "[                  0,                   0,                    0,                   0],\n",
       "[                  0,                   0,                    0,                   0],\n",
       "[                  0, -0.0181063197149959,   0.0362126470826273, -0.0181063305787912],\n",
       "[                  0, -0.0313610736839173, 7.10322282429955e-10,  0.0313610674117016],\n",
       "[-0.0371885450450875,  0.0185942692248454,   0.0185942692248454,  0.0185942692248454]])"
      ]
     },
     "execution_count": 96,
     "metadata": {},
     "output_type": "execute_result"
    }
   ],
   "source": [
    "B_num = lambdify([phi, theta, psi, wx_inB, wy_inB, wz_inB, tau_1, tau_2, tau_3, tau_4], f.jacobian([tau_1, tau_2, tau_3, tau_4]))\n",
    "B = B_num(phi_e, theta_e, psi_e, w_x_e, w_y_e, w_z_e, tau_1_e, tau_2_e, tau_3_e, tau_4_e)\n",
    "print(B.shape)\n",
    "Matrix(B)"
   ]
  },
  {
   "cell_type": "markdown",
   "id": "49e1e058-9ab4-4305-a788-f8566833bb98",
   "metadata": {},
   "source": [
    "The final state-space model is now in the form:\n",
    "\\begin{equation}\n",
    "\\dot{x} = Ax + Bu\n",
    "\\end{equation}"
   ]
  },
  {
   "cell_type": "markdown",
   "id": "a21dcc20-7d7f-4a69-b798-86aa508ecf9a",
   "metadata": {},
   "source": [
    "#### Observer Design"
   ]
  },
  {
   "cell_type": "markdown",
   "id": "7c5995f1-966f-4228-9a94-cf5e94d6a34b",
   "metadata": {},
   "source": [
    "Since the exact values of the state variables are not directly measurable, implementing a star tracker observer is essential for deriving state estimates in real-time. These estimates are crucial as they provide the feedback needed to track the celestial coordinates accurately. The star coordinate positions, which the controller relies on to maintain the field of view, are estimated and corrected based on this feedback. When designing an observer for such a system, the linear output $y$ is represented by the output equation below.\n",
    "\n",
    "\\begin{equation}\n",
    "y = q_i - g(m_e, n_e)\n",
    "\\end{equation}"
   ]
  },
  {
   "cell_type": "markdown",
   "id": "575b604a-28e1-4ea6-956d-d44aad54f1de",
   "metadata": {},
   "source": [
    "Individual sensor model ($q_i$) is described by function g with respect to the state variables and control inputs. Simplifying $q_i$, results in a dependency on only $\\phi$, $\\theta$, $\\psi$, $\\alpha$, $\\delta$."
   ]
  },
  {
   "cell_type": "markdown",
   "id": "c710b785-70e5-4091-8542-9a5204709d04",
   "metadata": {},
   "source": [
    "$$\n",
    "q_i = g(\\phi, \\theta, \\psi, \\alpha_{i}, \\delta_{i})\n",
    "$$\n",
    "$$\n",
    "\\begin{bmatrix}\n",
    "y_{\\text{star}} \\\\\n",
    "z_{\\text{star}} \\\\\n",
    "\\end{bmatrix} = \n",
    "g(\\psi, \\theta, \\phi, \\alpha, \\delta)\n",
    "$$"
   ]
  },
  {
   "cell_type": "markdown",
   "id": "8abee958-c421-4138-95cf-1b0d2b76d7eb",
   "metadata": {},
   "source": [
    "The following for-loop iterates over each star coordinate to linearize the function $g$ representing the sensor model. For each coordinate pair, $\\alpha$ and $\\delta$ are defined and plugged into sensor model $g$. On the first iteration, the Jacobian of $g$ is taken at the first coordinate and evaluated at the equilibrium points producing matrix $C_1$. The the following iterations, the Jacobian of $g$ is taken for the rest of the star coordinates and evaluated at their respective equilibriums, resulting in a stacked collection of Jacobians (Matrix $C$)."
   ]
  },
  {
   "cell_type": "markdown",
   "id": "9b11a677-4c1c-42a8-9cd9-9234a9a59116",
   "metadata": {},
   "source": [
    "The equilibrium points for the linearization of each $g$ were chosen as shown. \n",
    "$$\n",
    "\\begin{bmatrix}\n",
    "\\phi_e \\\\\n",
    "\\theta_e \\\\\n",
    "\\psi_e \\\\\n",
    "\\end{bmatrix} = \n",
    "\\begin{bmatrix}\n",
    "0 \\\\\n",
    "-\\delta \\\\\n",
    "\\alpha \\\\\n",
    "\\end{bmatrix} \n",
    "$$"
   ]
  },
  {
   "cell_type": "code",
   "execution_count": 112,
   "id": "d564792a-5740-4ccb-8c3b-84fa7cfa31ac",
   "metadata": {},
   "outputs": [
    {
     "name": "stdout",
     "output_type": "stream",
     "text": [
      "(16, 6)\n"
     ]
    },
    {
     "data": {
      "text/latex": [
       "$\\displaystyle \\left[\\begin{matrix}7.28583859910259 \\cdot 10^{-17} & 0 & -2.61437592415649 & 0 & 0 & 0\\\\0 & 2.625 & 0 & 0 & 0 & 0\\\\-0.000423586564953697 & 2.53423813747691 \\cdot 10^{-5} & -2.62369575552775 & 0 & 0 & 0\\\\0.157048774944127 & 2.6250000683526 & -0.0141405558592943 & 0 & 0 & 0\\\\-0.00170194065199482 & 0.000204376341385556 & -2.65192287828488 & 0 & 0 & 0\\\\0.315221271381159 & 2.62500110346742 & -0.028535179723857 & 0 & 0 & 0\\\\-0.158114391821953 & 0.0094768292701514 & -2.62850189520297 & 0 & 0 & 0\\\\0.157333412521741 & 2.63452387081951 & -0.0141918594239684 & 0 & 0 & 0\\\\-0.316950513791111 & 0.0191002745360497 & -2.64285455080065 & 0 & 0 & 0\\\\0.15818942855595 & 2.66326957264474 & -0.0143467090208408 & 0 & 0 & 0\\\\-0.477670013730521 & 0 & -2.65730821198598 & 0 & 0 & 0\\\\0 & 2.71192138743517 & 0 & 0 & 0 & 0\\\\-0.478107639329394 & 0.029074856185215 & -2.66701588303186 & 0 & 0 & 0\\\\0.159632457647487 & 2.71208072944195 & -0.0146096487813265 & 0 & 0 & 0\\\\-0.479428518060211 & 0.0585241626085503 & -2.69642373197289 & 0 & 0 & 0\\\\0.320435520750877 & 2.71256255387787 & -0.0294870199806261 & 0 & 0 & 0\\end{matrix}\\right]$"
      ],
      "text/plain": [
       "Matrix([\n",
       "[ 7.28583859910259e-17,                    0,   -2.61437592415649, 0, 0, 0],\n",
       "[                    0,                2.625,                   0, 0, 0, 0],\n",
       "[-0.000423586564953697,  2.53423813747691e-5,   -2.62369575552775, 0, 0, 0],\n",
       "[    0.157048774944127,      2.6250000683526, -0.0141405558592943, 0, 0, 0],\n",
       "[ -0.00170194065199482, 0.000204376341385556,   -2.65192287828488, 0, 0, 0],\n",
       "[    0.315221271381159,     2.62500110346742,  -0.028535179723857, 0, 0, 0],\n",
       "[   -0.158114391821953,   0.0094768292701514,   -2.62850189520297, 0, 0, 0],\n",
       "[    0.157333412521741,     2.63452387081951, -0.0141918594239684, 0, 0, 0],\n",
       "[   -0.316950513791111,   0.0191002745360497,   -2.64285455080065, 0, 0, 0],\n",
       "[     0.15818942855595,     2.66326957264474, -0.0143467090208408, 0, 0, 0],\n",
       "[   -0.477670013730521,                    0,   -2.65730821198598, 0, 0, 0],\n",
       "[                    0,     2.71192138743517,                   0, 0, 0, 0],\n",
       "[   -0.478107639329394,    0.029074856185215,   -2.66701588303186, 0, 0, 0],\n",
       "[    0.159632457647487,     2.71208072944195, -0.0146096487813265, 0, 0, 0],\n",
       "[   -0.479428518060211,   0.0585241626085503,   -2.69642373197289, 0, 0, 0],\n",
       "[    0.320435520750877,     2.71256255387787, -0.0294870199806261, 0, 0, 0]])"
      ]
     },
     "execution_count": 112,
     "metadata": {},
     "output_type": "execute_result"
    }
   ],
   "source": [
    "star_coords = np.array([[-0.06,  0.  ,  0.06,  0.  ,  0.  , -0.06,  0.  ,  0.06], [-0.09, -0.09, -0.09, -0.03,  0.03,  0.09,  0.09,  0.09]])\n",
    "for i in range(0,len(star_coords[0])):\n",
    "    alpha = star_coords[0][i]\n",
    "    delta = star_coords[1][i]\n",
    "    g = g_num.subs([(alpha_i, alpha), (delta_i, delta)])\n",
    "    \n",
    "    phi_e = 0\n",
    "    theta_e = -delta\n",
    "    psi_e = alpha\n",
    "    \n",
    "    if i == 0:\n",
    "        C_num = lambdify([phi, theta, psi], g.jacobian([phi, theta, psi, wx_inB, wy_inB, wz_inB]))\n",
    "        C = C_num(phi_e, theta_e, psi_e)\n",
    "    else:\n",
    "        C = np.concatenate([C, C_num(phi_e,theta_e,psi_e)])\n",
    "print(C.shape)\n",
    "Matrix(C)"
   ]
  },
  {
   "cell_type": "markdown",
   "id": "82d5724c-a04c-4a94-9f45-9f465b37939c",
   "metadata": {},
   "source": [
    "The end result is a matrix $C$ of shape (16, 6), indicating that the function $g$ has been linearized at 16 different points corresponding to 8 star coordinates. Since matrix $g$ is independent of the reaction wheel torques $\\tau_1$, $\\tau_2$, $\\tau_3$, $\\tau_4$, the resulting $D$ matrix will consist of only 0's. The final linearized model of the non-linear sensor model can thus be represented in the form:\n",
    "\\begin{equation}\n",
    "y = Cx\n",
    "\\end{equation}"
   ]
  },
  {
   "cell_type": "markdown",
   "id": "435d7549-87f8-4227-97e6-a8380710466a",
   "metadata": {},
   "source": [
    "### Controllability Tests"
   ]
  },
  {
   "cell_type": "markdown",
   "id": "f7fab0c0-bec0-4145-b5c6-2733d5be72ff",
   "metadata": {},
   "source": [
    "To test for controllability for the controller, controllability matrix $W_c$ can be derived from $A$ and $B$. $W_c$ is a $n \\times (n \\times m)$ matrix where $n$ is the number of columns of $A$ and $m$ is the number of columns of $B$. Each column of $W_c$ is obtained through matrix multiplication $A^i \\times B$ where $i$ is the order of column between 0 and n-1.\n",
    "\n",
    "$$\n",
    "W_c = \\begin{bmatrix}\n",
    "B & AB & ... & A^{n-i} B\n",
    "\\end{bmatrix}\n",
    "$$"
   ]
  },
  {
   "cell_type": "code",
   "execution_count": 118,
   "id": "335962d2-1cb3-43e4-97f7-2f45e3304a1d",
   "metadata": {},
   "outputs": [
    {
     "name": "stdout",
     "output_type": "stream",
     "text": [
      "(6, 24)\n",
      "True\n"
     ]
    }
   ],
   "source": [
    "#Controllability Test for the Controller\n",
    "n = np.shape(A)[0]\n",
    "Wc = B\n",
    "for i in range(1,n):\n",
    "    col = np.linalg.matrix_power(A,i)@B\n",
    "    Wc = np.block([Wc,col])\n",
    "print(Wc.shape)\n",
    "print(np.linalg.matrix_rank(Wc) == n)"
   ]
  },
  {
   "cell_type": "markdown",
   "id": "7073159f-525e-4f08-90a0-cc4624bbf168",
   "metadata": {},
   "source": [
    "Similarly for controllability for the observer, controllability matrix $W_o$ can be derived from $A$ and $C$. $W_o$ is a $(n \\times m) \\times n$ matrix where $n$ is the number of rows of $A$ and $m$ is the number of rows of $C$. Each row of $W_o$ is obtained through matrix multiplication $C \\times A^i$ where $i$ is the order of column between 0 and n-1.\n",
    "\n",
    "$$\n",
    "W_o = \\begin{bmatrix}\n",
    "C \\\\\n",
    "CA \\\\\n",
    "\\vdots \\\\\n",
    "CA^{n-i} \\\\\n",
    "\\end{bmatrix}\n",
    "$$"
   ]
  },
  {
   "cell_type": "code",
   "execution_count": 119,
   "id": "c0455f9c-5e46-4aee-b794-8a1bdcdff870",
   "metadata": {},
   "outputs": [
    {
     "name": "stdout",
     "output_type": "stream",
     "text": [
      "(96, 6)\n",
      "True\n"
     ]
    }
   ],
   "source": [
    "#Controllability Test for the Observer\n",
    "n = np.shape(A)[0]\n",
    "Wo = C\n",
    "for i in range(1,n):\n",
    "    col = C@np.linalg.matrix_power(A,i)\n",
    "    Wo = np.block([[Wo],[col]])\n",
    "print(Wo.shape)\n",
    "print(np.linalg.matrix_rank(Wo) == n)"
   ]
  },
  {
   "cell_type": "markdown",
   "id": "87f9f71d-dd34-458f-9258-9a757ed1e640",
   "metadata": {},
   "source": [
    "Since the rank of $W_c$ is equal to $n$ and the rank of $W_o$ is also equal to $n$, then every state of the system can be influenced by the control inputs, meaning the system is fully controllable. Computing both controllability matrices shows the matrices are both full-rank, suggesting that both the controller and the observer are controllable."
   ]
  },
  {
   "cell_type": "markdown",
   "id": "7d62afe8-0940-443a-bd1f-01d829a7a9e9",
   "metadata": {},
   "source": [
    "## Optimal Gains Selection"
   ]
  },
  {
   "cell_type": "markdown",
   "id": "614087f9-dfdf-46ad-8662-0bef9973f8b1",
   "metadata": {},
   "source": [
    "The Linear Quadratic Regulator (LQR) method is applied to optimize the controller and observer design. This method balances error and effort with weighted matrices $Q$ and $R$. $Q$ is a symmetric matrix where the diagonal elements correspond to the system's state variables $m$. $R$ is also a symmetric matrix where the diagonal elements correspond to each control input $n$ for the controller or the estimated system state $\\hat{x}$ for the observer. The magnitude of the diagonal element indicates which variable yields greater importance in when selecting a gains matrix. The LQR method allows for prioritizing certain weights of specific variables in the state-space models, while also holding the system to negative eigenvalues. Negative eigenvalues suggest that the system will be asymptotically stable returning to equilibrium."
   ]
  },
  {
   "cell_type": "markdown",
   "id": "371b1438-65a9-4013-a387-2dc6480ef0d1",
   "metadata": {},
   "source": [
    "\\begin{aligned}\n",
    "& \\text{minimize}\n",
    "& & \\int_{t_0}^{\\infty} \\left( x(t)^T Q x(t) + u(t)^T R u(t) \\right) dt \\\\\n",
    "& \\text{subject to}\n",
    "& & \\dot{x}(t) = A x(t) + B u(t), \\quad x(t_0) = x_0\n",
    "\\end{aligned}"
   ]
  },
  {
   "cell_type": "markdown",
   "id": "4bdc1e3a-9d0b-455b-897c-0cdba4dc57eb",
   "metadata": {},
   "source": [
    "Solving the continuous-time algebraic Riccati equation $P$ and the gain matrix equation, yields a gains matrix $K$ that minimizes the cost function and achieves desirable controller conditions. Show below is the function with inputs matrices $A$ and $B$ and weights $Q$ and $R$ returning the optimal gains matrix."
   ]
  },
  {
   "cell_type": "code",
   "execution_count": 53,
   "id": "40baab26-413f-4c4d-ac70-89c1afaf48b1",
   "metadata": {},
   "outputs": [],
   "source": [
    "def lqr(A, B, Q, R):\n",
    "    P = linalg.solve_continuous_are(A, B, Q, R)\n",
    "    K = linalg.inv(R) @ B.T @ P\n",
    "    return K"
   ]
  },
  {
   "cell_type": "markdown",
   "id": "0871ce2e-0385-4acf-865f-1fc6eb202037",
   "metadata": {},
   "source": [
    "For the linear state feedback controller, state feedback is defined as $u = -Kx$, where $K$ is a matrix of coefficients. The weights of Q were chosen as 100 to emphasize keeping the controller focused on ensuring that the orientation angles and angular velocities of the spacecraft return to equilibrium."
   ]
  },
  {
   "cell_type": "code",
   "execution_count": 129,
   "id": "047d58f8-25d9-4af1-85ab-ff65e74ea44e",
   "metadata": {},
   "outputs": [
    {
     "name": "stdout",
     "output_type": "stream",
     "text": [
      "(4, 6)\n"
     ]
    },
    {
     "data": {
      "text/latex": [
       "$\\displaystyle \\left[\\begin{matrix}-1.08789249262917 \\cdot 10^{-7} & -1.88428570661258 \\cdot 10^{-7} & -7.55929003474528 & -3.51543016075415 \\cdot 10^{-7} & -6.08890550746557 \\cdot 10^{-7} & -17.0132503776164\\\\-4.0824822288566 & -7.07106863376733 & 3.77964413518289 & -9.58249599234534 & -16.5973747799458 & 8.50662299552046\\\\8.16496562232877 & 6.72391006158575 \\cdot 10^{-7} & 3.77964445298618 & 19.1649941670907 & 2.06310079499271 \\cdot 10^{-6} & 8.5066240224742\\\\-4.08248395431746 & 7.07106698996351 & 3.77964445298617 & -9.58249934688873 & 16.5973706866325 & 8.5066240224742\\end{matrix}\\right]$"
      ],
      "text/plain": [
       "Matrix([\n",
       "[-1.08789249262917e-7, -1.88428570661258e-7, -7.55929003474528, -3.51543016075415e-7, -6.08890550746557e-7, -17.0132503776164],\n",
       "[    -4.0824822288566,    -7.07106863376733,  3.77964413518289,    -9.58249599234534,    -16.5973747799458,  8.50662299552046],\n",
       "[    8.16496562232877,  6.72391006158575e-7,  3.77964445298618,     19.1649941670907,  2.06310079499271e-6,   8.5066240224742],\n",
       "[   -4.08248395431746,     7.07106698996351,  3.77964445298617,    -9.58249934688873,     16.5973706866325,   8.5066240224742]])"
      ]
     },
     "execution_count": 129,
     "metadata": {},
     "output_type": "execute_result"
    }
   ],
   "source": [
    "Qc = np.diag([100, 100, 100, 100, 100, 100])\n",
    "Rc = np.diag([1, 1, 1, 1])\n",
    "K = lqr(A, B, Qc, Rc)\n",
    "print(K.shape)\n",
    "Matrix(K)"
   ]
  },
  {
   "cell_type": "code",
   "execution_count": 137,
   "id": "70e5abdc-8ea0-4bad-bca7-7f8be30eeaa8",
   "metadata": {},
   "outputs": [
    {
     "name": "stdout",
     "output_type": "stream",
     "text": [
      "(6, 16)\n"
     ]
    },
    {
     "data": {
      "text/latex": [
       "$\\displaystyle \\left[\\begin{array}{cccccccccccccccc}0.190440410940379 & -0.125231354058134 & 0.190771018337764 & 0.00447938358873143 & 0.191771198784534 & 0.135129323417501 & 0.0614634591962645 & 0.00426198977570388 & -0.0680953370444901 & 0.00360328501090945 & -0.19781962700333 & -0.129378128551512 & -0.198858141576442 & 0.00247616713014182 & -0.199203198397987 & 0.135293736227615\\\\-0.011693885797375 & 0.0739613180223718 & -0.0117146504650807 & 0.0664057158520492 & -0.0117748769484961 & 0.0587953949095983 & -0.00394686126384035 & 0.06666024730263 & 0.0038377120546263 & 0.0674286479865782 & 0.0109023721733622 & 0.0764103924524816 & 0.0116990340476867 & 0.0687339194994362 & 0.0124602665977971 & 0.0610094889393333\\\\-0.0839764454606825 & 0.0117414064039063 & -0.0842448391350411 & -0.000152792042963951 & -0.0850576027222312 & -0.0121370029488297 & -0.0728701842654523 & -0.000132574801187104 & -0.0617179752275375 & -7.13268418644341 \\cdot 10^{-5} & -0.0505602974713652 & 0.0121301985315511 & -0.0507101902460887 & 3.34401470932204 \\cdot 10^{-5} & -0.0514268588364682 & -0.0121557463714261\\\\0.0322185750422773 & -0.0211880596180162 & 0.0322706916477437 & 0.00217087367818894 & 0.0324283870448305 & 0.025698822066875 & 0.00897417951896946 & 0.00213665345090576 & -0.0143751528631647 & 0.0020329080020761 & -0.0377694307321434 & -0.0218896579186093 & -0.0379490843499455 & 0.00185519254547016 & -0.0380193750798571 & 0.0257735525627524\\\\-0.00203202125914265 & 0.0360492347310294 & -0.00203549802243174 & 0.0347706034857317 & -0.00204466043029195 & 0.033482717765571 & -0.000636612236732279 & 0.034899056894921 & 0.000766459626114756 & 0.0352867930082495 & 0.0017901908899781 & 0.0372429297781902 & 0.00218546418411908 & 0.0359452666814044 & 0.00257769717692289 & 0.0346423754544161\\\\-0.0377201003808303 & 0.00204027881222572 & -0.0378493266791401 & -9.91498509261353 \\cdot 10^{-5} & -0.0382406932559626 & -0.00225609176112238 & -0.0359680017524153 & -9.59954551711692 \\cdot 10^{-5} & -0.0342101654335772 & -8.64362644620569 \\cdot 10^{-5} & -0.0324529018692933 & 0.0021078383798879 & -0.0325649721819575 & -7.00748633848287 \\cdot 10^{-5} & -0.0329500998743858 & -0.00226602624134914\\end{array}\\right]$"
      ],
      "text/plain": [
       "Matrix([\n",
       "[   0.190440410940379,  -0.125231354058134,    0.190771018337764,   0.00447938358873143,    0.191771198784534,    0.135129323417501,    0.0614634591962645,   0.00426198977570388,  -0.0680953370444901,  0.00360328501090945,   -0.19781962700333,  -0.129378128551512,  -0.198858141576442,  0.00247616713014182,  -0.199203198397987,    0.135293736227615],\n",
       "[  -0.011693885797375,  0.0739613180223718,  -0.0117146504650807,    0.0664057158520492,  -0.0117748769484961,   0.0587953949095983,  -0.00394686126384035,      0.06666024730263,   0.0038377120546263,   0.0674286479865782,  0.0109023721733622,  0.0764103924524816,  0.0116990340476867,   0.0687339194994362,  0.0124602665977971,   0.0610094889393333],\n",
       "[ -0.0839764454606825,  0.0117414064039063,  -0.0842448391350411, -0.000152792042963951,  -0.0850576027222312,  -0.0121370029488297,   -0.0728701842654523, -0.000132574801187104,  -0.0617179752275375, -7.13268418644341e-5, -0.0505602974713652,  0.0121301985315511, -0.0507101902460887,  3.34401470932204e-5, -0.0514268588364682,  -0.0121557463714261],\n",
       "[  0.0322185750422773, -0.0211880596180162,   0.0322706916477437,   0.00217087367818894,   0.0324283870448305,    0.025698822066875,   0.00897417951896946,   0.00213665345090576,  -0.0143751528631647,   0.0020329080020761, -0.0377694307321434, -0.0218896579186093, -0.0379490843499455,  0.00185519254547016, -0.0380193750798571,   0.0257735525627524],\n",
       "[-0.00203202125914265,  0.0360492347310294, -0.00203549802243174,    0.0347706034857317, -0.00204466043029195,    0.033482717765571, -0.000636612236732279,     0.034899056894921, 0.000766459626114756,   0.0352867930082495,  0.0017901908899781,  0.0372429297781902, 0.00218546418411908,   0.0359452666814044, 0.00257769717692289,   0.0346423754544161],\n",
       "[ -0.0377201003808303, 0.00204027881222572,  -0.0378493266791401,  -9.91498509261353e-5,  -0.0382406932559626, -0.00225609176112238,   -0.0359680017524153,  -9.59954551711692e-5,  -0.0342101654335772, -8.64362644620569e-5, -0.0324529018692933,  0.0021078383798879, -0.0325649721819575, -7.00748633848287e-5, -0.0329500998743858, -0.00226602624134914]])"
      ]
     },
     "execution_count": 137,
     "metadata": {},
     "output_type": "execute_result"
    }
   ],
   "source": [
    "Ro = np.diag([100,100,100,100,100,100])\n",
    "Qo = np.diag([1,1,1,1,1,1,1,1,1,1,1,1,1,1,1,1])\n",
    "\n",
    "L = lqr(A.T,C.T,np.linalg.inv(Ro),np.linalg.inv(Qo))\n",
    "L = L.T\n",
    "print(L.shape)\n",
    "Matrix(L)"
   ]
  },
  {
   "cell_type": "code",
   "execution_count": 138,
   "id": "5305f1ad-4813-4864-bf7a-411337651256",
   "metadata": {},
   "outputs": [
    {
     "name": "stdout",
     "output_type": "stream",
     "text": [
      "[(-0.5205114109291752+0.4154280114996592j), (-0.5205114109291752-0.4154280114996592j), (-0.5205113698499773+0.4154279916573959j), (-0.5205113698499773-0.4154279916573959j), (-0.5536106903705781+0.430666199234577j), (-0.5536106903705781-0.430666199234577j)]\n",
      "[(-0.37215488559165033+0j), (-1.4372802407016372+0j), (-1.4433808052470938+0j), 0j, 0j, 0j]\n"
     ]
    }
   ],
   "source": [
    "K_vals = linalg.eigvals(A-B@K)\n",
    "L_vals = linalg.eigvals(A-C.T@L.T)\n",
    "\n",
    "print(K_vals.tolist())\n",
    "print(L_vals.tolist())"
   ]
  },
  {
   "cell_type": "markdown",
   "id": "49df0ced-e64b-47da-90d1-6fc4b3ad1320",
   "metadata": {},
   "source": [
    "## Experimental Methods"
   ]
  },
  {
   "cell_type": "markdown",
   "id": "3d1dbd68-5e56-460e-848c-868ccc581c8d",
   "metadata": {},
   "source": []
  },
  {
   "cell_type": "markdown",
   "id": "5309a767-b2bb-44a7-bb9c-d915946bdc1a",
   "metadata": {},
   "source": [
    "## Results and Discussion"
   ]
  },
  {
   "cell_type": "code",
   "execution_count": 139,
   "id": "91f99c2f-26ef-4515-875c-d5be5505ff4b",
   "metadata": {},
   "outputs": [],
   "source": [
    "# Create an instance of our Controller class\n",
    "controller = Controller()"
   ]
  },
  {
   "cell_type": "markdown",
   "id": "fdd5aa72-f4c6-4b4e-bb66-08bd4ceda7c9",
   "metadata": {},
   "source": [
    "## Running the Simulation"
   ]
  },
  {
   "cell_type": "markdown",
   "id": "b63859c2-2cb5-42d1-a594-0308368b80d2",
   "metadata": {},
   "source": [
    "We start by importing the spacecraft simulation project."
   ]
  },
  {
   "cell_type": "code",
   "execution_count": 140,
   "id": "de3c72ca-251f-49a3-9bf7-8416ce1d5fb2",
   "metadata": {},
   "outputs": [],
   "source": [
    "import ae353_spacecraft"
   ]
  },
  {
   "cell_type": "markdown",
   "id": "555722ea-6fb7-4f0c-b78f-7a8731e35f14",
   "metadata": {},
   "source": [
    "There are four main parameters to the Spacecraft_Sim class initialization function:\n",
    "#### Parameters\n",
    "\n",
    "> **use_keyboard** : *bool, optional*  \n",
    "> A boolean flag that indicates whether the simulation will allow the use of keyboard interactivity. The default is True.\n",
    "> \n",
    "> **visualization** : *bool, optional*  \n",
    "> A boolean flag that indicates whether the simulation will be  visualized in meshcat. The default is True.\n",
    "> \n",
    "> **animation** : *bool, optional*  \n",
    "> A boolean flag that indicates whether animated plots are created in real time. The default is True.\n",
    ">\n",
    "> **n_stars** : *int, optional*\n",
    "> The number of background stars to include. Purely visual, has no impact on system dynamics. The default is 20. Large values may slow simulation speed. Large values may look cool."
   ]
  },
  {
   "cell_type": "code",
   "execution_count": 141,
   "id": "80c2d1df-5247-44cf-9de7-35c4d85780d5",
   "metadata": {},
   "outputs": [
    {
     "name": "stdout",
     "output_type": "stream",
     "text": [
      "You can open the visualizer by visiting the following URL:\n",
      "http://127.0.0.1:7003/static/\n"
     ]
    }
   ],
   "source": [
    "sim = ae353_spacecraft.Spacecraft_Sim(use_keyboard=True,\n",
    "                                      visualization=True,\n",
    "                                      animation=False,\n",
    "                                      n_stars=20)"
   ]
  },
  {
   "cell_type": "markdown",
   "id": "f66cf5e9-2574-4536-a1e4-fc5914435565",
   "metadata": {
    "jp-MarkdownHeadingCollapsed": true
   },
   "source": [
    "Now we are ready to run the simulation and collect data. To do this we call the ``sim.run()`` function. This function takes an instance of the ``Controller`` class as an argument and returns ``data``. The parameters and return values of ``sim.run()`` are shown below.\n",
    "\n",
    "#### Parameters\n",
    "\n",
    "> **controller** : *member of Controller class*  \n",
    "> Your controller that will generated inputs to the system.\n",
    ">\n",
    "> **initial_orientation** : *Array, shape(3,), optional*  \n",
    "> The initial orientation to apply to the spacecraft. The initial orientation is applied that the beginning of each simulation and whenever the simulation is reset. The three values in the initial_orientation array are roll, pitch, and yaw. Each value is in radians. Roll is defined as the rotation of the craft about the x-axis of the world coordinate system. Pitch is defined as the rotation of the craft about the y-axis of the world coordinate system. Yaw is defined as the rotation of the craft about the z-axis of the world coordinate system. The default value is [0., 0., 0.].\n",
    ">\n",
    "> **initial_ang_vel** : *Array, shape(3,), optional*  \n",
    "> The initial angular velocity to apply to the spacecraft. The initial angular velocity is applied that the beginning of each simulation and whenever the simulation is reset. The three values in the initial_ang_vel array are wx, wy, and wz. Each value is in radians per second. wx is defined as the rotation rate of the craft about the body-fixed x-axis. wy is defined as the rotation rate of the craft about the body-fixed y-axis. wz is defined as the rotation rate of the craft about the body-fixed z-axis. The default value is [0., 0., 0.].\n",
    ">  \n",
    "> **sensor_noise** : *Float, optional*  \n",
    "> The noise applied to the star tracker, i.e., the standard deviation of the components of each star tracker measurement. The default value is 0.1.\n",
    ">  \n",
    "> **debris** : *Bool, optional*  \n",
    "> A boolean flag that indicates whether or not random space debris will be spawned and strike the spacecraft.\n",
    ">  \n",
    "> **max_time** : *Float or None, optional*  \n",
    "> The total amount of time the simulation is allowed to run. If set to None, the simulation will run until \"ESC\" is pressed on the keyboard. If the keyboard is disabled, and max_time is set to None, the simulation will automatically terminate after 10 seconds of simulated time. The default value is None.\n",
    "\n",
    "#### Returns\n",
    "\n",
    "> **data** : *Dictionary of Lists*  \n",
    "> A dictionary containing all relevant data generated during the simulation. Specific data is extracted via the statement: data[\"KEYWORD\"], where \"KEYWORD\" is a key to the dictionary. The keys of data for this project are as follows:\n",
    ">  \n",
    "> **data[\"roll\"]** : *List of Floats*  \n",
    "> The roll of the craft in rad at every time stamp in the simulation. Roll is defined as the rotation of the craft about the x-axis of the world coordinate system.\n",
    ">  \n",
    "> **data[\"pitch\"]** : *List of Floats*  \n",
    "> The pitch of the craft in rad at every time stamp in the simulation. Pitch is defined as the rotation of the craft about the y-axis of the world coordinate system.\n",
    ">  \n",
    "> **data[\"yaw\"]** : *List of Floats*  \n",
    "> The yaw of the craft in rad at every time stamp in the simulation. Yaw is defined as the rotation of the craft about the z-axis of the world coordinate system.\n",
    ">  \n",
    "> **data[\"wx\"]** : *List of Floats*  \n",
    "> The angular velocity of the spacecraft about the body-fixed x axis at each time stamp in the simulation. Given in rad/sec.\n",
    ">  \n",
    "> **data[\"wy\"]** : *List of Floats*  \n",
    "> The angular velocity of the spacecraft about the body-fixed y axis at each time stamp in the simulation. Given in rad/sec.\n",
    ">  \n",
    "> **data[\"wz\"]** : *List of Floats*  \n",
    "> The angular velocity of the spacecraft about the body-fixed z axis at each time stamp in the simulation. Given in rad/sec.\n",
    ">  \n",
    "> **data[\"q stars\"]** : *List of 2D Coords*  \n",
    "> A list of the 2D coords of each star in the star-tracker image at each time stamp in the simulation. nan means that the star is not in the star tracker image.e.\n",
    ">  \n",
    "> **data[\"torques\"]** : *List of 4 Tuples of Floats*  \n",
    "> A list of the torques applied to each wheel of the spacecraft in Newton-meters at each time stamp during the simulation. The wheel order is 1, 2, 3, 4.\n",
    ">  \n",
    "> **data[\"wheel speeds\"]** : *List of 4 Tuples of Floats*  \n",
    "> A list of the wheel speeds of each wheel of the spacecraft in rad / sec at each time stamp during the simulation. The wheel order is 1, 2, 3, 4.\n",
    ">  \n",
    "> **data[\"time\"]** : *List of Floats*  \n",
    "> A list of the time stamps in seconds.  "
   ]
  },
  {
   "cell_type": "markdown",
   "id": "124639bf-1ee1-4311-b92c-8390c695242a",
   "metadata": {},
   "source": [
    "#### If enabled, you can use the keyboard to interact with the simulation:  \n",
    "> press **ENTER** to start the simulation  \n",
    "> press **BACKSPACE** to reset the simulation  \n",
    "> press **SPACE** to pause the simulation  \n",
    "> press **ESC** to end the simulation  \n",
    "\n",
    "#### If the manual controller is being used:\n",
    "> press **a** to apply small negative torque to wheel 1  \n",
    "> press **q** to apply small positive torque to wheel 1  \n",
    "> press **s** to apply small negative torque to wheel 2  \n",
    "> press **w** to apply small positive torque to wheel 2  \n",
    "> press **d** to apply small negative torque to wheel 3  \n",
    "> press **e** to apply small positive torque to wheel 3  \n",
    "> press **f** to apply small negative torque to wheel 4  \n",
    "> press **r** to apply small positive torque to wheel 4"
   ]
  },
  {
   "cell_type": "code",
   "execution_count": 142,
   "id": "75fefa5c-d205-44cc-84fb-0896513a6cec",
   "metadata": {},
   "outputs": [
    {
     "name": "stdout",
     "output_type": "stream",
     "text": [
      "PRESS ENTER TO START SIMULATION.\n",
      "PRESS ESC TO QUIT.\n",
      "PRESS SPACE TO PAUSE/RESUME SIMULATION.\n",
      "PRESS BACKSPACE TO RESET SIMULATION.\n",
      "CONTINUING...\n",
      "Star(s) out of view\n",
      "Termination command detected. Terminating keyboard listener. Goodbye\n"
     ]
    }
   ],
   "source": [
    "# Run the simulation and collect the simulation data\n",
    "data = sim.run(controller,\n",
    "               initial_orientation=[0., 0., 0.],\n",
    "               initial_ang_vel=[0., 0., 0.],\n",
    "               sensor_noise=10.,\n",
    "               debris=True,\n",
    "               max_time=60.0)"
   ]
  },
  {
   "cell_type": "markdown",
   "id": "0fadfcf6-c9d5-4d87-9ff7-8665522883e3",
   "metadata": {},
   "source": [
    "## FIXME: Post-processing the simulation data"
   ]
  },
  {
   "cell_type": "markdown",
   "id": "4d9710b3-e018-4921-839c-ff40946ef1f8",
   "metadata": {},
   "source": [
    "After the simulation is run, we can plot the data using the Matplotlib package. To start, we import matplotlib and numpy."
   ]
  },
  {
   "cell_type": "markdown",
   "id": "fcc05165-85a1-43f4-9ea7-e3a84d795869",
   "metadata": {},
   "source": [
    "Now we can make whichever plots we see fit to make sense of the simulation data. Here we plot the pitch versus time as well as the applied torques versus time.\n",
    "\n",
    "**THIS IS LEFT INTENTIONALLY AS INSUFFICIENT TO PROVE YOUR CONTROLLER CAN CONTROL THE SPACECRAFT.**"
   ]
  },
  {
   "cell_type": "code",
   "execution_count": 143,
   "id": "815349ed-356a-4194-bd7c-35db59ea26e9",
   "metadata": {},
   "outputs": [
    {
     "data": {
      "image/png": "[encoded data removed]",
      "text/plain": [
       "<Figure size 720x540 with 2 Axes>"
      ]
     },
     "metadata": {},
     "output_type": "display_data"
    }
   ],
   "source": [
    "# Create a figure that has two plots in it\n",
    "fig, axes = plt.subplots(2, 1, figsize=(7.2, 5.4), sharex=True)\n",
    "\n",
    "# Create a plot of the wheel speeds versus time on the first plot\n",
    "wheel_speeds = np.array(data['wheel speeds'])\n",
    "axes[0].plot(data['time'], wheel_speeds[:,0], c='k', lw=2.5, label=\"Wheel 1\")\n",
    "axes[0].plot(data['time'], wheel_speeds[:,1], c='r', lw=2.5, label=\"Wheel 2\")\n",
    "axes[0].plot(data['time'], wheel_speeds[:,2], c='g', lw=2.5, label=\"Wheel 3\")\n",
    "axes[0].plot(data['time'], wheel_speeds[:,3], c='b', lw=2.5, label=\"Wheel 4\")\n",
    "axes[0].set_ylabel(\"Wheel Speeds [rad / sec]\", fontsize=12)\n",
    "axes[0].tick_params(axis='y', labelsize=12)\n",
    "axes[0].legend(fontsize=12, shadow=True)\n",
    "axes[0].set_title(\"Wheel Speed vs. Time\", fontsize=14)\n",
    "axes[0].grid()\n",
    "\n",
    "# Create a plot of the torques versus time on the second plot\n",
    "torques = np.array(data['torques'])\n",
    "axes[1].plot(data['time'], torques[:,0], c='k', lw=2.5, label=\"Wheel 1\")\n",
    "axes[1].plot(data['time'], torques[:,1], c='r', lw=2.5, label=\"Wheel 2\")\n",
    "axes[1].plot(data['time'], torques[:,2], c='g', lw=2.5, label=\"Wheel 3\")\n",
    "axes[1].plot(data['time'], torques[:,3], c='b', lw=2.5, label=\"Wheel 4\")\n",
    "axes[1].set_xlabel(\"Time [s]\", fontsize=12)\n",
    "axes[1].set_ylabel(\"Torque [Nm]\", fontsize=12)\n",
    "axes[1].tick_params(axis='y', labelsize=12)\n",
    "axes[1].legend(fontsize=12, shadow=True)\n",
    "axes[1].set_title(\"Torque vs. Time\", fontsize=14)\n",
    "axes[1].grid()\n",
    "\n",
    "# Show the figure\n",
    "fig.tight_layout(pad=2.0)\n",
    "plt.show()"
   ]
  }
 ],
 "metadata": {
  "kernelspec": {
   "display_name": "Python 3 (ipykernel)",
   "language": "python",
   "name": "python3"
  },
  "language_info": {
   "codemirror_mode": {
    "name": "ipython",
    "version": 3
   },
   "file_extension": ".py",
   "mimetype": "text/x-python",
   "name": "python",
   "nbconvert_exporter": "python",
   "pygments_lexer": "ipython3",
   "version": "3.11.7"
  }
 },
 "nbformat": 4,
 "nbformat_minor": 5
}
